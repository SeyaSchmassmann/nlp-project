{
 "cells": [
  {
   "cell_type": "markdown",
   "id": "cd23b5e7",
   "metadata": {},
   "source": [
    "# LSTM"
   ]
  },
  {
   "cell_type": "markdown",
   "id": "ec1f59b7",
   "metadata": {},
   "source": [
    "## Imports"
   ]
  },
  {
   "cell_type": "code",
   "execution_count": null,
   "id": "b4b65011-f9d7-4d0e-840e-10c5dcb2b79e",
   "metadata": {},
   "outputs": [],
   "source": [
    "!pip install pandas\n",
    "!pip install numpy\n",
    "!pip install torchvision\n",
    "!pip install scikit-learn\n",
    "!pip install tensorflow\n",
    "!pip install seaborn\n",
    "!pip install wandb"
   ]
  },
  {
   "cell_type": "code",
   "execution_count": null,
   "id": "fdda3f44-b65b-460c-833d-b0ed750ad566",
   "metadata": {},
   "outputs": [],
   "source": [
    "import pandas as pd\n",
    "import numpy as np\n",
    "from sklearn.metrics import precision_recall_fscore_support\n",
    "from sklearn.model_selection import train_test_split\n",
    "from sklearn.preprocessing import LabelEncoder\n",
    "import torch\n",
    "from torch.utils.data import Dataset\n",
    "import os\n",
    "from tensorflow.keras.preprocessing.text import Tokenizer\n",
    "from tensorflow.keras.preprocessing.sequence import pad_sequences\n",
    "from tensorflow.keras.models import Sequential\n",
    "from tensorflow.keras.layers import Embedding, LSTM, Dense, Dropout\n",
    "from sklearn.metrics import classification_report\n",
    "from sklearn.metrics import confusion_matrix\n",
    "import seaborn as sns\n",
    "import matplotlib.pyplot as plt\n",
    "import wandb\n",
    "import time\n",
    "from models.utils.evaluationUtility import calculate_metrics"
   ]
  },
  {
   "cell_type": "code",
   "execution_count": null,
   "id": "5fe88d14",
   "metadata": {},
   "outputs": [],
   "source": [
    "IS_PAPERSPACE = os.getcwd().startswith('/notebooks')\n",
    "dir_env = os.path.join(os.getcwd(), '.env') if IS_PAPERSPACE else os.path.join(os.getcwd(), '..', '.env')\n",
    "_ = load_dotenv(dotenv_path=dir_env)"
   ]
  },
  {
   "cell_type": "markdown",
   "id": "32ef86b8",
   "metadata": {},
   "source": [
    "## Data and Vectorization"
   ]
  },
  {
   "cell_type": "code",
   "execution_count": null,
   "id": "e2305041-3dde-4ca9-86b9-b9e905ec444b",
   "metadata": {},
   "outputs": [],
   "source": [
    "df_traindata = pd.read_csv(\"data/train.csv\") if IS_PAPERSPACE else pd.read_csv(\"../data/train.csv\")\n",
    "\n",
    "label_encoder = LabelEncoder()\n",
    "labels = label_encoder.fit_transform(df_traindata['sentiment'].tolist())\n",
    "\n",
    "tokenizer = Tokenizer(num_words=10000, oov_token='<OOV>')\n",
    "tokenizer.fit_on_texts(df_traindata['text'].tolist())\n",
    "sequences = tokenizer.texts_to_sequences(df_traindata['text'].tolist())\n",
    "padded_sequences = pad_sequences(sequences, maxlen=15, padding='post', truncating='post')\n",
    "\n",
    "train_texts, validation_texts, train_labels, validation_labels = train_test_split(\n",
    "    padded_sequences.tolist(), \n",
    "    labels.tolist(), \n",
    "    test_size=0.2, \n",
    "    random_state=42\n",
    ")\n",
    "train_texts = np.array(train_texts)\n",
    "train_labels = np.array(train_labels)\n",
    "validation_texts = np.array(validation_texts)\n",
    "validation_labels = np.array(validation_labels)\n",
    "\n",
    "df_testdata = pd.read_csv(\"data/test.csv\") if IS_PAPERSPACE else pd.read_csv(\"../data/test.csv\")\n",
    "label_encoder = LabelEncoder()\n",
    "labels_test = label_encoder.fit_transform(df_testdata['sentiment'].tolist())\n",
    "\n",
    "tokenizer = Tokenizer(num_words=10000, oov_token='<OOV>')\n",
    "tokenizer.fit_on_texts(df_testdata['text'].tolist())\n",
    "sequences = tokenizer.texts_to_sequences(df_testdata['text'].tolist())\n",
    "padded_sequences_test = pad_sequences(sequences, maxlen=100, padding='post', truncating='post')\n"
   ]
  },
  {
   "cell_type": "markdown",
   "id": "966f37f1",
   "metadata": {},
   "source": [
    "## Models"
   ]
  },
  {
   "cell_type": "code",
   "execution_count": null,
   "id": "00ecc6cd-1b3f-4a5b-a6bd-cfb5a5447f15",
   "metadata": {},
   "outputs": [],
   "source": [
    "wandb.login(key=os.getenv('WANDB_KEY'))\n",
    "wandb.init(project=\"nlp-lantsch-schmassmann-wigger\", entity=\"nlp-lantsch-schmassmann-wigger\")\n",
    "\n",
    "model = Sequential([\n",
    "    Embedding(input_dim=10000, output_dim=64),\n",
    "    LSTM(64, return_sequences=False),\n",
    "    Dropout(0.5),\n",
    "    Dense(64, activation='relu'),\n",
    "    Dropout(0.5),\n",
    "    Dense(1, activation='sigmoid')\n",
    "])\n",
    "\n",
    "model.compile(optimizer='adam', loss='binary_crossentropy', metrics=['accuracy'])\n",
    "\n",
    "class WandbCallback(wandb.keras.WandbCallback):\n",
    "    def on_epoch_end(self, epoch, logs=None):\n",
    "        wandb.log({\n",
    "            \"epoch_loss\": logs[\"loss\"],\n",
    "            \"epoch_accuracy\": logs[\"accuracy\"],\n",
    "            \"val_loss\": logs[\"val_loss\"],\n",
    "            \"val_accuracy\": logs[\"val_accuracy\"]\n",
    "        })\n",
    "        super().on_epoch_end(epoch, logs)\n",
    "\n",
    "start_time = time.time()\n",
    "history = model.fit(\n",
    "    train_texts,\n",
    "    train_labels,\n",
    "    epochs=10,\n",
    "    batch_size=32,\n",
    "    validation_data=(validation_texts, validation_labels),\n",
    "    callbacks=[WandbCallback(save_graph=False, save_model=False)]\n",
    ")\n",
    "end_time = time.time()\n",
    "training_duration = end_time - start_time\n",
    "calculate_metrics(model, validation_texts, validation_labels, validation_texts, validation_labels, \"LabelEncoder\", \"Tokenizer\", \"lstm\", training_duration)\n",
    "\n",
    "wandb.finish()"
   ]
  },
  {
   "cell_type": "code",
   "execution_count": null,
   "id": "998580ab-7187-4da0-81d8-873180a9ec62",
   "metadata": {},
   "outputs": [],
   "source": [
    "wandb.login(key=os.getenv('WANDB_KEY'))\n",
    "wandb.init(project=\"nlp-lantsch-schmassmann-wigger\", entity=\"nlp-lantsch-schmassmann-wigger\")\n",
    "\n",
    "model = Sequential([\n",
    "    Embedding(input_dim=10000, output_dim=64),\n",
    "    LSTM(32, return_sequences=False),\n",
    "    Dropout(0.5),\n",
    "    Dense(32, activation='relu'),\n",
    "    Dropout(0.5),\n",
    "    Dense(1, activation='sigmoid')\n",
    "])\n",
    "\n",
    "model.compile(optimizer='adam', loss='binary_crossentropy', metrics=['accuracy'])\n",
    "\n",
    "class WandbCallback(wandb.keras.WandbCallback):\n",
    "    def on_epoch_end(self, epoch, logs=None):\n",
    "        wandb.log({\n",
    "            \"epoch_loss\": logs[\"loss\"],\n",
    "            \"epoch_accuracy\": logs[\"accuracy\"],\n",
    "            \"val_loss\": logs[\"val_loss\"],\n",
    "            \"val_accuracy\": logs[\"val_accuracy\"]\n",
    "        })\n",
    "        super().on_epoch_end(epoch, logs)\n",
    "\n",
    "start_time = time.time()\n",
    "history = model.fit(\n",
    "    train_texts,\n",
    "    train_labels,\n",
    "    epochs=10,\n",
    "    batch_size=32,\n",
    "    validation_data=(validation_texts, validation_labels),\n",
    "    callbacks=[WandbCallback(save_graph=False, save_model=False)]\n",
    ")\n",
    "end_time = time.time()\n",
    "training_duration = end_time - start_time\n",
    "calculate_metrics(model, validation_texts, validation_labels, validation_texts, validation_labels, \"LabelEncoder\", \"Tokenizer\", \"lstm\", training_duration)\n",
    "\n",
    "wandb.finish()"
   ]
  }
 ],
 "metadata": {
  "kernelspec": {
   "display_name": "Python 3 (ipykernel)",
   "language": "python",
   "name": "python3"
  },
  "language_info": {
   "codemirror_mode": {
    "name": "ipython",
    "version": 3
   },
   "file_extension": ".py",
   "mimetype": "text/x-python",
   "name": "python",
   "nbconvert_exporter": "python",
   "pygments_lexer": "ipython3",
   "version": "3.12.9"
  }
 },
 "nbformat": 4,
 "nbformat_minor": 5
}
