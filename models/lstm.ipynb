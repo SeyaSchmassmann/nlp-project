{
 "cells": [
  {
   "cell_type": "markdown",
   "id": "f7444a1b",
   "metadata": {},
   "source": [
    "# LSTM"
   ]
  },
  {
   "cell_type": "markdown",
   "id": "4c6a6890",
   "metadata": {},
   "source": [
    "## Imports / Settings"
   ]
  },
  {
   "cell_type": "code",
   "execution_count": 1,
   "id": "55aa43ae",
   "metadata": {},
   "outputs": [
    {
     "name": "stdout",
     "output_type": "stream",
     "text": [
      "Collecting dotenv\n",
      "  Downloading dotenv-0.9.9-py2.py3-none-any.whl.metadata (279 bytes)\n",
      "Collecting python-dotenv (from dotenv)\n",
      "  Downloading python_dotenv-1.1.0-py3-none-any.whl.metadata (24 kB)\n",
      "Downloading dotenv-0.9.9-py2.py3-none-any.whl (1.9 kB)\n",
      "Downloading python_dotenv-1.1.0-py3-none-any.whl (20 kB)\n",
      "Installing collected packages: python-dotenv, dotenv\n",
      "Successfully installed dotenv-0.9.9 python-dotenv-1.1.0\n",
      "\u001b[33mWARNING: Running pip as the 'root' user can result in broken permissions and conflicting behaviour with the system package manager. It is recommended to use a virtual environment instead: https://pip.pypa.io/warnings/venv\u001b[0m\u001b[33m\n",
      "\u001b[0mNote: you may need to restart the kernel to use updated packages.\n",
      "Requirement already satisfied: spacy in /usr/local/lib/python3.11/dist-packages (3.6.1)\n",
      "Requirement already satisfied: spacy-legacy<3.1.0,>=3.0.11 in /usr/local/lib/python3.11/dist-packages (from spacy) (3.0.12)\n",
      "Requirement already satisfied: spacy-loggers<2.0.0,>=1.0.0 in /usr/local/lib/python3.11/dist-packages (from spacy) (1.0.5)\n",
      "Requirement already satisfied: murmurhash<1.1.0,>=0.28.0 in /usr/local/lib/python3.11/dist-packages (from spacy) (1.0.10)\n",
      "Requirement already satisfied: cymem<2.1.0,>=2.0.2 in /usr/local/lib/python3.11/dist-packages (from spacy) (2.0.8)\n",
      "Requirement already satisfied: preshed<3.1.0,>=3.0.2 in /usr/local/lib/python3.11/dist-packages (from spacy) (3.0.9)\n",
      "Requirement already satisfied: thinc<8.2.0,>=8.1.8 in /usr/local/lib/python3.11/dist-packages (from spacy) (8.1.12)\n",
      "Requirement already satisfied: wasabi<1.2.0,>=0.9.1 in /usr/local/lib/python3.11/dist-packages (from spacy) (1.1.2)\n",
      "Requirement already satisfied: srsly<3.0.0,>=2.4.3 in /usr/local/lib/python3.11/dist-packages (from spacy) (2.4.8)\n",
      "Requirement already satisfied: catalogue<2.1.0,>=2.0.6 in /usr/local/lib/python3.11/dist-packages (from spacy) (2.0.10)\n",
      "Requirement already satisfied: typer<0.10.0,>=0.3.0 in /usr/local/lib/python3.11/dist-packages (from spacy) (0.9.0)\n",
      "Requirement already satisfied: pathy>=0.10.0 in /usr/local/lib/python3.11/dist-packages (from spacy) (0.11.0)\n",
      "Requirement already satisfied: smart-open<7.0.0,>=5.2.1 in /usr/local/lib/python3.11/dist-packages (from spacy) (6.4.0)\n",
      "Requirement already satisfied: tqdm<5.0.0,>=4.38.0 in /usr/local/lib/python3.11/dist-packages (from spacy) (4.66.1)\n",
      "Requirement already satisfied: numpy>=1.15.0 in /usr/local/lib/python3.11/dist-packages (from spacy) (1.26.3)\n",
      "Requirement already satisfied: requests<3.0.0,>=2.13.0 in /usr/local/lib/python3.11/dist-packages (from spacy) (2.31.0)\n",
      "Requirement already satisfied: pydantic!=1.8,!=1.8.1,<3.0.0,>=1.7.4 in /usr/local/lib/python3.11/dist-packages (from spacy) (1.10.14)\n",
      "Requirement already satisfied: jinja2 in /usr/local/lib/python3.11/dist-packages (from spacy) (3.1.3)\n",
      "Requirement already satisfied: setuptools in /usr/local/lib/python3.11/dist-packages (from spacy) (69.0.3)\n",
      "Requirement already satisfied: packaging>=20.0 in /usr/local/lib/python3.11/dist-packages (from spacy) (23.2)\n",
      "Requirement already satisfied: langcodes<4.0.0,>=3.2.0 in /usr/local/lib/python3.11/dist-packages (from spacy) (3.3.0)\n",
      "Requirement already satisfied: pathlib-abc==0.1.1 in /usr/local/lib/python3.11/dist-packages (from pathy>=0.10.0->spacy) (0.1.1)\n",
      "Requirement already satisfied: typing-extensions>=4.2.0 in /usr/local/lib/python3.11/dist-packages (from pydantic!=1.8,!=1.8.1,<3.0.0,>=1.7.4->spacy) (4.9.0)\n",
      "Requirement already satisfied: charset-normalizer<4,>=2 in /usr/local/lib/python3.11/dist-packages (from requests<3.0.0,>=2.13.0->spacy) (3.3.2)\n",
      "Requirement already satisfied: idna<4,>=2.5 in /usr/lib/python3/dist-packages (from requests<3.0.0,>=2.13.0->spacy) (3.3)\n",
      "Requirement already satisfied: urllib3<3,>=1.21.1 in /usr/local/lib/python3.11/dist-packages (from requests<3.0.0,>=2.13.0->spacy) (2.0.7)\n",
      "Requirement already satisfied: certifi>=2017.4.17 in /usr/lib/python3/dist-packages (from requests<3.0.0,>=2.13.0->spacy) (2020.6.20)\n",
      "Requirement already satisfied: blis<0.8.0,>=0.7.8 in /usr/local/lib/python3.11/dist-packages (from thinc<8.2.0,>=8.1.8->spacy) (0.7.11)\n",
      "Requirement already satisfied: confection<1.0.0,>=0.0.1 in /usr/local/lib/python3.11/dist-packages (from thinc<8.2.0,>=8.1.8->spacy) (0.1.4)\n",
      "Requirement already satisfied: click<9.0.0,>=7.1.1 in /usr/local/lib/python3.11/dist-packages (from typer<0.10.0,>=0.3.0->spacy) (8.1.7)\n",
      "Requirement already satisfied: MarkupSafe>=2.0 in /usr/local/lib/python3.11/dist-packages (from jinja2->spacy) (2.1.4)\n",
      "\u001b[33mWARNING: Running pip as the 'root' user can result in broken permissions and conflicting behaviour with the system package manager. It is recommended to use a virtual environment instead: https://pip.pypa.io/warnings/venv\u001b[0m\u001b[33m\n",
      "\u001b[0mNote: you may need to restart the kernel to use updated packages.\n",
      "2025-06-14 15:12:34.817553: E external/local_xla/xla/stream_executor/cuda/cuda_dnn.cc:9261] Unable to register cuDNN factory: Attempting to register factory for plugin cuDNN when one has already been registered\n",
      "2025-06-14 15:12:34.817784: E external/local_xla/xla/stream_executor/cuda/cuda_fft.cc:607] Unable to register cuFFT factory: Attempting to register factory for plugin cuFFT when one has already been registered\n",
      "2025-06-14 15:12:34.943692: E external/local_xla/xla/stream_executor/cuda/cuda_blas.cc:1515] Unable to register cuBLAS factory: Attempting to register factory for plugin cuBLAS when one has already been registered\n",
      "2025-06-14 15:12:35.038779: I tensorflow/core/platform/cpu_feature_guard.cc:182] This TensorFlow binary is optimized to use available CPU instructions in performance-critical operations.\n",
      "To enable the following instructions: AVX2 FMA, in other operations, rebuild TensorFlow with the appropriate compiler flags.\n",
      "2025-06-14 15:12:37.155390: W tensorflow/compiler/tf2tensorrt/utils/py_utils.cc:38] TF-TRT Warning: Could not find TensorRT\n",
      "2025-06-14 15:12:40.003297: I external/local_xla/xla/stream_executor/cuda/cuda_executor.cc:901] successful NUMA node read from SysFS had negative value (-1), but there must be at least one NUMA node, so returning NUMA node zero. See more at https://github.com/torvalds/linux/blob/v6.0/Documentation/ABI/testing/sysfs-bus-pci#L344-L355\n",
      "2025-06-14 15:12:40.004102: I external/local_xla/xla/stream_executor/cuda/cuda_executor.cc:901] successful NUMA node read from SysFS had negative value (-1), but there must be at least one NUMA node, so returning NUMA node zero. See more at https://github.com/torvalds/linux/blob/v6.0/Documentation/ABI/testing/sysfs-bus-pci#L344-L355\n",
      "2025-06-14 15:12:40.004538: I external/local_xla/xla/stream_executor/cuda/cuda_executor.cc:901] successful NUMA node read from SysFS had negative value (-1), but there must be at least one NUMA node, so returning NUMA node zero. See more at https://github.com/torvalds/linux/blob/v6.0/Documentation/ABI/testing/sysfs-bus-pci#L344-L355\n",
      "Collecting en-core-web-sm==3.6.0\n",
      "  Downloading https://github.com/explosion/spacy-models/releases/download/en_core_web_sm-3.6.0/en_core_web_sm-3.6.0-py3-none-any.whl (12.8 MB)\n",
      "\u001b[2K     \u001b[90m━━━━━━━━━━━━━━━━━━━━━━━━━━━━━━━━━━━━━━━━\u001b[0m \u001b[32m12.8/12.8 MB\u001b[0m \u001b[31m80.1 MB/s\u001b[0m eta \u001b[36m0:00:00\u001b[0m00:01\u001b[0m00:01\u001b[0m\n",
      "\u001b[?25hRequirement already satisfied: spacy<3.7.0,>=3.6.0 in /usr/local/lib/python3.11/dist-packages (from en-core-web-sm==3.6.0) (3.6.1)\n",
      "Requirement already satisfied: spacy-legacy<3.1.0,>=3.0.11 in /usr/local/lib/python3.11/dist-packages (from spacy<3.7.0,>=3.6.0->en-core-web-sm==3.6.0) (3.0.12)\n",
      "Requirement already satisfied: spacy-loggers<2.0.0,>=1.0.0 in /usr/local/lib/python3.11/dist-packages (from spacy<3.7.0,>=3.6.0->en-core-web-sm==3.6.0) (1.0.5)\n",
      "Requirement already satisfied: murmurhash<1.1.0,>=0.28.0 in /usr/local/lib/python3.11/dist-packages (from spacy<3.7.0,>=3.6.0->en-core-web-sm==3.6.0) (1.0.10)\n",
      "Requirement already satisfied: cymem<2.1.0,>=2.0.2 in /usr/local/lib/python3.11/dist-packages (from spacy<3.7.0,>=3.6.0->en-core-web-sm==3.6.0) (2.0.8)\n",
      "Requirement already satisfied: preshed<3.1.0,>=3.0.2 in /usr/local/lib/python3.11/dist-packages (from spacy<3.7.0,>=3.6.0->en-core-web-sm==3.6.0) (3.0.9)\n",
      "Requirement already satisfied: thinc<8.2.0,>=8.1.8 in /usr/local/lib/python3.11/dist-packages (from spacy<3.7.0,>=3.6.0->en-core-web-sm==3.6.0) (8.1.12)\n",
      "Requirement already satisfied: wasabi<1.2.0,>=0.9.1 in /usr/local/lib/python3.11/dist-packages (from spacy<3.7.0,>=3.6.0->en-core-web-sm==3.6.0) (1.1.2)\n",
      "Requirement already satisfied: srsly<3.0.0,>=2.4.3 in /usr/local/lib/python3.11/dist-packages (from spacy<3.7.0,>=3.6.0->en-core-web-sm==3.6.0) (2.4.8)\n",
      "Requirement already satisfied: catalogue<2.1.0,>=2.0.6 in /usr/local/lib/python3.11/dist-packages (from spacy<3.7.0,>=3.6.0->en-core-web-sm==3.6.0) (2.0.10)\n",
      "Requirement already satisfied: typer<0.10.0,>=0.3.0 in /usr/local/lib/python3.11/dist-packages (from spacy<3.7.0,>=3.6.0->en-core-web-sm==3.6.0) (0.9.0)\n",
      "Requirement already satisfied: pathy>=0.10.0 in /usr/local/lib/python3.11/dist-packages (from spacy<3.7.0,>=3.6.0->en-core-web-sm==3.6.0) (0.11.0)\n",
      "Requirement already satisfied: smart-open<7.0.0,>=5.2.1 in /usr/local/lib/python3.11/dist-packages (from spacy<3.7.0,>=3.6.0->en-core-web-sm==3.6.0) (6.4.0)\n",
      "Requirement already satisfied: tqdm<5.0.0,>=4.38.0 in /usr/local/lib/python3.11/dist-packages (from spacy<3.7.0,>=3.6.0->en-core-web-sm==3.6.0) (4.66.1)\n",
      "Requirement already satisfied: numpy>=1.15.0 in /usr/local/lib/python3.11/dist-packages (from spacy<3.7.0,>=3.6.0->en-core-web-sm==3.6.0) (1.26.3)\n",
      "Requirement already satisfied: requests<3.0.0,>=2.13.0 in /usr/local/lib/python3.11/dist-packages (from spacy<3.7.0,>=3.6.0->en-core-web-sm==3.6.0) (2.31.0)\n",
      "Requirement already satisfied: pydantic!=1.8,!=1.8.1,<3.0.0,>=1.7.4 in /usr/local/lib/python3.11/dist-packages (from spacy<3.7.0,>=3.6.0->en-core-web-sm==3.6.0) (1.10.14)\n",
      "Requirement already satisfied: jinja2 in /usr/local/lib/python3.11/dist-packages (from spacy<3.7.0,>=3.6.0->en-core-web-sm==3.6.0) (3.1.3)\n",
      "Requirement already satisfied: setuptools in /usr/local/lib/python3.11/dist-packages (from spacy<3.7.0,>=3.6.0->en-core-web-sm==3.6.0) (69.0.3)\n",
      "Requirement already satisfied: packaging>=20.0 in /usr/local/lib/python3.11/dist-packages (from spacy<3.7.0,>=3.6.0->en-core-web-sm==3.6.0) (23.2)\n",
      "Requirement already satisfied: langcodes<4.0.0,>=3.2.0 in /usr/local/lib/python3.11/dist-packages (from spacy<3.7.0,>=3.6.0->en-core-web-sm==3.6.0) (3.3.0)\n",
      "Requirement already satisfied: pathlib-abc==0.1.1 in /usr/local/lib/python3.11/dist-packages (from pathy>=0.10.0->spacy<3.7.0,>=3.6.0->en-core-web-sm==3.6.0) (0.1.1)\n",
      "Requirement already satisfied: typing-extensions>=4.2.0 in /usr/local/lib/python3.11/dist-packages (from pydantic!=1.8,!=1.8.1,<3.0.0,>=1.7.4->spacy<3.7.0,>=3.6.0->en-core-web-sm==3.6.0) (4.9.0)\n",
      "Requirement already satisfied: charset-normalizer<4,>=2 in /usr/local/lib/python3.11/dist-packages (from requests<3.0.0,>=2.13.0->spacy<3.7.0,>=3.6.0->en-core-web-sm==3.6.0) (3.3.2)\n",
      "Requirement already satisfied: idna<4,>=2.5 in /usr/lib/python3/dist-packages (from requests<3.0.0,>=2.13.0->spacy<3.7.0,>=3.6.0->en-core-web-sm==3.6.0) (3.3)\n",
      "Requirement already satisfied: urllib3<3,>=1.21.1 in /usr/local/lib/python3.11/dist-packages (from requests<3.0.0,>=2.13.0->spacy<3.7.0,>=3.6.0->en-core-web-sm==3.6.0) (2.0.7)\n",
      "Requirement already satisfied: certifi>=2017.4.17 in /usr/lib/python3/dist-packages (from requests<3.0.0,>=2.13.0->spacy<3.7.0,>=3.6.0->en-core-web-sm==3.6.0) (2020.6.20)\n",
      "Requirement already satisfied: blis<0.8.0,>=0.7.8 in /usr/local/lib/python3.11/dist-packages (from thinc<8.2.0,>=8.1.8->spacy<3.7.0,>=3.6.0->en-core-web-sm==3.6.0) (0.7.11)\n",
      "Requirement already satisfied: confection<1.0.0,>=0.0.1 in /usr/local/lib/python3.11/dist-packages (from thinc<8.2.0,>=8.1.8->spacy<3.7.0,>=3.6.0->en-core-web-sm==3.6.0) (0.1.4)\n",
      "Requirement already satisfied: click<9.0.0,>=7.1.1 in /usr/local/lib/python3.11/dist-packages (from typer<0.10.0,>=0.3.0->spacy<3.7.0,>=3.6.0->en-core-web-sm==3.6.0) (8.1.7)\n",
      "Requirement already satisfied: MarkupSafe>=2.0 in /usr/local/lib/python3.11/dist-packages (from jinja2->spacy<3.7.0,>=3.6.0->en-core-web-sm==3.6.0) (2.1.4)\n",
      "Installing collected packages: en-core-web-sm\n",
      "Successfully installed en-core-web-sm-3.6.0\n",
      "\u001b[33mWARNING: Running pip as the 'root' user can result in broken permissions and conflicting behaviour with the system package manager. It is recommended to use a virtual environment instead: https://pip.pypa.io/warnings/venv\u001b[0m\u001b[33m\n",
      "\u001b[0m\u001b[38;5;2m✔ Download and installation successful\u001b[0m\n",
      "You can now load the package via spacy.load('en_core_web_sm')\n"
     ]
    }
   ],
   "source": [
    "%pip install dotenv\n",
    "%pip install spacy\n",
    "!python -m spacy download en_core_web_sm"
   ]
  },
  {
   "cell_type": "code",
   "execution_count": 2,
   "id": "800b3b12",
   "metadata": {},
   "outputs": [],
   "source": [
    "%load_ext autoreload\n",
    "%autoreload 2"
   ]
  },
  {
   "cell_type": "code",
   "execution_count": 26,
   "id": "a6338c26",
   "metadata": {},
   "outputs": [],
   "source": [
    "import pandas as pd\n",
    "from dotenv import load_dotenv\n",
    "from sklearn.model_selection import train_test_split\n",
    "from sklearn.metrics import precision_recall_fscore_support\n",
    "import os\n",
    "\n",
    "import torch\n",
    "import torch.nn as nn\n",
    "from torch.utils.data import Dataset, DataLoader\n",
    "from collections import Counter\n",
    "import pandas as pd\n",
    "from tqdm import tqdm\n",
    "import re\n",
    "\n",
    "import spacy\n",
    "import time\n",
    "\n",
    "from utils.evaluationUtility import analyze_all_results"
   ]
  },
  {
   "cell_type": "code",
   "execution_count": 4,
   "id": "5b7ecfd0",
   "metadata": {},
   "outputs": [],
   "source": [
    "IS_PAPERSPACE = os.getcwd().startswith('/notebooks')\n",
    "dir_env = os.path.join(os.getcwd(), '.env') if IS_PAPERSPACE else os.path.join(os.getcwd(), '..', '.env')\n",
    "_ = load_dotenv(dotenv_path=dir_env)"
   ]
  },
  {
   "cell_type": "code",
   "execution_count": 5,
   "id": "15f949d9",
   "metadata": {},
   "outputs": [
    {
     "name": "stdout",
     "output_type": "stream",
     "text": [
      "Using GPU: Quadro P5000\n"
     ]
    }
   ],
   "source": [
    "device = torch.device('cuda' if torch.cuda.is_available() else 'cpu')\n",
    "if torch.cuda.is_available():\n",
    "    print(f'Using GPU: {torch.cuda.get_device_name(0)}')"
   ]
  },
  {
   "cell_type": "markdown",
   "id": "b691876b",
   "metadata": {},
   "source": [
    "## Data"
   ]
  },
  {
   "cell_type": "code",
   "execution_count": 6,
   "id": "f7f9a678",
   "metadata": {},
   "outputs": [],
   "source": [
    "df_traindata = pd.read_csv(\"data/train.csv\") if IS_PAPERSPACE else pd.read_csv(\"../data/train.csv\")\n",
    "train_texts, validation_texts, train_labels, validation_labels = train_test_split(\n",
    "    df_traindata['text'].tolist(), \n",
    "    df_traindata['sentiment'].tolist(), \n",
    "    test_size=0.2, \n",
    "    random_state=42\n",
    ")\n",
    "\n",
    "df_testdata = pd.read_csv(\"data/test.csv\") if IS_PAPERSPACE else pd.read_csv(\"../data/test.csv\")\n",
    "test_texts = df_testdata['text'].tolist()\n",
    "test_labels = df_testdata['sentiment'].tolist()"
   ]
  },
  {
   "cell_type": "code",
   "execution_count": 7,
   "id": "32565d8d",
   "metadata": {},
   "outputs": [],
   "source": [
    "class SentimentDataset(Dataset):\n",
    "    def __init__(self, texts, labels=None, vocabulary=None):\n",
    "        self.texts = texts\n",
    "        self.labels = labels\n",
    "        self.vocabulary = vocabulary\n",
    "\n",
    "    def __len__(self):\n",
    "        return len(self.texts)\n",
    "\n",
    "    def __getitem__(self, idx):\n",
    "        return torch.tensor(self.vocabulary.numericalize(self.texts[idx])), torch.tensor(self.labels[idx])\n",
    "    \n",
    "def pad_collate(batch):\n",
    "    texts, labels = zip(*batch)\n",
    "    lengths = torch.tensor([len(x) for x in texts])\n",
    "    padded = nn.utils.rnn.pad_sequence(texts, batch_first=True, padding_value=0)\n",
    "    return padded, lengths, torch.tensor(labels).float()"
   ]
  },
  {
   "cell_type": "code",
   "execution_count": 8,
   "id": "a7a17ee8",
   "metadata": {},
   "outputs": [],
   "source": [
    "class TokenizedSentimentDataset(Dataset):\n",
    "    def __init__(self, inputs, labels):\n",
    "        self.inputs = inputs\n",
    "        self.labels = [torch.tensor(label, dtype=torch.float) for label in labels]\n",
    "\n",
    "    def __len__(self):\n",
    "        return len(self.inputs)\n",
    "\n",
    "    def __getitem__(self, idx):\n",
    "        return self.inputs[idx], self.labels[idx]"
   ]
  },
  {
   "cell_type": "markdown",
   "id": "e03fb587",
   "metadata": {},
   "source": [
    "## Tokenizer"
   ]
  },
  {
   "cell_type": "code",
   "execution_count": 9,
   "id": "852d5f89",
   "metadata": {},
   "outputs": [],
   "source": [
    "def simple_tokenizer(text):\n",
    "    text = re.sub(r'[^a-zA-Z0-9\\s]', '', text.lower())\n",
    "    return text.split()\n",
    "\n",
    "class Vocabulary:\n",
    "    def __init__(self, texts, tokenizer, min_freq=2):\n",
    "        self.tokenizer = tokenizer\n",
    "        counter = Counter()\n",
    "        for text in texts:\n",
    "            counter.update(self.tokenizer(text))\n",
    "        \n",
    "        self.stoi = {\"<PAD>\": 0, \"<UNK>\": 1}\n",
    "        for word, freq in counter.items():\n",
    "            if freq >= min_freq:\n",
    "                self.stoi[word] = len(self.stoi)\n",
    "        self.itos = {i: s for s, i in self.stoi.items()}\n",
    "\n",
    "    def numericalize(self, text):\n",
    "        return [self.stoi.get(word, self.stoi[\"<UNK>\"]) for word in self.tokenizer(text)]\n",
    "    \n",
    "nlp = spacy.load(\"en_core_web_sm\")\n",
    "\n",
    "def spacy_tokenizer(text):\n",
    "    return [token.text for token in nlp(text) if not token.is_punct and not token.is_space]\n",
    "\n",
    "class TokenizedVocabulary:\n",
    "    def __init__(self, tokenized_texts, min_freq=2):\n",
    "        counter = Counter()\n",
    "        for tokens in tokenized_texts:\n",
    "            counter.update(tokens)\n",
    "\n",
    "        self.stoi = {\"<PAD>\": 0, \"<UNK>\": 1}\n",
    "        for word, freq in counter.items():\n",
    "            if freq >= min_freq:\n",
    "                self.stoi[word] = len(self.stoi)\n",
    "        self.itos = {i: s for s, i in self.stoi.items()}\n",
    "\n",
    "    def numericalize(self, tokens):\n",
    "        return [self.stoi.get(token, self.stoi[\"<UNK>\"]) for token in tokens]"
   ]
  },
  {
   "cell_type": "markdown",
   "id": "7fd52aef",
   "metadata": {},
   "source": [
    "## Embedding"
   ]
  },
  {
   "cell_type": "code",
   "execution_count": 10,
   "id": "128462e6",
   "metadata": {},
   "outputs": [],
   "source": [
    "def load_glove_embeddings(vocab, glove_path=\"glove.6B.100d.txt\", dim=100):\n",
    "    embeddings_index = {}\n",
    "    with open(glove_path, encoding=\"utf8\") as f:\n",
    "        for line in f:\n",
    "            values = line.strip().split()\n",
    "            word = values[0]\n",
    "            vector = torch.tensor([float(val) for val in values[1:]], dtype=torch.float)\n",
    "            embeddings_index[word] = vector\n",
    "\n",
    "    embedding_matrix = torch.randn(len(vocab.stoi), dim)  # Random init\n",
    "    for word, idx in vocab.stoi.items():\n",
    "        if word in embeddings_index:\n",
    "            embedding_matrix[idx] = embeddings_index[word]\n",
    "\n",
    "    return embedding_matrix"
   ]
  },
  {
   "cell_type": "markdown",
   "id": "846a753c",
   "metadata": {},
   "source": [
    "## Classifier"
   ]
  },
  {
   "cell_type": "code",
   "execution_count": 11,
   "id": "f8b634ca",
   "metadata": {},
   "outputs": [],
   "source": [
    "class LSTMSentimentClassifier(nn.Module):\n",
    "    def __init__(self, vocab_size, embed_dim, hidden_dim, output_dim, num_layers, bidirectional, dropout):\n",
    "        super().__init__()\n",
    "        self.embedding = nn.Embedding(vocab_size, embed_dim, padding_idx=0)\n",
    "        self.lstm = nn.LSTM(embed_dim, hidden_dim, num_layers=num_layers,\n",
    "                            bidirectional=bidirectional, batch_first=True, dropout=dropout)\n",
    "        self.fc = nn.Linear(hidden_dim * 2 if bidirectional else hidden_dim, output_dim)\n",
    "        self.dropout = nn.Dropout(dropout)\n",
    "\n",
    "    def forward(self, x, lengths):\n",
    "        embedded = self.dropout(self.embedding(x))\n",
    "        packed = nn.utils.rnn.pack_padded_sequence(embedded, lengths.cpu(), batch_first=True, enforce_sorted=False)\n",
    "        _, (hidden, _) = self.lstm(packed)\n",
    "        if self.lstm.bidirectional:\n",
    "            hidden = self.dropout(torch.cat((hidden[-2], hidden[-1]), dim=1))\n",
    "        else:\n",
    "            hidden = self.dropout(hidden[-1])\n",
    "        return self.fc(hidden).squeeze()"
   ]
  },
  {
   "cell_type": "markdown",
   "id": "8d466f77",
   "metadata": {},
   "source": [
    "## Metrics"
   ]
  },
  {
   "cell_type": "code",
   "execution_count": 12,
   "id": "2e2e7270",
   "metadata": {},
   "outputs": [],
   "source": [
    "def calculate_metrics(model, data_loader, device='cuda'):\n",
    "    \n",
    "    model.eval()\n",
    "    all_preds = []\n",
    "    all_labels = []\n",
    "\n",
    "    with torch.no_grad():\n",
    "        for x, lengths, y in data_loader:\n",
    "            x, lengths, y = x.to(device), lengths.to(device), y.to(device)\n",
    "            predictions = model(x, lengths)\n",
    "            \n",
    "            preds = torch.round(torch.sigmoid(predictions))\n",
    "            all_preds.extend(preds.cpu().numpy())\n",
    "            all_labels.extend(y.cpu().numpy())\n",
    "\n",
    "    precision, recall, f1, _ = precision_recall_fscore_support(\n",
    "        all_labels, all_preds, average=\"weighted\", zero_division=0\n",
    "    )\n",
    "    \n",
    "    return precision, recall, f1\n",
    "\n",
    "def measure_inference_time(model, data_loader, device='cuda'):\n",
    "    model.eval()\n",
    "    total_time = 0\n",
    "    n_samples = 0\n",
    "    with torch.no_grad():\n",
    "        for inputs, lengths, _ in data_loader:\n",
    "            inputs = inputs.to(device)\n",
    "            n_samples += inputs.size(0)\n",
    "            start = time.time()\n",
    "            _ = model(inputs, lengths)\n",
    "            end = time.time()\n",
    "            total_time += (end - start)\n",
    "    return total_time\n",
    "\n",
    "def evaluate_model(model, model_name, classifier_name, vectorizer_name, training_duration, val_data_loader, test_data_loader, device='cuda'):\n",
    "    val_precision, val_recall, val_f1 = calculate_metrics(model, val_data_loader, device)\n",
    "    test_precision, test_recall, test_f1 = calculate_metrics(model, test_data_loader, device)\n",
    "    \n",
    "    inference_time = measure_inference_time(model, test_data_loader, device)\n",
    "    \n",
    "    result = {\n",
    "        'classifier': classifier_name,\n",
    "        'vectorizer': vectorizer_name,\n",
    "        'val_accuracy': None,\n",
    "        'val_precision': val_precision,\n",
    "        'val_recall': val_recall,\n",
    "        'val_f1': val_f1,\n",
    "        'test_accuracy': None,\n",
    "        'test_precision': test_precision,\n",
    "        'test_recall': test_recall,\n",
    "        'test_f1': test_f1,\n",
    "        'training_duration': training_duration,\n",
    "        'inference_time': inference_time,\n",
    "    }\n",
    "\n",
    "    results_name = f\"executions/{model_name}/{classifier_name}_{vectorizer_name}\"\n",
    "    result_df = pd.DataFrame([result])\n",
    "    result_df.to_csv(f\"{results_name}.csv\", index=False)"
   ]
  },
  {
   "cell_type": "markdown",
   "id": "d5b77b74",
   "metadata": {},
   "source": [
    "## Training"
   ]
  },
  {
   "cell_type": "code",
   "execution_count": 13,
   "id": "365b7973",
   "metadata": {},
   "outputs": [],
   "source": [
    "def train_model(model, train_loader, val_loader, epochs=5):\n",
    "    \n",
    "    optimizer = torch.optim.Adam(model.parameters())\n",
    "    criterion = nn.BCEWithLogitsLoss()\n",
    "    model.to(device)\n",
    "    criterion.to(device)\n",
    "\n",
    "    start_time = time.time()\n",
    "\n",
    "    for epoch in range(epochs):\n",
    "        # ====== Training =====\n",
    "        model.train()\n",
    "        train_loss, _ = 0, 0\n",
    "        for x, lengths, y in tqdm(train_loader):\n",
    "            x, lengths, y = x.to(device), lengths.to(device), y.to(device)\n",
    "            optimizer.zero_grad()\n",
    "            predictions = model(x, lengths)\n",
    "            loss = criterion(predictions, y)\n",
    "            loss.backward()\n",
    "            optimizer.step()\n",
    "            train_loss += loss.item()\n",
    "\n",
    "        # ====== Validation =====\n",
    "        model.eval()\n",
    "        val_loss = 0\n",
    "        all_preds = []\n",
    "        all_labels = []\n",
    "\n",
    "        with torch.no_grad():\n",
    "            for x, lengths, y in val_loader:\n",
    "                x, lengths, y = x.to(device), lengths.to(device), y.to(device)\n",
    "                predictions = model(x, lengths)\n",
    "                loss = criterion(predictions, y)\n",
    "                val_loss += loss.item()\n",
    "\n",
    "                preds = torch.round(torch.sigmoid(predictions))\n",
    "                all_preds.extend(preds.cpu().numpy())\n",
    "                all_labels.extend(y.cpu().numpy())\n",
    "\n",
    "        precision, recall, f1, _ = precision_recall_fscore_support(\n",
    "            all_labels, all_preds, average=\"weighted\", zero_division=0\n",
    "        )\n",
    "\n",
    "        print(f\"Epoch {epoch+1} | Train Loss: {train_loss / len(train_loader):.4f} | \"\n",
    "              f\"Val Loss: {val_loss / len(val_loader):.4f} | \"\n",
    "              f\"P: {precision:.4f} R: {recall:.4f} F1: {f1:.4f}\")\n",
    "\n",
    "    end_time = time.time()\n",
    "    return end_time - start_time"
   ]
  },
  {
   "cell_type": "markdown",
   "id": "4d86bd6c",
   "metadata": {},
   "source": [
    "### LSTM with simple tokenizer"
   ]
  },
  {
   "cell_type": "code",
   "execution_count": 14,
   "id": "8a67fc4a",
   "metadata": {},
   "outputs": [],
   "source": [
    "vocabulary = Vocabulary(texts=train_texts, tokenizer=simple_tokenizer)\n",
    "\n",
    "train_dataset = SentimentDataset(train_texts, train_labels, vocabulary)\n",
    "val_dataset = SentimentDataset(validation_texts, validation_labels, vocabulary)\n",
    "test_dataset = SentimentDataset(test_texts, test_labels, vocabulary)\n",
    "\n",
    "train_loader = DataLoader(train_dataset, batch_size=32, shuffle=True, collate_fn=pad_collate)\n",
    "val_loader = DataLoader(val_dataset, batch_size=32, shuffle=False, collate_fn=pad_collate)\n",
    "test_loader = DataLoader(test_dataset, batch_size=32, shuffle=False, collate_fn=pad_collate)"
   ]
  },
  {
   "cell_type": "markdown",
   "id": "e8b726e3",
   "metadata": {},
   "source": [
    "#### 5 epochs, hidden dimension 128"
   ]
  },
  {
   "cell_type": "code",
   "execution_count": 15,
   "id": "2227353a",
   "metadata": {},
   "outputs": [
    {
     "name": "stderr",
     "output_type": "stream",
     "text": [
      "100%|██████████| 4500/4500 [00:57<00:00, 77.71it/s]\n"
     ]
    },
    {
     "name": "stdout",
     "output_type": "stream",
     "text": [
      "Epoch 1 | Train Loss: 0.5512 | Val Loss: 0.4673 | P: 0.7746 R: 0.7746 F1: 0.7746\n"
     ]
    },
    {
     "name": "stderr",
     "output_type": "stream",
     "text": [
      "100%|██████████| 4500/4500 [01:03<00:00, 70.77it/s]\n"
     ]
    },
    {
     "name": "stdout",
     "output_type": "stream",
     "text": [
      "Epoch 2 | Train Loss: 0.4763 | Val Loss: 0.4391 | P: 0.7904 R: 0.7913 F1: 0.7906\n"
     ]
    },
    {
     "name": "stderr",
     "output_type": "stream",
     "text": [
      "100%|██████████| 4500/4500 [00:59<00:00, 75.03it/s]\n"
     ]
    },
    {
     "name": "stdout",
     "output_type": "stream",
     "text": [
      "Epoch 3 | Train Loss: 0.4468 | Val Loss: 0.4309 | P: 0.7990 R: 0.7998 F1: 0.7991\n"
     ]
    },
    {
     "name": "stderr",
     "output_type": "stream",
     "text": [
      "100%|██████████| 4500/4500 [01:00<00:00, 74.65it/s]\n"
     ]
    },
    {
     "name": "stdout",
     "output_type": "stream",
     "text": [
      "Epoch 4 | Train Loss: 0.4263 | Val Loss: 0.4206 | P: 0.8033 R: 0.8036 F1: 0.8034\n"
     ]
    },
    {
     "name": "stderr",
     "output_type": "stream",
     "text": [
      "100%|██████████| 4500/4500 [00:59<00:00, 75.07it/s]\n"
     ]
    },
    {
     "name": "stdout",
     "output_type": "stream",
     "text": [
      "Epoch 5 | Train Loss: 0.4087 | Val Loss: 0.4234 | P: 0.8062 R: 0.8057 F1: 0.8059\n"
     ]
    }
   ],
   "source": [
    "model = LSTMSentimentClassifier(\n",
    "    vocab_size=len(vocabulary.stoi),\n",
    "    embed_dim=100,\n",
    "    hidden_dim=128,\n",
    "    output_dim=1,\n",
    "    num_layers=2,\n",
    "    bidirectional=True,\n",
    "    dropout=0.5\n",
    ")\n",
    "\n",
    "training_time = train_model(model=model, train_loader=train_loader, val_loader=val_loader, epochs=5)\n",
    "\n",
    "evaluate_model(\n",
    "    model=model, \n",
    "    model_name=\"lstm\", \n",
    "    classifier_name=\"LSTM\", \n",
    "    vectorizer_name=\"SimpleTokenizer-5e-128h\", \n",
    "    training_duration=training_time, \n",
    "    val_data_loader=val_loader, \n",
    "    test_data_loader=test_loader)"
   ]
  },
  {
   "cell_type": "markdown",
   "id": "e641e0b7",
   "metadata": {},
   "source": [
    "#### 10 epochs, hidden dimension 128"
   ]
  },
  {
   "cell_type": "code",
   "execution_count": 16,
   "id": "49533262",
   "metadata": {},
   "outputs": [
    {
     "name": "stderr",
     "output_type": "stream",
     "text": [
      "100%|██████████| 4500/4500 [01:02<00:00, 71.60it/s]\n"
     ]
    },
    {
     "name": "stdout",
     "output_type": "stream",
     "text": [
      "Epoch 1 | Train Loss: 0.5499 | Val Loss: 0.4661 | P: 0.7766 R: 0.7734 F1: 0.7743\n"
     ]
    },
    {
     "name": "stderr",
     "output_type": "stream",
     "text": [
      "100%|██████████| 4500/4500 [01:04<00:00, 69.76it/s]\n"
     ]
    },
    {
     "name": "stdout",
     "output_type": "stream",
     "text": [
      "Epoch 2 | Train Loss: 0.4771 | Val Loss: 0.4435 | P: 0.7923 R: 0.7898 F1: 0.7906\n"
     ]
    },
    {
     "name": "stderr",
     "output_type": "stream",
     "text": [
      "100%|██████████| 4500/4500 [01:00<00:00, 74.26it/s]\n"
     ]
    },
    {
     "name": "stdout",
     "output_type": "stream",
     "text": [
      "Epoch 3 | Train Loss: 0.4464 | Val Loss: 0.4304 | P: 0.7997 R: 0.7990 F1: 0.7993\n"
     ]
    },
    {
     "name": "stderr",
     "output_type": "stream",
     "text": [
      "100%|██████████| 4500/4500 [01:02<00:00, 72.20it/s]\n"
     ]
    },
    {
     "name": "stdout",
     "output_type": "stream",
     "text": [
      "Epoch 4 | Train Loss: 0.4257 | Val Loss: 0.4307 | P: 0.8038 R: 0.8033 F1: 0.8035\n"
     ]
    },
    {
     "name": "stderr",
     "output_type": "stream",
     "text": [
      "100%|██████████| 4500/4500 [00:59<00:00, 75.94it/s]\n"
     ]
    },
    {
     "name": "stdout",
     "output_type": "stream",
     "text": [
      "Epoch 5 | Train Loss: 0.4096 | Val Loss: 0.4282 | P: 0.8066 R: 0.8044 F1: 0.8051\n"
     ]
    },
    {
     "name": "stderr",
     "output_type": "stream",
     "text": [
      "100%|██████████| 4500/4500 [01:02<00:00, 72.58it/s]\n"
     ]
    },
    {
     "name": "stdout",
     "output_type": "stream",
     "text": [
      "Epoch 6 | Train Loss: 0.3951 | Val Loss: 0.4197 | P: 0.8078 R: 0.8061 F1: 0.8066\n"
     ]
    },
    {
     "name": "stderr",
     "output_type": "stream",
     "text": [
      "100%|██████████| 4500/4500 [01:01<00:00, 73.30it/s]\n"
     ]
    },
    {
     "name": "stdout",
     "output_type": "stream",
     "text": [
      "Epoch 7 | Train Loss: 0.3831 | Val Loss: 0.4294 | P: 0.8077 R: 0.8046 F1: 0.8053\n"
     ]
    },
    {
     "name": "stderr",
     "output_type": "stream",
     "text": [
      "100%|██████████| 4500/4500 [01:01<00:00, 72.76it/s]\n"
     ]
    },
    {
     "name": "stdout",
     "output_type": "stream",
     "text": [
      "Epoch 8 | Train Loss: 0.3707 | Val Loss: 0.4328 | P: 0.8090 R: 0.8058 F1: 0.8066\n"
     ]
    },
    {
     "name": "stderr",
     "output_type": "stream",
     "text": [
      "100%|██████████| 4500/4500 [01:03<00:00, 70.91it/s]\n"
     ]
    },
    {
     "name": "stdout",
     "output_type": "stream",
     "text": [
      "Epoch 9 | Train Loss: 0.3644 | Val Loss: 0.4368 | P: 0.8101 R: 0.8076 F1: 0.8082\n"
     ]
    },
    {
     "name": "stderr",
     "output_type": "stream",
     "text": [
      "100%|██████████| 4500/4500 [00:59<00:00, 75.96it/s]\n"
     ]
    },
    {
     "name": "stdout",
     "output_type": "stream",
     "text": [
      "Epoch 10 | Train Loss: 0.3557 | Val Loss: 0.4286 | P: 0.8104 R: 0.8102 F1: 0.8103\n"
     ]
    }
   ],
   "source": [
    "model = LSTMSentimentClassifier(\n",
    "    vocab_size=len(vocabulary.stoi),\n",
    "    embed_dim=100,\n",
    "    hidden_dim=128,\n",
    "    output_dim=1,\n",
    "    num_layers=2,\n",
    "    bidirectional=True,\n",
    "    dropout=0.5\n",
    ")\n",
    "\n",
    "training_time = train_model(model=model, train_loader=train_loader, val_loader=val_loader, epochs=10)\n",
    "\n",
    "evaluate_model(\n",
    "    model=model, \n",
    "    model_name=\"lstm\", \n",
    "    classifier_name=\"LSTM\", \n",
    "    vectorizer_name=\"SimpleTokenizer-10e-128h\",\n",
    "    training_duration=training_time, \n",
    "    val_data_loader=val_loader, \n",
    "    test_data_loader=test_loader)"
   ]
  },
  {
   "cell_type": "markdown",
   "id": "8a02a8f1",
   "metadata": {},
   "source": [
    "#### 5 epochs, hidden dimension 256"
   ]
  },
  {
   "cell_type": "code",
   "execution_count": 17,
   "id": "ae1378b4",
   "metadata": {},
   "outputs": [
    {
     "name": "stderr",
     "output_type": "stream",
     "text": [
      "100%|██████████| 4500/4500 [01:04<00:00, 70.07it/s]\n"
     ]
    },
    {
     "name": "stdout",
     "output_type": "stream",
     "text": [
      "Epoch 1 | Train Loss: 0.5481 | Val Loss: 0.4664 | P: 0.7756 R: 0.7764 F1: 0.7758\n"
     ]
    },
    {
     "name": "stderr",
     "output_type": "stream",
     "text": [
      "100%|██████████| 4500/4500 [01:04<00:00, 69.41it/s]\n"
     ]
    },
    {
     "name": "stdout",
     "output_type": "stream",
     "text": [
      "Epoch 2 | Train Loss: 0.4735 | Val Loss: 0.4412 | P: 0.7930 R: 0.7927 F1: 0.7929\n"
     ]
    },
    {
     "name": "stderr",
     "output_type": "stream",
     "text": [
      "100%|██████████| 4500/4500 [01:04<00:00, 69.94it/s]\n"
     ]
    },
    {
     "name": "stdout",
     "output_type": "stream",
     "text": [
      "Epoch 3 | Train Loss: 0.4414 | Val Loss: 0.4295 | P: 0.8005 R: 0.8001 F1: 0.8002\n"
     ]
    },
    {
     "name": "stderr",
     "output_type": "stream",
     "text": [
      "100%|██████████| 4500/4500 [01:04<00:00, 69.56it/s]\n"
     ]
    },
    {
     "name": "stdout",
     "output_type": "stream",
     "text": [
      "Epoch 4 | Train Loss: 0.4199 | Val Loss: 0.4346 | P: 0.8060 R: 0.8026 F1: 0.8034\n"
     ]
    },
    {
     "name": "stderr",
     "output_type": "stream",
     "text": [
      "100%|██████████| 4500/4500 [01:06<00:00, 67.68it/s]\n"
     ]
    },
    {
     "name": "stdout",
     "output_type": "stream",
     "text": [
      "Epoch 5 | Train Loss: 0.4028 | Val Loss: 0.4164 | P: 0.8088 R: 0.8093 F1: 0.8090\n"
     ]
    }
   ],
   "source": [
    "model = LSTMSentimentClassifier(\n",
    "    vocab_size=len(vocabulary.stoi),\n",
    "    embed_dim=100,\n",
    "    hidden_dim=256,\n",
    "    output_dim=1,\n",
    "    num_layers=2,\n",
    "    bidirectional=True,\n",
    "    dropout=0.5\n",
    ")\n",
    "\n",
    "training_time = train_model(model=model, train_loader=train_loader, val_loader=val_loader, epochs=5)\n",
    "\n",
    "evaluate_model(\n",
    "    model=model, \n",
    "    model_name=\"lstm\", \n",
    "    classifier_name=\"LSTM\", \n",
    "    vectorizer_name=\"SimpleTokenizer-5e-256h\",\n",
    "    training_duration=training_time, \n",
    "    val_data_loader=val_loader, \n",
    "    test_data_loader=test_loader)"
   ]
  },
  {
   "cell_type": "markdown",
   "id": "ee7fa894",
   "metadata": {},
   "source": [
    "### LSTM with spaCy tokenizer and GloVe embedding"
   ]
  },
  {
   "cell_type": "code",
   "execution_count": 18,
   "id": "69618045",
   "metadata": {},
   "outputs": [],
   "source": [
    "tokenized_train_texts = [\n",
    "    [token.lemma_.lower() for token in doc if token.is_alpha]\n",
    "    for doc in nlp.pipe(train_texts, batch_size=64)\n",
    "]\n",
    "\n",
    "tokenized_val_texts = [\n",
    "    [token.lemma_.lower() for token in doc if token.is_alpha]\n",
    "    for doc in nlp.pipe(validation_texts, batch_size=64)\n",
    "]\n",
    "\n",
    "tokenized_test_texts = [\n",
    "    [token.lemma_.lower() for token in doc if token.is_alpha]\n",
    "    for doc in nlp.pipe(test_texts, batch_size=64)\n",
    "]"
   ]
  },
  {
   "cell_type": "code",
   "execution_count": 19,
   "id": "d6060c8c",
   "metadata": {},
   "outputs": [],
   "source": [
    "vocabulary = TokenizedVocabulary(tokenized_train_texts, min_freq=2)"
   ]
  },
  {
   "cell_type": "code",
   "execution_count": 20,
   "id": "de443f11",
   "metadata": {},
   "outputs": [],
   "source": [
    "embedding_matrix = load_glove_embeddings(vocabulary)"
   ]
  },
  {
   "cell_type": "code",
   "execution_count": 21,
   "id": "8d274299",
   "metadata": {},
   "outputs": [],
   "source": [
    "filtered = [\n",
    "    (torch.tensor(vocabulary.numericalize(tokens), dtype=torch.long), label)\n",
    "    for tokens, label in zip(tokenized_train_texts, train_labels)\n",
    "    if len(tokens) > 0\n",
    "]\n",
    "train_inputs, train_labels = zip(*filtered)\n",
    "\n",
    "filtered = [\n",
    "    (torch.tensor(vocabulary.numericalize(tokens), dtype=torch.long), label)\n",
    "    for tokens, label in zip(tokenized_val_texts, validation_labels)\n",
    "    if len(tokens) > 0\n",
    "]\n",
    "val_inputs, validation_labels = zip(*filtered)\n",
    "\n",
    "filtered = [\n",
    "    (torch.tensor(vocabulary.numericalize(tokens), dtype=torch.long), label)\n",
    "    for tokens, label in zip(tokenized_test_texts, test_labels)\n",
    "    if len(tokens) > 0\n",
    "]\n",
    "test_inputs, test_labels = zip(*filtered)"
   ]
  },
  {
   "cell_type": "code",
   "execution_count": 22,
   "id": "360745bb",
   "metadata": {},
   "outputs": [],
   "source": [
    "train_dataset = TokenizedSentimentDataset(train_inputs, train_labels)\n",
    "val_dataset = TokenizedSentimentDataset(val_inputs, validation_labels)\n",
    "test_dataset = TokenizedSentimentDataset(test_inputs, test_labels)\n",
    "\n",
    "train_loader = DataLoader(train_dataset, batch_size=32, shuffle=True, collate_fn=pad_collate, num_workers=8, pin_memory=True)\n",
    "val_loader = DataLoader(val_dataset, batch_size=32, shuffle=False, collate_fn=pad_collate, num_workers=8, pin_memory=True)\n",
    "test_loader = DataLoader(test_dataset, batch_size=32, shuffle=False, collate_fn=pad_collate, num_workers=8, pin_memory=True)"
   ]
  },
  {
   "cell_type": "markdown",
   "id": "5ccc6477",
   "metadata": {},
   "source": [
    "#### 5 epochs, hidden dimension 128"
   ]
  },
  {
   "cell_type": "code",
   "execution_count": 23,
   "id": "2a411b7f",
   "metadata": {},
   "outputs": [
    {
     "name": "stderr",
     "output_type": "stream",
     "text": [
      "100%|██████████| 4489/4489 [00:56<00:00, 79.83it/s]\n"
     ]
    },
    {
     "name": "stdout",
     "output_type": "stream",
     "text": [
      "Epoch 1 | Train Loss: 0.5051 | Val Loss: 0.4475 | P: 0.7846 R: 0.7857 F1: 0.7840\n"
     ]
    },
    {
     "name": "stderr",
     "output_type": "stream",
     "text": [
      "100%|██████████| 4489/4489 [00:59<00:00, 76.08it/s]\n"
     ]
    },
    {
     "name": "stdout",
     "output_type": "stream",
     "text": [
      "Epoch 2 | Train Loss: 0.4483 | Val Loss: 0.4307 | P: 0.7944 R: 0.7953 F1: 0.7942\n"
     ]
    },
    {
     "name": "stderr",
     "output_type": "stream",
     "text": [
      "100%|██████████| 4489/4489 [01:00<00:00, 74.27it/s]\n"
     ]
    },
    {
     "name": "stdout",
     "output_type": "stream",
     "text": [
      "Epoch 3 | Train Loss: 0.4256 | Val Loss: 0.4290 | P: 0.8002 R: 0.8011 F1: 0.8001\n"
     ]
    },
    {
     "name": "stderr",
     "output_type": "stream",
     "text": [
      "100%|██████████| 4489/4489 [00:59<00:00, 75.63it/s]\n"
     ]
    },
    {
     "name": "stdout",
     "output_type": "stream",
     "text": [
      "Epoch 4 | Train Loss: 0.4072 | Val Loss: 0.4200 | P: 0.8038 R: 0.8046 F1: 0.8036\n"
     ]
    },
    {
     "name": "stderr",
     "output_type": "stream",
     "text": [
      "100%|██████████| 4489/4489 [00:59<00:00, 76.03it/s]\n"
     ]
    },
    {
     "name": "stdout",
     "output_type": "stream",
     "text": [
      "Epoch 5 | Train Loss: 0.3938 | Val Loss: 0.4269 | P: 0.8036 R: 0.8021 F1: 0.8026\n"
     ]
    }
   ],
   "source": [
    "model = LSTMSentimentClassifier(\n",
    "    vocab_size=len(vocabulary.stoi),\n",
    "    embed_dim=100,\n",
    "    hidden_dim=128,\n",
    "    output_dim=1,\n",
    "    num_layers=2,\n",
    "    bidirectional=True,\n",
    "    dropout=0.5\n",
    ")\n",
    "\n",
    "model.embedding.weight.data.copy_(embedding_matrix)\n",
    "training_duration = train_model(model=model, train_loader=train_loader, val_loader=val_loader, epochs=5)\n",
    "\n",
    "evaluate_model(\n",
    "    model=model, \n",
    "    model_name=\"lstm\", \n",
    "    classifier_name=\"LSTM\", \n",
    "    vectorizer_name=\"SpacyTokenizer-5e-128h\", \n",
    "    training_duration=training_duration, \n",
    "    val_data_loader=val_loader, \n",
    "    test_data_loader=test_loader)"
   ]
  },
  {
   "cell_type": "markdown",
   "id": "f77531eb",
   "metadata": {},
   "source": [
    "#### 10 epochs, hidden dimension 128"
   ]
  },
  {
   "cell_type": "code",
   "execution_count": 24,
   "id": "5510d22f",
   "metadata": {},
   "outputs": [
    {
     "name": "stderr",
     "output_type": "stream",
     "text": [
      "100%|██████████| 4489/4489 [00:59<00:00, 75.83it/s]\n"
     ]
    },
    {
     "name": "stdout",
     "output_type": "stream",
     "text": [
      "Epoch 1 | Train Loss: 0.5055 | Val Loss: 0.4470 | P: 0.7855 R: 0.7849 F1: 0.7813\n"
     ]
    },
    {
     "name": "stderr",
     "output_type": "stream",
     "text": [
      "100%|██████████| 4489/4489 [00:58<00:00, 77.36it/s]\n"
     ]
    },
    {
     "name": "stdout",
     "output_type": "stream",
     "text": [
      "Epoch 2 | Train Loss: 0.4489 | Val Loss: 0.4373 | P: 0.7926 R: 0.7913 F1: 0.7876\n"
     ]
    },
    {
     "name": "stderr",
     "output_type": "stream",
     "text": [
      "100%|██████████| 4489/4489 [00:54<00:00, 82.11it/s]\n"
     ]
    },
    {
     "name": "stdout",
     "output_type": "stream",
     "text": [
      "Epoch 3 | Train Loss: 0.4255 | Val Loss: 0.4260 | P: 0.8010 R: 0.8019 F1: 0.8008\n"
     ]
    },
    {
     "name": "stderr",
     "output_type": "stream",
     "text": [
      "100%|██████████| 4489/4489 [00:57<00:00, 78.50it/s]\n"
     ]
    },
    {
     "name": "stdout",
     "output_type": "stream",
     "text": [
      "Epoch 4 | Train Loss: 0.4087 | Val Loss: 0.4214 | P: 0.8026 R: 0.8033 F1: 0.8027\n"
     ]
    },
    {
     "name": "stderr",
     "output_type": "stream",
     "text": [
      "100%|██████████| 4489/4489 [00:56<00:00, 79.63it/s]\n"
     ]
    },
    {
     "name": "stdout",
     "output_type": "stream",
     "text": [
      "Epoch 5 | Train Loss: 0.3940 | Val Loss: 0.4324 | P: 0.8020 R: 0.8026 F1: 0.8022\n"
     ]
    },
    {
     "name": "stderr",
     "output_type": "stream",
     "text": [
      "100%|██████████| 4489/4489 [00:57<00:00, 78.34it/s]\n"
     ]
    },
    {
     "name": "stdout",
     "output_type": "stream",
     "text": [
      "Epoch 6 | Train Loss: 0.3812 | Val Loss: 0.4220 | P: 0.8018 R: 0.8023 F1: 0.8020\n"
     ]
    },
    {
     "name": "stderr",
     "output_type": "stream",
     "text": [
      "100%|██████████| 4489/4489 [00:57<00:00, 77.46it/s]\n"
     ]
    },
    {
     "name": "stdout",
     "output_type": "stream",
     "text": [
      "Epoch 7 | Train Loss: 0.3690 | Val Loss: 0.4352 | P: 0.8023 R: 0.8030 F1: 0.8025\n"
     ]
    },
    {
     "name": "stderr",
     "output_type": "stream",
     "text": [
      "100%|██████████| 4489/4489 [00:56<00:00, 79.56it/s]\n"
     ]
    },
    {
     "name": "stdout",
     "output_type": "stream",
     "text": [
      "Epoch 8 | Train Loss: 0.3609 | Val Loss: 0.4342 | P: 0.8031 R: 0.8039 F1: 0.8032\n"
     ]
    },
    {
     "name": "stderr",
     "output_type": "stream",
     "text": [
      "100%|██████████| 4489/4489 [00:59<00:00, 75.31it/s]\n"
     ]
    },
    {
     "name": "stdout",
     "output_type": "stream",
     "text": [
      "Epoch 9 | Train Loss: 0.3510 | Val Loss: 0.4456 | P: 0.8005 R: 0.8014 F1: 0.8006\n"
     ]
    },
    {
     "name": "stderr",
     "output_type": "stream",
     "text": [
      "100%|██████████| 4489/4489 [00:58<00:00, 76.64it/s]\n"
     ]
    },
    {
     "name": "stdout",
     "output_type": "stream",
     "text": [
      "Epoch 10 | Train Loss: 0.3431 | Val Loss: 0.4491 | P: 0.8005 R: 0.8011 F1: 0.8006\n"
     ]
    }
   ],
   "source": [
    "model = LSTMSentimentClassifier(\n",
    "    vocab_size=len(vocabulary.stoi),\n",
    "    embed_dim=100,\n",
    "    hidden_dim=128,\n",
    "    output_dim=1,\n",
    "    num_layers=2,\n",
    "    bidirectional=True,\n",
    "    dropout=0.5\n",
    ")\n",
    "\n",
    "model.embedding.weight.data.copy_(embedding_matrix)\n",
    "training_duration = train_model(model=model, train_loader=train_loader, val_loader=val_loader, epochs=10)\n",
    "\n",
    "evaluate_model(\n",
    "    model=model, \n",
    "    model_name=\"lstm\", \n",
    "    classifier_name=\"LSTM\", \n",
    "    vectorizer_name=\"SpacyTokenizer-10e-128h\", \n",
    "    training_duration=training_duration, \n",
    "    val_data_loader=val_loader, \n",
    "    test_data_loader=test_loader)"
   ]
  },
  {
   "cell_type": "markdown",
   "id": "ebc0f807",
   "metadata": {},
   "source": [
    "#### 5 epochs, hidden dimension 256"
   ]
  },
  {
   "cell_type": "code",
   "execution_count": 25,
   "id": "723a9a76",
   "metadata": {},
   "outputs": [
    {
     "name": "stderr",
     "output_type": "stream",
     "text": [
      "100%|██████████| 4489/4489 [00:58<00:00, 76.36it/s]\n"
     ]
    },
    {
     "name": "stdout",
     "output_type": "stream",
     "text": [
      "Epoch 1 | Train Loss: 0.5060 | Val Loss: 0.4436 | P: 0.7875 R: 0.7884 F1: 0.7877\n"
     ]
    },
    {
     "name": "stderr",
     "output_type": "stream",
     "text": [
      "100%|██████████| 4489/4489 [00:56<00:00, 78.96it/s]\n"
     ]
    },
    {
     "name": "stdout",
     "output_type": "stream",
     "text": [
      "Epoch 2 | Train Loss: 0.4469 | Val Loss: 0.4298 | P: 0.7985 R: 0.7991 F1: 0.7987\n"
     ]
    },
    {
     "name": "stderr",
     "output_type": "stream",
     "text": [
      "100%|██████████| 4489/4489 [00:59<00:00, 75.87it/s]\n"
     ]
    },
    {
     "name": "stdout",
     "output_type": "stream",
     "text": [
      "Epoch 3 | Train Loss: 0.4238 | Val Loss: 0.4232 | P: 0.8008 R: 0.8009 F1: 0.8008\n"
     ]
    },
    {
     "name": "stderr",
     "output_type": "stream",
     "text": [
      "100%|██████████| 4489/4489 [01:00<00:00, 73.99it/s]\n"
     ]
    },
    {
     "name": "stdout",
     "output_type": "stream",
     "text": [
      "Epoch 4 | Train Loss: 0.4064 | Val Loss: 0.4218 | P: 0.8033 R: 0.8037 F1: 0.8034\n"
     ]
    },
    {
     "name": "stderr",
     "output_type": "stream",
     "text": [
      "100%|██████████| 4489/4489 [00:58<00:00, 76.32it/s]\n"
     ]
    },
    {
     "name": "stdout",
     "output_type": "stream",
     "text": [
      "Epoch 5 | Train Loss: 0.3904 | Val Loss: 0.4248 | P: 0.8052 R: 0.8060 F1: 0.8051\n"
     ]
    }
   ],
   "source": [
    "model = LSTMSentimentClassifier(\n",
    "    vocab_size=len(vocabulary.stoi),\n",
    "    embed_dim=100,\n",
    "    hidden_dim=256,\n",
    "    output_dim=1,\n",
    "    num_layers=2,\n",
    "    bidirectional=True,\n",
    "    dropout=0.5\n",
    ")\n",
    "\n",
    "model.embedding.weight.data.copy_(embedding_matrix)\n",
    "training_duration = train_model(model=model, train_loader=train_loader, val_loader=val_loader, epochs=5)\n",
    "\n",
    "evaluate_model(\n",
    "    model=model, \n",
    "    model_name=\"lstm\", \n",
    "    classifier_name=\"LSTM\", \n",
    "    vectorizer_name=\"SpacyTokenizer-5e-256h\", \n",
    "    training_duration=training_duration, \n",
    "    val_data_loader=val_loader, \n",
    "    test_data_loader=test_loader)"
   ]
  },
  {
   "cell_type": "code",
   "execution_count": 29,
   "id": "19739aeb",
   "metadata": {},
   "outputs": [
    {
     "name": "stdout",
     "output_type": "stream",
     "text": [
      "Failed to load confusion matrix for LSTM_SimpleTokenizer-10e-128h: [Errno 2] No such file or directory: 'executions/lstm/LSTM_SimpleTokenizer-10e-128h_val_confusion.json'\n",
      "Failed to load confusion matrix for LSTM_SimpleTokenizer-5e-128h: [Errno 2] No such file or directory: 'executions/lstm/LSTM_SimpleTokenizer-5e-128h_val_confusion.json'\n",
      "Failed to load confusion matrix for LSTM_SimpleTokenizer-5e-256h: [Errno 2] No such file or directory: 'executions/lstm/LSTM_SimpleTokenizer-5e-256h_val_confusion.json'\n",
      "Failed to load confusion matrix for LSTM_SpacyTokenizer-10e-128h: [Errno 2] No such file or directory: 'executions/lstm/LSTM_SpacyTokenizer-10e-128h_val_confusion.json'\n",
      "Failed to load confusion matrix for LSTM_SpacyTokenizer-5e-256h: [Errno 2] No such file or directory: 'executions/lstm/LSTM_SpacyTokenizer-5e-256h_val_confusion.json'\n",
      "Failed to load confusion matrix for LSTM_SpacyTokenizer-5e-128h: [Errno 2] No such file or directory: 'executions/lstm/LSTM_SpacyTokenizer-5e-128h_val_confusion.json'\n"
     ]
    },
    {
     "data": {
      "image/png": "[encoded data removed]",
      "text/plain": [
       "<Figure size 1200x1600 with 8 Axes>"
      ]
     },
     "metadata": {},
     "output_type": "display_data"
    },
    {
     "data": {
      "application/vnd.microsoft.datawrangler.viewer.v0+json": {
       "columns": [
        {
         "name": "index",
         "rawType": "int64",
         "type": "integer"
        },
        {
         "name": "classifier",
         "rawType": "object",
         "type": "string"
        },
        {
         "name": "vectorizer",
         "rawType": "object",
         "type": "string"
        },
        {
         "name": "val_accuracy",
         "rawType": "float64",
         "type": "float"
        },
        {
         "name": "val_precision",
         "rawType": "float64",
         "type": "float"
        },
        {
         "name": "val_recall",
         "rawType": "float64",
         "type": "float"
        },
        {
         "name": "val_f1",
         "rawType": "float64",
         "type": "float"
        },
        {
         "name": "test_accuracy",
         "rawType": "float64",
         "type": "float"
        },
        {
         "name": "test_precision",
         "rawType": "float64",
         "type": "float"
        },
        {
         "name": "test_recall",
         "rawType": "float64",
         "type": "float"
        },
        {
         "name": "test_f1",
         "rawType": "float64",
         "type": "float"
        },
        {
         "name": "training_duration",
         "rawType": "float64",
         "type": "float"
        },
        {
         "name": "inference_time",
         "rawType": "float64",
         "type": "float"
        },
        {
         "name": "Classifier",
         "rawType": "object",
         "type": "string"
        },
        {
         "name": "Vectorizer",
         "rawType": "object",
         "type": "string"
        },
        {
         "name": "Model",
         "rawType": "object",
         "type": "string"
        }
       ],
       "ref": "4684950f-fda6-4a4c-b193-c44a20ef6c34",
       "rows": [
        [
         "0",
         "LSTM",
         "SimpleTokenizer-10e-128h",
         null,
         "0.8104183912001843",
         "0.8102447290202506",
         "0.8103258467119454",
         null,
         "0.8082309120623243",
         "0.8079512878063957",
         "0.8080768405230728",
         "672.6253802776337",
         "3.942534923553467",
         "LSTM",
         "SimpleTokenizer-10e-128h",
         "LSTM + SimpleTokenizer-10e-128h"
        ],
        [
         "1",
         "LSTM",
         "SimpleTokenizer-5e-128h",
         null,
         "0.8062125321992639",
         "0.8056890469179699",
         "0.8059086575838179",
         null,
         "0.8036979060524364",
         "0.8031067357052379",
         "0.8033492879078974",
         "328.5293476581573",
         "3.983692169189453",
         "LSTM",
         "SimpleTokenizer-5e-128h",
         "LSTM + SimpleTokenizer-5e-128h"
        ],
        [
         "2",
         "LSTM",
         "SimpleTokenizer-5e-256h",
         null,
         "0.8088124051414012",
         "0.8093280368899136",
         "0.8089831144305256",
         null,
         "0.8051472731617668",
         "0.805484566323696",
         "0.8052853666533725",
         "351.4843530654907",
         "4.243674516677856",
         "LSTM",
         "SimpleTokenizer-5e-256h",
         "LSTM + SimpleTokenizer-5e-256h"
        ],
        [
         "3",
         "LSTM",
         "SpacyTokenizer-10e-128h",
         null,
         "0.8004583224791517",
         "0.8010806595365418",
         "0.8006479987611084",
         null,
         "0.7982590414109932",
         "0.7988864142538975",
         "0.7984443572685026",
         "635.8267214298248",
         "4.979592561721802",
         "LSTM",
         "SpacyTokenizer-10e-128h",
         "LSTM + SpacyTokenizer-10e-128h"
        ],
        [
         "4",
         "LSTM",
         "SpacyTokenizer-5e-256h",
         null,
         "0.8052066971435518",
         "0.8060383244206774",
         "0.8050762430835524",
         null,
         "0.8025232852459665",
         "0.8033407572383073",
         "0.8024851122282373",
         "321.8875823020935",
         "5.717347145080566",
         "LSTM",
         "SpacyTokenizer-5e-256h",
         "LSTM + SpacyTokenizer-5e-256h"
        ],
        [
         "5",
         "LSTM",
         "SpacyTokenizer-5e-128h",
         null,
         "0.8036018051683912",
         "0.8020833333333334",
         "0.8025925118640893",
         null,
         "0.7999524814240802",
         "0.7983964365256124",
         "0.7989132113059848",
         "324.5154228210449",
         "5.6054089069366455",
         "LSTM",
         "SpacyTokenizer-5e-128h",
         "LSTM + SpacyTokenizer-5e-128h"
        ]
       ],
       "shape": {
        "columns": 15,
        "rows": 6
       }
      },
      "text/html": [
       "<div>\n",
       "<style scoped>\n",
       "    .dataframe tbody tr th:only-of-type {\n",
       "        vertical-align: middle;\n",
       "    }\n",
       "\n",
       "    .dataframe tbody tr th {\n",
       "        vertical-align: top;\n",
       "    }\n",
       "\n",
       "    .dataframe thead th {\n",
       "        text-align: right;\n",
       "    }\n",
       "</style>\n",
       "<table border=\"1\" class=\"dataframe\">\n",
       "  <thead>\n",
       "    <tr style=\"text-align: right;\">\n",
       "      <th></th>\n",
       "      <th>classifier</th>\n",
       "      <th>vectorizer</th>\n",
       "      <th>val_accuracy</th>\n",
       "      <th>val_precision</th>\n",
       "      <th>val_recall</th>\n",
       "      <th>val_f1</th>\n",
       "      <th>test_accuracy</th>\n",
       "      <th>test_precision</th>\n",
       "      <th>test_recall</th>\n",
       "      <th>test_f1</th>\n",
       "      <th>training_duration</th>\n",
       "      <th>inference_time</th>\n",
       "      <th>Classifier</th>\n",
       "      <th>Vectorizer</th>\n",
       "      <th>Model</th>\n",
       "    </tr>\n",
       "  </thead>\n",
       "  <tbody>\n",
       "    <tr>\n",
       "      <th>0</th>\n",
       "      <td>LSTM</td>\n",
       "      <td>SimpleTokenizer-10e-128h</td>\n",
       "      <td>NaN</td>\n",
       "      <td>0.810418</td>\n",
       "      <td>0.810245</td>\n",
       "      <td>0.810326</td>\n",
       "      <td>NaN</td>\n",
       "      <td>0.808231</td>\n",
       "      <td>0.807951</td>\n",
       "      <td>0.808077</td>\n",
       "      <td>672.625380</td>\n",
       "      <td>3.942535</td>\n",
       "      <td>LSTM</td>\n",
       "      <td>SimpleTokenizer-10e-128h</td>\n",
       "      <td>LSTM + SimpleTokenizer-10e-128h</td>\n",
       "    </tr>\n",
       "    <tr>\n",
       "      <th>1</th>\n",
       "      <td>LSTM</td>\n",
       "      <td>SimpleTokenizer-5e-128h</td>\n",
       "      <td>NaN</td>\n",
       "      <td>0.806213</td>\n",
       "      <td>0.805689</td>\n",
       "      <td>0.805909</td>\n",
       "      <td>NaN</td>\n",
       "      <td>0.803698</td>\n",
       "      <td>0.803107</td>\n",
       "      <td>0.803349</td>\n",
       "      <td>328.529348</td>\n",
       "      <td>3.983692</td>\n",
       "      <td>LSTM</td>\n",
       "      <td>SimpleTokenizer-5e-128h</td>\n",
       "      <td>LSTM + SimpleTokenizer-5e-128h</td>\n",
       "    </tr>\n",
       "    <tr>\n",
       "      <th>2</th>\n",
       "      <td>LSTM</td>\n",
       "      <td>SimpleTokenizer-5e-256h</td>\n",
       "      <td>NaN</td>\n",
       "      <td>0.808812</td>\n",
       "      <td>0.809328</td>\n",
       "      <td>0.808983</td>\n",
       "      <td>NaN</td>\n",
       "      <td>0.805147</td>\n",
       "      <td>0.805485</td>\n",
       "      <td>0.805285</td>\n",
       "      <td>351.484353</td>\n",
       "      <td>4.243675</td>\n",
       "      <td>LSTM</td>\n",
       "      <td>SimpleTokenizer-5e-256h</td>\n",
       "      <td>LSTM + SimpleTokenizer-5e-256h</td>\n",
       "    </tr>\n",
       "    <tr>\n",
       "      <th>3</th>\n",
       "      <td>LSTM</td>\n",
       "      <td>SpacyTokenizer-10e-128h</td>\n",
       "      <td>NaN</td>\n",
       "      <td>0.800458</td>\n",
       "      <td>0.801081</td>\n",
       "      <td>0.800648</td>\n",
       "      <td>NaN</td>\n",
       "      <td>0.798259</td>\n",
       "      <td>0.798886</td>\n",
       "      <td>0.798444</td>\n",
       "      <td>635.826721</td>\n",
       "      <td>4.979593</td>\n",
       "      <td>LSTM</td>\n",
       "      <td>SpacyTokenizer-10e-128h</td>\n",
       "      <td>LSTM + SpacyTokenizer-10e-128h</td>\n",
       "    </tr>\n",
       "    <tr>\n",
       "      <th>4</th>\n",
       "      <td>LSTM</td>\n",
       "      <td>SpacyTokenizer-5e-256h</td>\n",
       "      <td>NaN</td>\n",
       "      <td>0.805207</td>\n",
       "      <td>0.806038</td>\n",
       "      <td>0.805076</td>\n",
       "      <td>NaN</td>\n",
       "      <td>0.802523</td>\n",
       "      <td>0.803341</td>\n",
       "      <td>0.802485</td>\n",
       "      <td>321.887582</td>\n",
       "      <td>5.717347</td>\n",
       "      <td>LSTM</td>\n",
       "      <td>SpacyTokenizer-5e-256h</td>\n",
       "      <td>LSTM + SpacyTokenizer-5e-256h</td>\n",
       "    </tr>\n",
       "    <tr>\n",
       "      <th>5</th>\n",
       "      <td>LSTM</td>\n",
       "      <td>SpacyTokenizer-5e-128h</td>\n",
       "      <td>NaN</td>\n",
       "      <td>0.803602</td>\n",
       "      <td>0.802083</td>\n",
       "      <td>0.802593</td>\n",
       "      <td>NaN</td>\n",
       "      <td>0.799952</td>\n",
       "      <td>0.798396</td>\n",
       "      <td>0.798913</td>\n",
       "      <td>324.515423</td>\n",
       "      <td>5.605409</td>\n",
       "      <td>LSTM</td>\n",
       "      <td>SpacyTokenizer-5e-128h</td>\n",
       "      <td>LSTM + SpacyTokenizer-5e-128h</td>\n",
       "    </tr>\n",
       "  </tbody>\n",
       "</table>\n",
       "</div>"
      ],
      "text/plain": [
       "  classifier                vectorizer  val_accuracy  val_precision  \\\n",
       "0       LSTM  SimpleTokenizer-10e-128h           NaN       0.810418   \n",
       "1       LSTM   SimpleTokenizer-5e-128h           NaN       0.806213   \n",
       "2       LSTM   SimpleTokenizer-5e-256h           NaN       0.808812   \n",
       "3       LSTM   SpacyTokenizer-10e-128h           NaN       0.800458   \n",
       "4       LSTM    SpacyTokenizer-5e-256h           NaN       0.805207   \n",
       "5       LSTM    SpacyTokenizer-5e-128h           NaN       0.803602   \n",
       "\n",
       "   val_recall    val_f1  test_accuracy  test_precision  test_recall   test_f1  \\\n",
       "0    0.810245  0.810326            NaN        0.808231     0.807951  0.808077   \n",
       "1    0.805689  0.805909            NaN        0.803698     0.803107  0.803349   \n",
       "2    0.809328  0.808983            NaN        0.805147     0.805485  0.805285   \n",
       "3    0.801081  0.800648            NaN        0.798259     0.798886  0.798444   \n",
       "4    0.806038  0.805076            NaN        0.802523     0.803341  0.802485   \n",
       "5    0.802083  0.802593            NaN        0.799952     0.798396  0.798913   \n",
       "\n",
       "   training_duration  inference_time Classifier                Vectorizer  \\\n",
       "0         672.625380        3.942535       LSTM  SimpleTokenizer-10e-128h   \n",
       "1         328.529348        3.983692       LSTM   SimpleTokenizer-5e-128h   \n",
       "2         351.484353        4.243675       LSTM   SimpleTokenizer-5e-256h   \n",
       "3         635.826721        4.979593       LSTM   SpacyTokenizer-10e-128h   \n",
       "4         321.887582        5.717347       LSTM    SpacyTokenizer-5e-256h   \n",
       "5         324.515423        5.605409       LSTM    SpacyTokenizer-5e-128h   \n",
       "\n",
       "                             Model  \n",
       "0  LSTM + SimpleTokenizer-10e-128h  \n",
       "1   LSTM + SimpleTokenizer-5e-128h  \n",
       "2   LSTM + SimpleTokenizer-5e-256h  \n",
       "3   LSTM + SpacyTokenizer-10e-128h  \n",
       "4    LSTM + SpacyTokenizer-5e-256h  \n",
       "5    LSTM + SpacyTokenizer-5e-128h  "
      ]
     },
     "execution_count": 29,
     "metadata": {},
     "output_type": "execute_result"
    }
   ],
   "source": [
    "analyze_all_results(results_dir=\"executions/lstm\")"
   ]
  }
 ],
 "metadata": {
  "kernelspec": {
   "display_name": "Python 3 (ipykernel)",
   "language": "python",
   "name": "python3"
  },
  "language_info": {
   "codemirror_mode": {
    "name": "ipython",
    "version": 3
   },
   "file_extension": ".py",
   "mimetype": "text/x-python",
   "name": "python",
   "nbconvert_exporter": "python",
   "pygments_lexer": "ipython3",
   "version": "3.11.7"
  }
 },
 "nbformat": 4,
 "nbformat_minor": 5
}
