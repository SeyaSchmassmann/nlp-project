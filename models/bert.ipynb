{
 "cells": [
  {
   "cell_type": "markdown",
   "metadata": {},
   "source": [
    "# Bert"
   ]
  },
  {
   "cell_type": "markdown",
   "metadata": {},
   "source": [
    "## Imports"
   ]
  },
  {
   "cell_type": "code",
   "execution_count": 1,
   "metadata": {},
   "outputs": [
    {
     "name": "stdout",
     "output_type": "stream",
     "text": [
      "Requirement already satisfied: dotenv in /usr/local/lib/python3.11/dist-packages (0.9.9)\n",
      "Requirement already satisfied: python-dotenv in /usr/local/lib/python3.11/dist-packages (from dotenv) (1.1.0)\n",
      "\u001b[33mWARNING: Running pip as the 'root' user can result in broken permissions and conflicting behaviour with the system package manager. It is recommended to use a virtual environment instead: https://pip.pypa.io/warnings/venv\u001b[0m\u001b[33m\n",
      "\u001b[0mNote: you may need to restart the kernel to use updated packages.\n"
     ]
    }
   ],
   "source": [
    "%pip install dotenv\n",
    "\n",
    "%load_ext autoreload\n",
    "%autoreload 2"
   ]
  },
  {
   "cell_type": "code",
   "execution_count": 2,
   "metadata": {},
   "outputs": [
    {
     "name": "stderr",
     "output_type": "stream",
     "text": [
      "2025-06-09 17:03:30.786575: E external/local_xla/xla/stream_executor/cuda/cuda_dnn.cc:9261] Unable to register cuDNN factory: Attempting to register factory for plugin cuDNN when one has already been registered\n",
      "2025-06-09 17:03:30.786628: E external/local_xla/xla/stream_executor/cuda/cuda_fft.cc:607] Unable to register cuFFT factory: Attempting to register factory for plugin cuFFT when one has already been registered\n",
      "2025-06-09 17:03:30.787846: E external/local_xla/xla/stream_executor/cuda/cuda_blas.cc:1515] Unable to register cuBLAS factory: Attempting to register factory for plugin cuBLAS when one has already been registered\n",
      "2025-06-09 17:03:30.794281: I tensorflow/core/platform/cpu_feature_guard.cc:182] This TensorFlow binary is optimized to use available CPU instructions in performance-critical operations.\n",
      "To enable the following instructions: AVX2 FMA, in other operations, rebuild TensorFlow with the appropriate compiler flags.\n",
      "2025-06-09 17:03:31.703125: W tensorflow/compiler/tf2tensorrt/utils/py_utils.cc:38] TF-TRT Warning: Could not find TensorRT\n"
     ]
    }
   ],
   "source": [
    "import pandas as pd\n",
    "import numpy as np\n",
    "from dotenv import load_dotenv\n",
    "from transformers import BertTokenizer, BertForSequenceClassification\n",
    "from sklearn.metrics import precision_recall_fscore_support\n",
    "from sklearn.model_selection import train_test_split\n",
    "import torch\n",
    "from torch.utils.data import Dataset\n",
    "from transformers import Trainer, TrainingArguments\n",
    "import os\n",
    "import wandb\n",
    "import time"
   ]
  },
  {
   "cell_type": "code",
   "execution_count": 3,
   "metadata": {},
   "outputs": [],
   "source": [
    "IS_PAPERSPACE = os.getcwd().startswith('/notebooks')\n",
    "dir_env = os.path.join(os.getcwd(), '.env') if IS_PAPERSPACE else os.path.join(os.getcwd(), '..', '.env')\n",
    "_ = load_dotenv(dotenv_path=dir_env)"
   ]
  },
  {
   "cell_type": "code",
   "execution_count": 4,
   "metadata": {},
   "outputs": [
    {
     "name": "stderr",
     "output_type": "stream",
     "text": [
      "\u001b[34m\u001b[1mwandb\u001b[0m: Currently logged in as: \u001b[33mseya-schmassmann-fhnw\u001b[0m. Use \u001b[1m`wandb login --relogin`\u001b[0m to force relogin\n"
     ]
    }
   ],
   "source": [
    "wandb.login(key=os.getenv('WANDB_KEY'))\n",
    "wandb._disable_jupyter = True"
   ]
  },
  {
   "cell_type": "markdown",
   "metadata": {},
   "source": [
    "## Data"
   ]
  },
  {
   "cell_type": "code",
   "execution_count": 5,
   "metadata": {},
   "outputs": [],
   "source": [
    "df_traindata = pd.read_csv(\"data/train.csv\") if IS_PAPERSPACE else pd.read_csv(\"../data/train.csv\")\n",
    "\n",
    "train_texts, validation_texts, train_labels, validation_labels = train_test_split(\n",
    "    df_traindata['text'].tolist(), \n",
    "    df_traindata['sentiment'].tolist(), \n",
    "    test_size=0.2, \n",
    "    random_state=42\n",
    ")\n",
    "\n",
    "df_testdata = pd.read_csv(\"data/test.csv\") if IS_PAPERSPACE else pd.read_csv(\"../data/test.csv\")\n",
    "test_texts = df_testdata['text'].tolist()\n",
    "test_labels = df_testdata['sentiment'].tolist()"
   ]
  },
  {
   "cell_type": "markdown",
   "metadata": {},
   "source": [
    "## Vectorization"
   ]
  },
  {
   "cell_type": "code",
   "execution_count": 6,
   "metadata": {},
   "outputs": [],
   "source": [
    "tokenizer = BertTokenizer.from_pretrained(\"bert-base-uncased\")\n",
    "\n",
    "train_encodings = tokenizer(train_texts, truncation=True, padding=True, max_length=128)\n",
    "validation_encodings = tokenizer(validation_texts, truncation=True, padding=True, max_length=128)\n",
    "test_encodings = tokenizer(test_texts, truncation=True, padding=True, max_length=128)"
   ]
  },
  {
   "cell_type": "code",
   "execution_count": 7,
   "metadata": {},
   "outputs": [],
   "source": [
    "class TweetDataset(Dataset):\n",
    "    def __init__(self, encodings, labels):\n",
    "        self.encodings = encodings\n",
    "        self.labels = labels\n",
    "\n",
    "    def __getitem__(self, idx):\n",
    "        return {\n",
    "            key: torch.tensor(val[idx]) \n",
    "            for key, val in self.encodings.items()\n",
    "        } | {\n",
    "            'labels': torch.tensor(self.labels[idx])\n",
    "        }\n",
    "\n",
    "    def __len__(self):\n",
    "        return len(self.labels)\n",
    "\n",
    "train_dataset = TweetDataset(train_encodings, train_labels)\n",
    "validation_dataset = TweetDataset(validation_encodings, validation_labels)\n",
    "test_dataset = TweetDataset(test_encodings, test_labels)"
   ]
  },
  {
   "cell_type": "code",
   "execution_count": 8,
   "metadata": {},
   "outputs": [
    {
     "name": "stderr",
     "output_type": "stream",
     "text": [
      "Some weights of BertForSequenceClassification were not initialized from the model checkpoint at bert-base-uncased and are newly initialized: ['classifier.bias', 'classifier.weight']\n",
      "You should probably TRAIN this model on a down-stream task to be able to use it for predictions and inference.\n"
     ]
    }
   ],
   "source": [
    "model = BertForSequenceClassification.from_pretrained(\"bert-base-uncased\", num_labels=2)"
   ]
  },
  {
   "cell_type": "code",
   "execution_count": 9,
   "metadata": {},
   "outputs": [
    {
     "name": "stderr",
     "output_type": "stream",
     "text": [
      "\u001b[34m\u001b[1mwandb\u001b[0m: \u001b[33mWARNING\u001b[0m If you're specifying your api key in code, ensure this code is not shared publicly.\n",
      "\u001b[34m\u001b[1mwandb\u001b[0m: \u001b[33mWARNING\u001b[0m Consider setting the WANDB_API_KEY environment variable, or running `wandb login` from the command line.\n",
      "\u001b[34m\u001b[1mwandb\u001b[0m: Appending key for api.wandb.ai to your netrc file: /root/.netrc\n"
     ]
    },
    {
     "data": {
      "text/html": [
       "Changes to your `wandb` environment variables will be ignored because your `wandb` session has already started. For more information on how to modify your settings with `wandb.init()` arguments, please refer to <a href='https://wandb.me/wandb-init' target=\"_blank\">the W&B docs</a>."
      ],
      "text/plain": [
       "<IPython.core.display.HTML object>"
      ]
     },
     "metadata": {},
     "output_type": "display_data"
    },
    {
     "name": "stderr",
     "output_type": "stream",
     "text": [
      "\u001b[34m\u001b[1mwandb\u001b[0m: Currently logged in as: \u001b[33mseya-schmassmann-fhnw\u001b[0m (\u001b[33mnlp-lantsch-schmassmann-wigger\u001b[0m). Use \u001b[1m`wandb login --relogin`\u001b[0m to force relogin\n"
     ]
    },
    {
     "data": {
      "text/html": [
       "wandb version 0.20.1 is available!  To upgrade, please run:\n",
       " $ pip install wandb --upgrade"
      ],
      "text/plain": [
       "<IPython.core.display.HTML object>"
      ]
     },
     "metadata": {},
     "output_type": "display_data"
    },
    {
     "data": {
      "text/html": [
       "Tracking run with wandb version 0.15.10"
      ],
      "text/plain": [
       "<IPython.core.display.HTML object>"
      ]
     },
     "metadata": {},
     "output_type": "display_data"
    },
    {
     "data": {
      "text/html": [
       "Run data is saved locally in <code>/notebooks/wandb/run-20250609_170420-wrzsjgsn</code>"
      ],
      "text/plain": [
       "<IPython.core.display.HTML object>"
      ]
     },
     "metadata": {},
     "output_type": "display_data"
    },
    {
     "data": {
      "text/html": [
       "Syncing run <strong><a href='https://wandb.ai/nlp-lantsch-schmassmann-wigger/nlp-lantsch-schmassmann-wigger/runs/wrzsjgsn' target=\"_blank\">polished-pond-70</a></strong> to <a href='https://wandb.ai/nlp-lantsch-schmassmann-wigger/nlp-lantsch-schmassmann-wigger' target=\"_blank\">Weights & Biases</a> (<a href='https://wandb.me/run' target=\"_blank\">docs</a>)<br/>"
      ],
      "text/plain": [
       "<IPython.core.display.HTML object>"
      ]
     },
     "metadata": {},
     "output_type": "display_data"
    },
    {
     "data": {
      "text/html": [
       " View project at <a href='https://wandb.ai/nlp-lantsch-schmassmann-wigger/nlp-lantsch-schmassmann-wigger' target=\"_blank\">https://wandb.ai/nlp-lantsch-schmassmann-wigger/nlp-lantsch-schmassmann-wigger</a>"
      ],
      "text/plain": [
       "<IPython.core.display.HTML object>"
      ]
     },
     "metadata": {},
     "output_type": "display_data"
    },
    {
     "data": {
      "text/html": [
       " View run at <a href='https://wandb.ai/nlp-lantsch-schmassmann-wigger/nlp-lantsch-schmassmann-wigger/runs/wrzsjgsn' target=\"_blank\">https://wandb.ai/nlp-lantsch-schmassmann-wigger/nlp-lantsch-schmassmann-wigger/runs/wrzsjgsn</a>"
      ],
      "text/plain": [
       "<IPython.core.display.HTML object>"
      ]
     },
     "metadata": {},
     "output_type": "display_data"
    },
    {
     "data": {
      "text/html": [
       "\n",
       "    <div>\n",
       "      \n",
       "      <progress value='27000' max='27000' style='width:300px; height:20px; vertical-align: middle;'></progress>\n",
       "      [27000/27000 48:23, Epoch 3/3]\n",
       "    </div>\n",
       "    <table border=\"1\" class=\"dataframe\">\n",
       "  <thead>\n",
       " <tr style=\"text-align: left;\">\n",
       "      <th>Epoch</th>\n",
       "      <th>Training Loss</th>\n",
       "      <th>Validation Loss</th>\n",
       "      <th>Precision</th>\n",
       "      <th>Recall</th>\n",
       "      <th>F1</th>\n",
       "    </tr>\n",
       "  </thead>\n",
       "  <tbody>\n",
       "    <tr>\n",
       "      <td>1</td>\n",
       "      <td>0.405600</td>\n",
       "      <td>0.364239</td>\n",
       "      <td>0.848328</td>\n",
       "      <td>0.886501</td>\n",
       "      <td>0.866994</td>\n",
       "    </tr>\n",
       "    <tr>\n",
       "      <td>2</td>\n",
       "      <td>0.291200</td>\n",
       "      <td>0.378172</td>\n",
       "      <td>0.874695</td>\n",
       "      <td>0.856774</td>\n",
       "      <td>0.865641</td>\n",
       "    </tr>\n",
       "    <tr>\n",
       "      <td>3</td>\n",
       "      <td>0.181100</td>\n",
       "      <td>0.544718</td>\n",
       "      <td>0.867781</td>\n",
       "      <td>0.864624</td>\n",
       "      <td>0.866200</td>\n",
       "    </tr>\n",
       "  </tbody>\n",
       "</table><p>"
      ],
      "text/plain": [
       "<IPython.core.display.HTML object>"
      ]
     },
     "metadata": {},
     "output_type": "display_data"
    },
    {
     "data": {
      "text/html": [],
      "text/plain": [
       "<IPython.core.display.HTML object>"
      ]
     },
     "metadata": {},
     "output_type": "display_data"
    },
    {
     "data": {
      "text/html": [],
      "text/plain": [
       "<IPython.core.display.HTML object>"
      ]
     },
     "metadata": {},
     "output_type": "display_data"
    },
    {
     "name": "stdout",
     "output_type": "stream",
     "text": [
      "\n",
      "Classifier: bert-base-uncased | Vectorizer: bert-base-uncased\n",
      "Validation Accuracy: 0.8422\n",
      "Test Accuracy: 0.8364\n",
      "Training Duration: 2904.25 seconds\n"
     ]
    },
    {
     "data": {
      "text/html": [
       "Waiting for W&B process to finish... <strong style=\"color:green\">(success).</strong>"
      ],
      "text/plain": [
       "<IPython.core.display.HTML object>"
      ]
     },
     "metadata": {},
     "output_type": "display_data"
    },
    {
     "name": "stderr",
     "output_type": "stream",
     "text": [
      "wandb: WARNING Source type is set to 'repo' but some required information is missing from the environment. A job will not be created from this run. See https://docs.wandb.ai/guides/launch/create-job\n"
     ]
    },
    {
     "data": {
      "text/html": [
       "<style>\n",
       "    table.wandb td:nth-child(1) { padding: 0 10px; text-align: left ; width: auto;} td:nth-child(2) {text-align: left ; width: 100%}\n",
       "    .wandb-row { display: flex; flex-direction: row; flex-wrap: wrap; justify-content: flex-start; width: 100% }\n",
       "    .wandb-col { display: flex; flex-direction: column; flex-basis: 100%; flex: 1; padding: 10px; }\n",
       "    </style>\n",
       "<div class=\"wandb-row\"><div class=\"wandb-col\"><h3>Run history:</h3><br/><table class=\"wandb\"><tr><td>eval/f1</td><td>█▁▄█</td></tr><tr><td>eval/loss</td><td>▁▂█▁</td></tr><tr><td>eval/precision</td><td>▁█▆▁</td></tr><tr><td>eval/recall</td><td>█▁▃█</td></tr><tr><td>eval/runtime</td><td>█▃▁▁</td></tr><tr><td>eval/samples_per_second</td><td>▁▅██</td></tr><tr><td>eval/steps_per_second</td><td>▁▅██</td></tr><tr><td>train/epoch</td><td>▁▁▅▅████</td></tr><tr><td>train/global_step</td><td>▁▁▅▅█████</td></tr><tr><td>train/learning_rate</td><td>█▅▁</td></tr><tr><td>train/loss</td><td>█▄▁</td></tr><tr><td>train/total_flos</td><td>▁</td></tr><tr><td>train/train_loss</td><td>▁</td></tr><tr><td>train/train_runtime</td><td>▁</td></tr><tr><td>train/train_samples_per_second</td><td>▁</td></tr><tr><td>train/train_steps_per_second</td><td>▁</td></tr></table><br/></div><div class=\"wandb-col\"><h3>Run summary:</h3><br/><table class=\"wandb\"><tr><td>eval/f1</td><td>0.86699</td></tr><tr><td>eval/loss</td><td>0.36424</td></tr><tr><td>eval/precision</td><td>0.84833</td></tr><tr><td>eval/recall</td><td>0.8865</td></tr><tr><td>eval/runtime</td><td>61.5734</td></tr><tr><td>eval/samples_per_second</td><td>584.651</td></tr><tr><td>eval/steps_per_second</td><td>9.144</td></tr><tr><td>train/epoch</td><td>3.0</td></tr><tr><td>train/global_step</td><td>27000</td></tr><tr><td>train/learning_rate</td><td>0.0</td></tr><tr><td>train/loss</td><td>0.1811</td></tr><tr><td>train/total_flos</td><td>2.841520464571392e+16</td></tr><tr><td>train/train_loss</td><td>0.29262</td></tr><tr><td>train/train_runtime</td><td>2903.3296</td></tr><tr><td>train/train_samples_per_second</td><td>148.791</td></tr><tr><td>train/train_steps_per_second</td><td>9.3</td></tr></table><br/></div></div>"
      ],
      "text/plain": [
       "<IPython.core.display.HTML object>"
      ]
     },
     "metadata": {},
     "output_type": "display_data"
    },
    {
     "data": {
      "text/html": [
       " View run <strong style=\"color:#cdcd00\">polished-pond-70</strong> at: <a href='https://wandb.ai/nlp-lantsch-schmassmann-wigger/nlp-lantsch-schmassmann-wigger/runs/wrzsjgsn' target=\"_blank\">https://wandb.ai/nlp-lantsch-schmassmann-wigger/nlp-lantsch-schmassmann-wigger/runs/wrzsjgsn</a><br/>Synced 5 W&B file(s), 0 media file(s), 0 artifact file(s) and 0 other file(s)"
      ],
      "text/plain": [
       "<IPython.core.display.HTML object>"
      ]
     },
     "metadata": {},
     "output_type": "display_data"
    },
    {
     "data": {
      "text/html": [
       "Find logs at: <code>./wandb/run-20250609_170420-wrzsjgsn/logs</code>"
      ],
      "text/plain": [
       "<IPython.core.display.HTML object>"
      ]
     },
     "metadata": {},
     "output_type": "display_data"
    }
   ],
   "source": [
    "from models.utils.evaluationUtility import calculate_metrics\n",
    "\n",
    "\n",
    "def compute_metrics(eval_pred):\n",
    "    logits, labels = eval_pred\n",
    "    predictions = np.argmax(logits, axis=1)\n",
    "    precision, recall, f1, _ = precision_recall_fscore_support(labels, predictions, average='binary')\n",
    "    return {\n",
    "        'precision': precision,\n",
    "        'recall': recall,\n",
    "        'f1': f1,\n",
    "    }\n",
    "\n",
    "try:\n",
    "    os.environ[\"WANDB_API_KEY\"] = \"c9f6fc4517a3f6a4963c34996ef0fc78197c027d\" #os.getenv('WANDB_KEY')\n",
    "    wandb.login(key=os.getenv('WANDB_API_KEY'))\n",
    "\n",
    "    os.environ[\"WANDB_PROJECT\"] = \"nlp-lantsch-schmassmann-wigger\"\n",
    "    os.environ[\"WANDB_ENTITY\"] = \"nlp-lantsch-schmassmann-wigger\"\n",
    "    os.environ[\"WANDB_WATCH\"] = \"all\"\n",
    "    \n",
    "    wandb.init(\n",
    "        project=os.getenv('WANDB_PROJECT'),\n",
    "        entity=os.getenv('WANDB_ENTITY'),\n",
    "        config={\n",
    "            \"learning_rate\": 2e-5,\n",
    "            \"epochs\": 3,\n",
    "            \"batch_size\": 16\n",
    "        }\n",
    "    )\n",
    "\n",
    "    training_args = TrainingArguments(\n",
    "        output_dir=\"./results\",\n",
    "        evaluation_strategy=\"epoch\",\n",
    "        save_strategy=\"epoch\",\n",
    "        logging_strategy=\"epoch\",\n",
    "        num_train_epochs=3,\n",
    "        per_device_train_batch_size=16,\n",
    "        per_device_eval_batch_size=64,\n",
    "        warmup_steps=500,\n",
    "        weight_decay=0.01,\n",
    "        logging_dir=\"./logs\",\n",
    "        load_best_model_at_end=True,\n",
    "        metric_for_best_model=\"f1\",\n",
    "        save_total_limit=1,\n",
    "        report_to=[\"wandb\"] \n",
    "    )\n",
    "\n",
    "    trainer = Trainer(\n",
    "        model=model,\n",
    "        args=training_args,\n",
    "        train_dataset=train_dataset,\n",
    "        eval_dataset=validation_dataset,\n",
    "        compute_metrics=compute_metrics\n",
    "    )\n",
    "\n",
    "    start_time = time.time()\n",
    "    trainer.train()\n",
    "    end_time = time.time()\n",
    "    training_duration = end_time - start_time\n",
    "    trainer.evaluate()\n",
    "\n",
    "    calculate_metrics(trainer, validation_dataset, validation_labels, test_dataset, test_labels, \"bert-base-uncased\", \"bert-base-uncased\", \"bert\", training_duration)\n",
    "\n",
    "\n",
    "    wandb.finish()\n",
    "except Exception as e:\n",
    "    wandb.finish()\n",
    "    raise e"
   ]
  },
  {
   "cell_type": "code",
   "execution_count": 11,
   "metadata": {},
   "outputs": [
    {
     "name": "stderr",
     "output_type": "stream",
     "text": [
      "/usr/local/lib/python3.11/dist-packages/seaborn/categorical.py:645: FutureWarning: When grouping with a length-1 list-like, you will need to pass a length-1 tuple to get_group in a future version of pandas. Pass `(name,)` instead of `name` to silence this warning.\n",
      "  g_vals = grouped_vals.get_group(g)\n",
      "/usr/local/lib/python3.11/dist-packages/seaborn/categorical.py:645: FutureWarning: When grouping with a length-1 list-like, you will need to pass a length-1 tuple to get_group in a future version of pandas. Pass `(name,)` instead of `name` to silence this warning.\n",
      "  g_vals = grouped_vals.get_group(g)\n",
      "/usr/local/lib/python3.11/dist-packages/seaborn/categorical.py:645: FutureWarning: When grouping with a length-1 list-like, you will need to pass a length-1 tuple to get_group in a future version of pandas. Pass `(name,)` instead of `name` to silence this warning.\n",
      "  g_vals = grouped_vals.get_group(g)\n",
      "/usr/local/lib/python3.11/dist-packages/seaborn/categorical.py:645: FutureWarning: When grouping with a length-1 list-like, you will need to pass a length-1 tuple to get_group in a future version of pandas. Pass `(name,)` instead of `name` to silence this warning.\n",
      "  g_vals = grouped_vals.get_group(g)\n",
      "/usr/local/lib/python3.11/dist-packages/seaborn/categorical.py:645: FutureWarning: When grouping with a length-1 list-like, you will need to pass a length-1 tuple to get_group in a future version of pandas. Pass `(name,)` instead of `name` to silence this warning.\n",
      "  g_vals = grouped_vals.get_group(g)\n",
      "/usr/local/lib/python3.11/dist-packages/seaborn/categorical.py:645: FutureWarning: When grouping with a length-1 list-like, you will need to pass a length-1 tuple to get_group in a future version of pandas. Pass `(name,)` instead of `name` to silence this warning.\n",
      "  g_vals = grouped_vals.get_group(g)\n",
      "/usr/local/lib/python3.11/dist-packages/seaborn/categorical.py:645: FutureWarning: When grouping with a length-1 list-like, you will need to pass a length-1 tuple to get_group in a future version of pandas. Pass `(name,)` instead of `name` to silence this warning.\n",
      "  g_vals = grouped_vals.get_group(g)\n",
      "/usr/local/lib/python3.11/dist-packages/seaborn/categorical.py:645: FutureWarning: When grouping with a length-1 list-like, you will need to pass a length-1 tuple to get_group in a future version of pandas. Pass `(name,)` instead of `name` to silence this warning.\n",
      "  g_vals = grouped_vals.get_group(g)\n"
     ]
    },
    {
     "data": {
      "image/png": "[encoded data removed]",
      "text/plain": [
       "<Figure size 1200x1600 with 8 Axes>"
      ]
     },
     "metadata": {},
     "output_type": "display_data"
    },
    {
     "data": {
      "image/png": "[encoded data removed]",
      "text/plain": [
       "<Figure size 1200x300 with 2 Axes>"
      ]
     },
     "metadata": {},
     "output_type": "display_data"
    },
    {
     "data": {
      "application/vnd.microsoft.datawrangler.viewer.v0+json": {
       "columns": [
        {
         "name": "index",
         "rawType": "int64",
         "type": "integer"
        },
        {
         "name": "classifier",
         "rawType": "object",
         "type": "string"
        },
        {
         "name": "vectorizer",
         "rawType": "object",
         "type": "string"
        },
        {
         "name": "val_accuracy",
         "rawType": "float64",
         "type": "float"
        },
        {
         "name": "val_precision",
         "rawType": "float64",
         "type": "float"
        },
        {
         "name": "val_recall",
         "rawType": "float64",
         "type": "float"
        },
        {
         "name": "val_f1",
         "rawType": "float64",
         "type": "float"
        },
        {
         "name": "test_accuracy",
         "rawType": "float64",
         "type": "float"
        },
        {
         "name": "test_precision",
         "rawType": "float64",
         "type": "float"
        },
        {
         "name": "test_recall",
         "rawType": "float64",
         "type": "float"
        },
        {
         "name": "test_f1",
         "rawType": "float64",
         "type": "float"
        },
        {
         "name": "training_duration",
         "rawType": "float64",
         "type": "float"
        },
        {
         "name": "Classifier",
         "rawType": "object",
         "type": "string"
        },
        {
         "name": "Vectorizer",
         "rawType": "object",
         "type": "string"
        },
        {
         "name": "Validation Confusion",
         "rawType": "object",
         "type": "unknown"
        },
        {
         "name": "Test Confusion",
         "rawType": "object",
         "type": "unknown"
        },
        {
         "name": "Model",
         "rawType": "object",
         "type": "string"
        }
       ],
       "ref": "9edafb19-e469-4ea7-9885-20aa62ebd171",
       "rows": [
        [
         "0",
         "bert-base-uncased",
         "bert-base-uncased",
         "0.8421622822856191",
         "0.8483279890059551",
         "0.8865007180469124",
         "0.8669943820224719",
         "0.8364185870797128",
         "0.8444198487363955",
         "0.8792255685310387",
         "0.8614712911906958",
         "2904.2490792274475",
         "bert-base-uncased",
         "bert-base-uncased",
         "[[11798, 3311], [2371, 18519]]",
         "[[14750, 4217], [3144, 22888]]",
         "bert-base-uncased + bert-base-uncased"
        ]
       ],
       "shape": {
        "columns": 16,
        "rows": 1
       }
      },
      "text/html": [
       "<div>\n",
       "<style scoped>\n",
       "    .dataframe tbody tr th:only-of-type {\n",
       "        vertical-align: middle;\n",
       "    }\n",
       "\n",
       "    .dataframe tbody tr th {\n",
       "        vertical-align: top;\n",
       "    }\n",
       "\n",
       "    .dataframe thead th {\n",
       "        text-align: right;\n",
       "    }\n",
       "</style>\n",
       "<table border=\"1\" class=\"dataframe\">\n",
       "  <thead>\n",
       "    <tr style=\"text-align: right;\">\n",
       "      <th></th>\n",
       "      <th>classifier</th>\n",
       "      <th>vectorizer</th>\n",
       "      <th>val_accuracy</th>\n",
       "      <th>val_precision</th>\n",
       "      <th>val_recall</th>\n",
       "      <th>val_f1</th>\n",
       "      <th>test_accuracy</th>\n",
       "      <th>test_precision</th>\n",
       "      <th>test_recall</th>\n",
       "      <th>test_f1</th>\n",
       "      <th>training_duration</th>\n",
       "      <th>Classifier</th>\n",
       "      <th>Vectorizer</th>\n",
       "      <th>Validation Confusion</th>\n",
       "      <th>Test Confusion</th>\n",
       "      <th>Model</th>\n",
       "    </tr>\n",
       "  </thead>\n",
       "  <tbody>\n",
       "    <tr>\n",
       "      <th>0</th>\n",
       "      <td>bert-base-uncased</td>\n",
       "      <td>bert-base-uncased</td>\n",
       "      <td>0.842162</td>\n",
       "      <td>0.848328</td>\n",
       "      <td>0.886501</td>\n",
       "      <td>0.866994</td>\n",
       "      <td>0.836419</td>\n",
       "      <td>0.84442</td>\n",
       "      <td>0.879226</td>\n",
       "      <td>0.861471</td>\n",
       "      <td>2904.249079</td>\n",
       "      <td>bert-base-uncased</td>\n",
       "      <td>bert-base-uncased</td>\n",
       "      <td>[[11798, 3311], [2371, 18519]]</td>\n",
       "      <td>[[14750, 4217], [3144, 22888]]</td>\n",
       "      <td>bert-base-uncased + bert-base-uncased</td>\n",
       "    </tr>\n",
       "  </tbody>\n",
       "</table>\n",
       "</div>"
      ],
      "text/plain": [
       "          classifier         vectorizer  val_accuracy  val_precision  \\\n",
       "0  bert-base-uncased  bert-base-uncased      0.842162       0.848328   \n",
       "\n",
       "   val_recall    val_f1  test_accuracy  test_precision  test_recall   test_f1  \\\n",
       "0    0.886501  0.866994       0.836419         0.84442     0.879226  0.861471   \n",
       "\n",
       "   training_duration         Classifier         Vectorizer  \\\n",
       "0        2904.249079  bert-base-uncased  bert-base-uncased   \n",
       "\n",
       "             Validation Confusion                  Test Confusion  \\\n",
       "0  [[11798, 3311], [2371, 18519]]  [[14750, 4217], [3144, 22888]]   \n",
       "\n",
       "                                   Model  \n",
       "0  bert-base-uncased + bert-base-uncased  "
      ]
     },
     "execution_count": 11,
     "metadata": {},
     "output_type": "execute_result"
    }
   ],
   "source": [
    "from models.utils.evaluationUtility import analyze_all_results\n",
    "\n",
    "\n",
    "analyze_all_results(results_dir=\"executions/bert\")"
   ]
  }
 ],
 "metadata": {
  "kernelspec": {
   "display_name": "Python 3 (ipykernel)",
   "language": "python",
   "name": "python3"
  },
  "language_info": {
   "codemirror_mode": {
    "name": "ipython",
    "version": 3
   },
   "file_extension": ".py",
   "mimetype": "text/x-python",
   "name": "python",
   "nbconvert_exporter": "python",
   "pygments_lexer": "ipython3",
   "version": "3.11.7"
  }
 },
 "nbformat": 4,
 "nbformat_minor": 2
}
