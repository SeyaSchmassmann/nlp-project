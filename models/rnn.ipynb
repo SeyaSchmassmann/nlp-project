{
 "cells": [
  {
   "cell_type": "markdown",
   "id": "f7444a1b",
   "metadata": {},
   "source": [
    "# RNN"
   ]
  },
  {
   "cell_type": "markdown",
   "id": "4c6a6890",
   "metadata": {},
   "source": [
    "## Imports / Settings"
   ]
  },
  {
   "cell_type": "code",
   "execution_count": 2,
   "id": "55aa43ae",
   "metadata": {},
   "outputs": [
    {
     "name": "stdout",
     "output_type": "stream",
     "text": [
      "Defaulting to user installation because normal site-packages is not writeable\n",
      "Requirement already satisfied: dotenv in c:\\users\\seya.schmassmann\\appdata\\roaming\\python\\python312\\site-packages (0.9.9)\n",
      "Requirement already satisfied: python-dotenv in c:\\users\\seya.schmassmann\\appdata\\roaming\\python\\python312\\site-packages (from dotenv) (1.1.0)\n",
      "Note: you may need to restart the kernel to use updated packages.\n"
     ]
    },
    {
     "name": "stderr",
     "output_type": "stream",
     "text": [
      "WARNING: Ignoring invalid distribution ~orch (C:\\Users\\Seya.Schmassmann\\AppData\\Roaming\\Python\\Python312\\site-packages)\n",
      "WARNING: Ignoring invalid distribution ~orch (C:\\Users\\Seya.Schmassmann\\AppData\\Roaming\\Python\\Python312\\site-packages)\n",
      "WARNING: Ignoring invalid distribution ~orch (C:\\Users\\Seya.Schmassmann\\AppData\\Roaming\\Python\\Python312\\site-packages)\n",
      "WARNING: Ignoring invalid distribution ~orch (C:\\Users\\Seya.Schmassmann\\AppData\\Roaming\\Python\\Python312\\site-packages)\n",
      "WARNING: Ignoring invalid distribution ~orch (C:\\Users\\Seya.Schmassmann\\AppData\\Roaming\\Python\\Python312\\site-packages)\n",
      "\n",
      "[notice] A new release of pip is available: 24.3.1 -> 25.1.1\n",
      "[notice] To update, run: python.exe -m pip install --upgrade pip\n"
     ]
    },
    {
     "name": "stdout",
     "output_type": "stream",
     "text": [
      "Defaulting to user installation because normal site-packages is not writeable\n",
      "Collecting spacy\n",
      "  Downloading spacy-3.8.7-cp312-cp312-win_amd64.whl.metadata (28 kB)\n",
      "Collecting spacy-legacy<3.1.0,>=3.0.11 (from spacy)\n",
      "  Downloading spacy_legacy-3.0.12-py2.py3-none-any.whl.metadata (2.8 kB)\n",
      "Collecting spacy-loggers<2.0.0,>=1.0.0 (from spacy)\n",
      "  Downloading spacy_loggers-1.0.5-py3-none-any.whl.metadata (23 kB)\n",
      "Collecting murmurhash<1.1.0,>=0.28.0 (from spacy)\n",
      "  Downloading murmurhash-1.0.13-cp312-cp312-win_amd64.whl.metadata (2.2 kB)\n",
      "Collecting cymem<2.1.0,>=2.0.2 (from spacy)\n",
      "  Downloading cymem-2.0.11-cp312-cp312-win_amd64.whl.metadata (8.8 kB)\n",
      "Collecting preshed<3.1.0,>=3.0.2 (from spacy)\n",
      "  Downloading preshed-3.0.10-cp312-cp312-win_amd64.whl.metadata (2.5 kB)\n",
      "Collecting thinc<8.4.0,>=8.3.4 (from spacy)\n",
      "  Downloading thinc-8.3.6-cp312-cp312-win_amd64.whl.metadata (15 kB)\n",
      "Collecting wasabi<1.2.0,>=0.9.1 (from spacy)\n",
      "  Downloading wasabi-1.1.3-py3-none-any.whl.metadata (28 kB)\n",
      "Collecting srsly<3.0.0,>=2.4.3 (from spacy)\n",
      "  Downloading srsly-2.5.1-cp312-cp312-win_amd64.whl.metadata (20 kB)\n",
      "Collecting catalogue<2.1.0,>=2.0.6 (from spacy)\n",
      "  Downloading catalogue-2.0.10-py3-none-any.whl.metadata (14 kB)\n",
      "Collecting weasel<0.5.0,>=0.1.0 (from spacy)\n",
      "  Downloading weasel-0.4.1-py3-none-any.whl.metadata (4.6 kB)\n",
      "Collecting typer<1.0.0,>=0.3.0 (from spacy)\n",
      "  Downloading typer-0.16.0-py3-none-any.whl.metadata (15 kB)\n",
      "Requirement already satisfied: tqdm<5.0.0,>=4.38.0 in c:\\python312\\lib\\site-packages (from spacy) (4.67.1)\n",
      "Requirement already satisfied: numpy>=1.19.0 in c:\\python312\\lib\\site-packages (from spacy) (1.26.4)\n",
      "Requirement already satisfied: requests<3.0.0,>=2.13.0 in c:\\users\\seya.schmassmann\\appdata\\roaming\\python\\python312\\site-packages (from spacy) (2.32.3)\n",
      "Requirement already satisfied: pydantic!=1.8,!=1.8.1,<3.0.0,>=1.7.4 in c:\\users\\seya.schmassmann\\appdata\\roaming\\python\\python312\\site-packages (from spacy) (2.11.3)\n",
      "Requirement already satisfied: jinja2 in c:\\users\\seya.schmassmann\\appdata\\roaming\\python\\python312\\site-packages (from spacy) (3.1.6)\n",
      "Requirement already satisfied: setuptools in c:\\users\\seya.schmassmann\\appdata\\roaming\\python\\python312\\site-packages (from spacy) (78.1.1)\n",
      "Requirement already satisfied: packaging>=20.0 in c:\\users\\seya.schmassmann\\appdata\\roaming\\python\\python312\\site-packages (from spacy) (24.2)\n",
      "Collecting langcodes<4.0.0,>=3.2.0 (from spacy)\n",
      "  Downloading langcodes-3.5.0-py3-none-any.whl.metadata (29 kB)\n",
      "Collecting language-data>=1.2 (from langcodes<4.0.0,>=3.2.0->spacy)\n",
      "  Downloading language_data-1.3.0-py3-none-any.whl.metadata (4.3 kB)\n",
      "Requirement already satisfied: annotated-types>=0.6.0 in c:\\users\\seya.schmassmann\\appdata\\roaming\\python\\python312\\site-packages (from pydantic!=1.8,!=1.8.1,<3.0.0,>=1.7.4->spacy) (0.7.0)\n",
      "Requirement already satisfied: pydantic-core==2.33.1 in c:\\users\\seya.schmassmann\\appdata\\roaming\\python\\python312\\site-packages (from pydantic!=1.8,!=1.8.1,<3.0.0,>=1.7.4->spacy) (2.33.1)\n",
      "Requirement already satisfied: typing-extensions>=4.12.2 in c:\\users\\seya.schmassmann\\appdata\\roaming\\python\\python312\\site-packages (from pydantic!=1.8,!=1.8.1,<3.0.0,>=1.7.4->spacy) (4.13.2)\n",
      "Requirement already satisfied: typing-inspection>=0.4.0 in c:\\users\\seya.schmassmann\\appdata\\roaming\\python\\python312\\site-packages (from pydantic!=1.8,!=1.8.1,<3.0.0,>=1.7.4->spacy) (0.4.0)\n",
      "Requirement already satisfied: charset-normalizer<4,>=2 in c:\\users\\seya.schmassmann\\appdata\\roaming\\python\\python312\\site-packages (from requests<3.0.0,>=2.13.0->spacy) (3.4.1)\n",
      "Requirement already satisfied: idna<4,>=2.5 in c:\\users\\seya.schmassmann\\appdata\\roaming\\python\\python312\\site-packages (from requests<3.0.0,>=2.13.0->spacy) (3.10)\n",
      "Requirement already satisfied: urllib3<3,>=1.21.1 in c:\\users\\seya.schmassmann\\appdata\\roaming\\python\\python312\\site-packages (from requests<3.0.0,>=2.13.0->spacy) (2.4.0)\n",
      "Requirement already satisfied: certifi>=2017.4.17 in c:\\users\\seya.schmassmann\\appdata\\roaming\\python\\python312\\site-packages (from requests<3.0.0,>=2.13.0->spacy) (2025.1.31)\n",
      "Collecting blis<1.4.0,>=1.3.0 (from thinc<8.4.0,>=8.3.4->spacy)\n",
      "  Downloading blis-1.3.0-cp312-cp312-win_amd64.whl.metadata (7.6 kB)\n",
      "Collecting confection<1.0.0,>=0.0.1 (from thinc<8.4.0,>=8.3.4->spacy)\n",
      "  Downloading confection-0.1.5-py3-none-any.whl.metadata (19 kB)\n",
      "Collecting numpy>=1.19.0 (from spacy)\n",
      "  Downloading numpy-2.3.0-cp312-cp312-win_amd64.whl.metadata (60 kB)\n",
      "Requirement already satisfied: colorama in c:\\users\\seya.schmassmann\\appdata\\roaming\\python\\python312\\site-packages (from tqdm<5.0.0,>=4.38.0->spacy) (0.4.6)\n",
      "Requirement already satisfied: click>=8.0.0 in c:\\users\\seya.schmassmann\\appdata\\roaming\\python\\python312\\site-packages (from typer<1.0.0,>=0.3.0->spacy) (8.1.8)\n",
      "Collecting shellingham>=1.3.0 (from typer<1.0.0,>=0.3.0->spacy)\n",
      "  Downloading shellingham-1.5.4-py2.py3-none-any.whl.metadata (3.5 kB)\n",
      "Collecting rich>=10.11.0 (from typer<1.0.0,>=0.3.0->spacy)\n",
      "  Downloading rich-14.0.0-py3-none-any.whl.metadata (18 kB)\n",
      "Collecting cloudpathlib<1.0.0,>=0.7.0 (from weasel<0.5.0,>=0.1.0->spacy)\n",
      "  Downloading cloudpathlib-0.21.1-py3-none-any.whl.metadata (14 kB)\n",
      "Requirement already satisfied: smart-open<8.0.0,>=5.2.1 in c:\\python312\\lib\\site-packages (from weasel<0.5.0,>=0.1.0->spacy) (7.1.0)\n",
      "Requirement already satisfied: MarkupSafe>=2.0 in c:\\users\\seya.schmassmann\\appdata\\roaming\\python\\python312\\site-packages (from jinja2->spacy) (3.0.2)\n",
      "Collecting marisa-trie>=1.1.0 (from language-data>=1.2->langcodes<4.0.0,>=3.2.0->spacy)\n",
      "  Downloading marisa_trie-1.2.1-cp312-cp312-win_amd64.whl.metadata (9.3 kB)\n",
      "Collecting markdown-it-py>=2.2.0 (from rich>=10.11.0->typer<1.0.0,>=0.3.0->spacy)\n",
      "  Downloading markdown_it_py-3.0.0-py3-none-any.whl.metadata (6.9 kB)\n",
      "Requirement already satisfied: pygments<3.0.0,>=2.13.0 in c:\\users\\seya.schmassmann\\appdata\\roaming\\python\\python312\\site-packages (from rich>=10.11.0->typer<1.0.0,>=0.3.0->spacy) (2.19.1)\n",
      "Requirement already satisfied: wrapt in c:\\python312\\lib\\site-packages (from smart-open<8.0.0,>=5.2.1->weasel<0.5.0,>=0.1.0->spacy) (1.17.2)\n",
      "Collecting mdurl~=0.1 (from markdown-it-py>=2.2.0->rich>=10.11.0->typer<1.0.0,>=0.3.0->spacy)\n",
      "  Downloading mdurl-0.1.2-py3-none-any.whl.metadata (1.6 kB)\n",
      "Downloading spacy-3.8.7-cp312-cp312-win_amd64.whl (13.9 MB)\n",
      "   ---------------------------------------- 0.0/13.9 MB ? eta -:--:--\n",
      "   --- ------------------------------------ 1.0/13.9 MB 5.6 MB/s eta 0:00:03\n",
      "   ------ --------------------------------- 2.4/13.9 MB 6.4 MB/s eta 0:00:02\n",
      "   ------------ --------------------------- 4.2/13.9 MB 7.2 MB/s eta 0:00:02\n",
      "   ------------------ --------------------- 6.3/13.9 MB 8.4 MB/s eta 0:00:01\n",
      "   ------------------ --------------------- 6.3/13.9 MB 8.4 MB/s eta 0:00:01\n",
      "   ------------------------ --------------- 8.7/13.9 MB 7.0 MB/s eta 0:00:01\n",
      "   ---------------------------------- ----- 12.1/13.9 MB 8.4 MB/s eta 0:00:01\n",
      "   ---------------------------------------- 13.9/13.9 MB 8.6 MB/s eta 0:00:00\n",
      "Downloading catalogue-2.0.10-py3-none-any.whl (17 kB)\n",
      "Downloading cymem-2.0.11-cp312-cp312-win_amd64.whl (39 kB)\n",
      "Downloading langcodes-3.5.0-py3-none-any.whl (182 kB)\n",
      "Downloading murmurhash-1.0.13-cp312-cp312-win_amd64.whl (24 kB)\n",
      "Downloading preshed-3.0.10-cp312-cp312-win_amd64.whl (116 kB)\n",
      "Downloading spacy_legacy-3.0.12-py2.py3-none-any.whl (29 kB)\n",
      "Downloading spacy_loggers-1.0.5-py3-none-any.whl (22 kB)\n",
      "Downloading srsly-2.5.1-cp312-cp312-win_amd64.whl (632 kB)\n",
      "   ---------------------------------------- 0.0/632.6 kB ? eta -:--:--\n",
      "   --------------------------------------- 632.6/632.6 kB 23.2 MB/s eta 0:00:00\n",
      "Downloading thinc-8.3.6-cp312-cp312-win_amd64.whl (1.7 MB)\n",
      "   ---------------------------------------- 0.0/1.7 MB ? eta -:--:--\n",
      "   ---------------------------------------- 1.7/1.7 MB 19.1 MB/s eta 0:00:00\n",
      "Downloading numpy-2.3.0-cp312-cp312-win_amd64.whl (12.7 MB)\n",
      "   ---------------------------------------- 0.0/12.7 MB ? eta -:--:--\n",
      "   -------------------- ------------------- 6.6/12.7 MB 33.6 MB/s eta 0:00:01\n",
      "   ---------------------------------------- 12.7/12.7 MB 32.0 MB/s eta 0:00:00\n",
      "Downloading typer-0.16.0-py3-none-any.whl (46 kB)\n",
      "Downloading wasabi-1.1.3-py3-none-any.whl (27 kB)\n",
      "Downloading weasel-0.4.1-py3-none-any.whl (50 kB)\n",
      "Downloading blis-1.3.0-cp312-cp312-win_amd64.whl (6.3 MB)\n",
      "   ---------------------------------------- 0.0/6.3 MB ? eta -:--:--\n",
      "   -------------------------------------- - 6.0/6.3 MB 33.5 MB/s eta 0:00:01\n",
      "   ---------------------------------------- 6.3/6.3 MB 29.5 MB/s eta 0:00:00\n",
      "Downloading cloudpathlib-0.21.1-py3-none-any.whl (52 kB)\n",
      "Downloading confection-0.1.5-py3-none-any.whl (35 kB)\n",
      "Downloading language_data-1.3.0-py3-none-any.whl (5.4 MB)\n",
      "   ---------------------------------------- 0.0/5.4 MB ? eta -:--:--\n",
      "   ---------------------------------------- 5.4/5.4 MB 41.0 MB/s eta 0:00:00\n",
      "Downloading rich-14.0.0-py3-none-any.whl (243 kB)\n",
      "Downloading shellingham-1.5.4-py2.py3-none-any.whl (9.8 kB)\n",
      "Downloading marisa_trie-1.2.1-cp312-cp312-win_amd64.whl (150 kB)\n",
      "Downloading markdown_it_py-3.0.0-py3-none-any.whl (87 kB)\n",
      "Downloading mdurl-0.1.2-py3-none-any.whl (10.0 kB)\n",
      "Installing collected packages: cymem, wasabi, spacy-loggers, spacy-legacy, shellingham, numpy, murmurhash, mdurl, marisa-trie, cloudpathlib, catalogue, srsly, preshed, markdown-it-py, language-data, blis, rich, langcodes, confection, typer, thinc, weasel, spacy\n",
      "Successfully installed blis-1.3.0 catalogue-2.0.10 cloudpathlib-0.21.1 confection-0.1.5 cymem-2.0.11 langcodes-3.5.0 language-data-1.3.0 marisa-trie-1.2.1 markdown-it-py-3.0.0 mdurl-0.1.2 murmurhash-1.0.13 numpy-2.3.0 preshed-3.0.10 rich-14.0.0 shellingham-1.5.4 spacy-3.8.7 spacy-legacy-3.0.12 spacy-loggers-1.0.5 srsly-2.5.1 thinc-8.3.6 typer-0.16.0 wasabi-1.1.3 weasel-0.4.1\n",
      "Note: you may need to restart the kernel to use updated packages.\n"
     ]
    },
    {
     "name": "stderr",
     "output_type": "stream",
     "text": [
      "WARNING: Ignoring invalid distribution ~orch (C:\\Users\\Seya.Schmassmann\\AppData\\Roaming\\Python\\Python312\\site-packages)\n",
      "WARNING: Ignoring invalid distribution ~orch (C:\\Users\\Seya.Schmassmann\\AppData\\Roaming\\Python\\Python312\\site-packages)\n",
      "WARNING: Ignoring invalid distribution ~orch (C:\\Users\\Seya.Schmassmann\\AppData\\Roaming\\Python\\Python312\\site-packages)\n",
      "ERROR: pip's dependency resolver does not currently take into account all the packages that are installed. This behaviour is the source of the following dependency conflicts.\n",
      "gensim 4.3.3 requires numpy<2.0,>=1.18.5, but you have numpy 2.3.0 which is incompatible.\n",
      "numba 0.61.0 requires numpy<2.2,>=1.24, but you have numpy 2.3.0 which is incompatible.\n",
      "scipy 1.13.1 requires numpy<2.3,>=1.22.4, but you have numpy 2.3.0 which is incompatible.\n",
      "WARNING: Ignoring invalid distribution ~orch (C:\\Users\\Seya.Schmassmann\\AppData\\Roaming\\Python\\Python312\\site-packages)\n",
      "WARNING: Ignoring invalid distribution ~orch (C:\\Users\\Seya.Schmassmann\\AppData\\Roaming\\Python\\Python312\\site-packages)\n",
      "\n",
      "[notice] A new release of pip is available: 24.3.1 -> 25.1.1\n",
      "[notice] To update, run: python.exe -m pip install --upgrade pip\n"
     ]
    },
    {
     "name": "stdout",
     "output_type": "stream",
     "text": [
      "Defaulting to user installation because normal site-packages is not writeable\n",
      "Collecting en-core-web-sm==3.8.0\n",
      "  Downloading https://github.com/explosion/spacy-models/releases/download/en_core_web_sm-3.8.0/en_core_web_sm-3.8.0-py3-none-any.whl (12.8 MB)\n",
      "     ---------------------------------------- 0.0/12.8 MB ? eta -:--:--\n",
      "     ------- -------------------------------- 2.4/12.8 MB 16.8 MB/s eta 0:00:01\n",
      "     --------------------------------------  12.6/12.8 MB 46.5 MB/s eta 0:00:01\n",
      "     --------------------------------------- 12.8/12.8 MB 34.9 MB/s eta 0:00:00\n",
      "Installing collected packages: en-core-web-sm\n",
      "Successfully installed en-core-web-sm-3.8.0\n",
      "\u001b[38;5;2m✔ Download and installation successful\u001b[0m\n",
      "You can now load the package via spacy.load('en_core_web_sm')\n"
     ]
    },
    {
     "name": "stderr",
     "output_type": "stream",
     "text": [
      "WARNING: Ignoring invalid distribution ~orch (C:\\Users\\Seya.Schmassmann\\AppData\\Roaming\\Python\\Python312\\site-packages)\n",
      "WARNING: Ignoring invalid distribution ~orch (C:\\Users\\Seya.Schmassmann\\AppData\\Roaming\\Python\\Python312\\site-packages)\n",
      "WARNING: Ignoring invalid distribution ~orch (C:\\Users\\Seya.Schmassmann\\AppData\\Roaming\\Python\\Python312\\site-packages)\n",
      "WARNING: Ignoring invalid distribution ~orch (C:\\Users\\Seya.Schmassmann\\AppData\\Roaming\\Python\\Python312\\site-packages)\n",
      "WARNING: Ignoring invalid distribution ~orch (C:\\Users\\Seya.Schmassmann\\AppData\\Roaming\\Python\\Python312\\site-packages)\n",
      "\n",
      "[notice] A new release of pip is available: 24.3.1 -> 25.1.1\n",
      "[notice] To update, run: python.exe -m pip install --upgrade pip\n"
     ]
    }
   ],
   "source": [
    "%pip install dotenv\n",
    "%pip install spacy\n",
    "!python -m spacy download en_core_web_sm"
   ]
  },
  {
   "cell_type": "code",
   "execution_count": 2,
   "id": "800b3b12",
   "metadata": {},
   "outputs": [],
   "source": [
    "%load_ext autoreload\n",
    "%autoreload 2"
   ]
  },
  {
   "cell_type": "code",
   "execution_count": 3,
   "id": "a6338c26",
   "metadata": {},
   "outputs": [
    {
     "name": "stderr",
     "output_type": "stream",
     "text": [
      "c:\\Python312\\Lib\\site-packages\\tqdm\\auto.py:21: TqdmWarning: IProgress not found. Please update jupyter and ipywidgets. See https://ipywidgets.readthedocs.io/en/stable/user_install.html\n",
      "  from .autonotebook import tqdm as notebook_tqdm\n"
     ]
    }
   ],
   "source": [
    "import pandas as pd\n",
    "from dotenv import load_dotenv\n",
    "from sklearn.model_selection import train_test_split\n",
    "from sklearn.metrics import precision_recall_fscore_support\n",
    "import os\n",
    "\n",
    "import torch\n",
    "import torch.nn as nn\n",
    "from torch.utils.data import Dataset, DataLoader\n",
    "from collections import Counter\n",
    "import pandas as pd\n",
    "from tqdm import tqdm\n",
    "import re\n",
    "\n",
    "import spacy\n",
    "import time\n",
    "\n",
    "from utils.evaluationUtility import analyze_all_results"
   ]
  },
  {
   "cell_type": "code",
   "execution_count": 4,
   "id": "5b7ecfd0",
   "metadata": {},
   "outputs": [],
   "source": [
    "IS_PAPERSPACE = os.getcwd().startswith('/notebooks')\n",
    "dir_env = os.path.join(os.getcwd(), '.env') if IS_PAPERSPACE else os.path.join(os.getcwd(), '..', '.env')\n",
    "_ = load_dotenv(dotenv_path=dir_env)"
   ]
  },
  {
   "cell_type": "code",
   "execution_count": 5,
   "id": "15f949d9",
   "metadata": {},
   "outputs": [
    {
     "name": "stdout",
     "output_type": "stream",
     "text": [
      "Using GPU: NVIDIA RTX A6000\n"
     ]
    }
   ],
   "source": [
    "device = torch.device('cuda' if torch.cuda.is_available() else 'cpu')\n",
    "if torch.cuda.is_available():\n",
    "    print(f'Using GPU: {torch.cuda.get_device_name(0)}')"
   ]
  },
  {
   "cell_type": "markdown",
   "id": "b691876b",
   "metadata": {},
   "source": [
    "## Data"
   ]
  },
  {
   "cell_type": "code",
   "execution_count": 6,
   "id": "f7f9a678",
   "metadata": {},
   "outputs": [],
   "source": [
    "df_traindata = pd.read_csv(\"data/train.csv\") if IS_PAPERSPACE else pd.read_csv(\"../data/train.csv\")\n",
    "train_texts, validation_texts, train_labels, validation_labels = train_test_split(\n",
    "    df_traindata['text'].tolist(), \n",
    "    df_traindata['sentiment'].tolist(), \n",
    "    test_size=0.2, \n",
    "    random_state=42\n",
    ")\n",
    "\n",
    "df_testdata = pd.read_csv(\"data/test.csv\") if IS_PAPERSPACE else pd.read_csv(\"../data/test.csv\")\n",
    "test_texts = df_testdata['text'].tolist()\n",
    "test_labels = df_testdata['sentiment'].tolist()"
   ]
  },
  {
   "cell_type": "code",
   "execution_count": 7,
   "id": "32565d8d",
   "metadata": {},
   "outputs": [],
   "source": [
    "class SentimentDataset(Dataset):\n",
    "    def __init__(self, texts, labels=None, vocabulary=None):\n",
    "        self.texts = texts\n",
    "        self.labels = labels\n",
    "        self.vocabulary = vocabulary\n",
    "\n",
    "    def __len__(self):\n",
    "        return len(self.texts)\n",
    "\n",
    "    def __getitem__(self, idx):\n",
    "        return torch.tensor(self.vocabulary.numericalize(self.texts[idx])), torch.tensor(self.labels[idx])\n",
    "    \n",
    "def pad_collate(batch):\n",
    "    texts, labels = zip(*batch)\n",
    "    lengths = torch.tensor([len(x) for x in texts])\n",
    "    padded = nn.utils.rnn.pad_sequence(texts, batch_first=True, padding_value=0)\n",
    "    return padded, lengths, torch.tensor(labels).float()"
   ]
  },
  {
   "cell_type": "code",
   "execution_count": 8,
   "id": "a7a17ee8",
   "metadata": {},
   "outputs": [],
   "source": [
    "class TokenizedSentimentDataset(Dataset):\n",
    "    def __init__(self, inputs, labels):\n",
    "        self.inputs = inputs\n",
    "        self.labels = [torch.tensor(label, dtype=torch.float) for label in labels]\n",
    "\n",
    "    def __len__(self):\n",
    "        return len(self.inputs)\n",
    "\n",
    "    def __getitem__(self, idx):\n",
    "        return self.inputs[idx], self.labels[idx]"
   ]
  },
  {
   "cell_type": "markdown",
   "id": "e03fb587",
   "metadata": {},
   "source": [
    "## Tokenizer"
   ]
  },
  {
   "cell_type": "code",
   "execution_count": 9,
   "id": "852d5f89",
   "metadata": {},
   "outputs": [],
   "source": [
    "def simple_tokenizer(text):\n",
    "    text = re.sub(r'[^a-zA-Z0-9\\s]', '', text.lower())\n",
    "    return text.split()\n",
    "\n",
    "class Vocabulary:\n",
    "    def __init__(self, texts, tokenizer, min_freq=2):\n",
    "        self.tokenizer = tokenizer\n",
    "        counter = Counter()\n",
    "        for text in texts:\n",
    "            counter.update(self.tokenizer(text))\n",
    "        \n",
    "        self.stoi = {\"<PAD>\": 0, \"<UNK>\": 1}\n",
    "        for word, freq in counter.items():\n",
    "            if freq >= min_freq:\n",
    "                self.stoi[word] = len(self.stoi)\n",
    "        self.itos = {i: s for s, i in self.stoi.items()}\n",
    "\n",
    "    def numericalize(self, text):\n",
    "        return [self.stoi.get(word, self.stoi[\"<UNK>\"]) for word in self.tokenizer(text)]\n",
    "    \n",
    "nlp = spacy.load(\"en_core_web_sm\")\n",
    "\n",
    "def spacy_tokenizer(text):\n",
    "    return [token.text for token in nlp(text) if not token.is_punct and not token.is_space]\n",
    "\n",
    "class TokenizedVocabulary:\n",
    "    def __init__(self, tokenized_texts, min_freq=2):\n",
    "        counter = Counter()\n",
    "        for tokens in tokenized_texts:\n",
    "            counter.update(tokens)\n",
    "\n",
    "        self.stoi = {\"<PAD>\": 0, \"<UNK>\": 1}\n",
    "        for word, freq in counter.items():\n",
    "            if freq >= min_freq:\n",
    "                self.stoi[word] = len(self.stoi)\n",
    "        self.itos = {i: s for s, i in self.stoi.items()}\n",
    "\n",
    "    def numericalize(self, tokens):\n",
    "        return [self.stoi.get(token, self.stoi[\"<UNK>\"]) for token in tokens]"
   ]
  },
  {
   "cell_type": "markdown",
   "id": "7fd52aef",
   "metadata": {},
   "source": [
    "## Embedding"
   ]
  },
  {
   "cell_type": "code",
   "execution_count": 10,
   "id": "128462e6",
   "metadata": {},
   "outputs": [],
   "source": [
    "def load_glove_embeddings(vocab, glove_path=\"glove.6B.100d.txt\", dim=100):\n",
    "    embeddings_index = {}\n",
    "    with open(glove_path, encoding=\"utf8\") as f:\n",
    "        for line in f:\n",
    "            values = line.strip().split()\n",
    "            word = values[0]\n",
    "            vector = torch.tensor([float(val) for val in values[1:]], dtype=torch.float)\n",
    "            embeddings_index[word] = vector\n",
    "\n",
    "    embedding_matrix = torch.randn(len(vocab.stoi), dim)  # Random init\n",
    "    for word, idx in vocab.stoi.items():\n",
    "        if word in embeddings_index:\n",
    "            embedding_matrix[idx] = embeddings_index[word]\n",
    "\n",
    "    return embedding_matrix"
   ]
  },
  {
   "cell_type": "markdown",
   "id": "846a753c",
   "metadata": {},
   "source": [
    "## Classifier"
   ]
  },
  {
   "cell_type": "code",
   "execution_count": 11,
   "id": "f8b634ca",
   "metadata": {},
   "outputs": [],
   "source": [
    "class RNNSentimentClassifier(nn.Module):\n",
    "    def __init__(self, vocab_size, embed_dim, hidden_dim, output_dim, num_layers, bidirectional, dropout):\n",
    "        super().__init__()\n",
    "        self.embedding = nn.Embedding(vocab_size, embed_dim, padding_idx=0)\n",
    "        self.rnn = nn.RNN(embed_dim, hidden_dim, num_layers=num_layers,\n",
    "                          bidirectional=bidirectional, batch_first=True, dropout=dropout, nonlinearity='tanh')\n",
    "        self.fc = nn.Linear(hidden_dim * 2 if bidirectional else hidden_dim, output_dim)\n",
    "        self.dropout = nn.Dropout(dropout)\n",
    "\n",
    "    def forward(self, x, lengths):\n",
    "        embedded = self.dropout(self.embedding(x))\n",
    "        packed = nn.utils.rnn.pack_padded_sequence(embedded, lengths.cpu(), batch_first=True, enforce_sorted=False)\n",
    "        _, hidden = self.rnn(packed)\n",
    "        if self.rnn.bidirectional:\n",
    "            hidden = self.dropout(torch.cat((hidden[-2], hidden[-1]), dim=1))\n",
    "        else:\n",
    "            hidden = self.dropout(hidden[-1])\n",
    "        return self.fc(hidden).squeeze()"
   ]
  },
  {
   "cell_type": "markdown",
   "id": "8d466f77",
   "metadata": {},
   "source": [
    "## Metrics"
   ]
  },
  {
   "cell_type": "code",
   "execution_count": 12,
   "id": "2e2e7270",
   "metadata": {},
   "outputs": [],
   "source": [
    "def calculate_metrics(model, data_loader, device='cuda'):\n",
    "    \n",
    "    model.eval()\n",
    "    all_preds = []\n",
    "    all_labels = []\n",
    "\n",
    "    with torch.no_grad():\n",
    "        for x, lengths, y in data_loader:\n",
    "            x, lengths, y = x.to(device), lengths.to(device), y.to(device)\n",
    "            predictions = model(x, lengths)\n",
    "            \n",
    "            preds = torch.round(torch.sigmoid(predictions))\n",
    "            all_preds.extend(preds.cpu().numpy())\n",
    "            all_labels.extend(y.cpu().numpy())\n",
    "\n",
    "    precision, recall, f1, _ = precision_recall_fscore_support(\n",
    "        all_labels, all_preds, average=\"weighted\", zero_division=0\n",
    "    )\n",
    "    \n",
    "    return precision, recall, f1\n",
    "\n",
    "def measure_inference_time(model, data_loader, device='cuda'):\n",
    "    model.eval()\n",
    "    total_time = 0\n",
    "    n_samples = 0\n",
    "    with torch.no_grad():\n",
    "        for inputs, lengths, _ in data_loader:\n",
    "            inputs = inputs.to(device)\n",
    "            n_samples += inputs.size(0)\n",
    "            start = time.time()\n",
    "            _ = model(inputs, lengths)\n",
    "            end = time.time()\n",
    "            total_time += (end - start)\n",
    "    return total_time\n",
    "\n",
    "def evaluate_model(model, model_name, classifier_name, vectorizer_name, training_duration, val_data_loader, test_data_loader, device='cuda'):\n",
    "    val_precision, val_recall, val_f1 = calculate_metrics(model, val_data_loader, device)\n",
    "    test_precision, test_recall, test_f1 = calculate_metrics(model, test_data_loader, device)\n",
    "    \n",
    "    inference_time = measure_inference_time(model, test_data_loader, device)\n",
    "    \n",
    "    result = {\n",
    "        'classifier': classifier_name,\n",
    "        'vectorizer': vectorizer_name,\n",
    "        'val_accuracy': None,\n",
    "        'val_precision': val_precision,\n",
    "        'val_recall': val_recall,\n",
    "        'val_f1': val_f1,\n",
    "        'test_accuracy': None,\n",
    "        'test_precision': test_precision,\n",
    "        'test_recall': test_recall,\n",
    "        'test_f1': test_f1,\n",
    "        'training_duration': training_duration,\n",
    "        'inference_time': inference_time,\n",
    "    }\n",
    "\n",
    "    results_name = f\"executions/{model_name}/{classifier_name}_{vectorizer_name}\"\n",
    "    result_df = pd.DataFrame([result])\n",
    "    result_df.to_csv(f\"{results_name}.csv\", index=False)"
   ]
  },
  {
   "cell_type": "markdown",
   "id": "d5b77b74",
   "metadata": {},
   "source": [
    "## Training"
   ]
  },
  {
   "cell_type": "code",
   "execution_count": 13,
   "id": "365b7973",
   "metadata": {},
   "outputs": [],
   "source": [
    "def train_model(model, train_loader, val_loader, epochs=5):\n",
    "    \n",
    "    optimizer = torch.optim.Adam(model.parameters())\n",
    "    criterion = nn.BCEWithLogitsLoss()\n",
    "    model.to(device)\n",
    "    criterion.to(device)\n",
    "\n",
    "    start_time = time.time()\n",
    "\n",
    "    for epoch in range(epochs):\n",
    "        # ====== Training =====\n",
    "        model.train()\n",
    "        train_loss, _ = 0, 0\n",
    "        for x, lengths, y in tqdm(train_loader):\n",
    "            x, lengths, y = x.to(device), lengths.to(device), y.to(device)\n",
    "            optimizer.zero_grad()\n",
    "            predictions = model(x, lengths)\n",
    "            loss = criterion(predictions, y)\n",
    "            loss.backward()\n",
    "            optimizer.step()\n",
    "            train_loss += loss.item()\n",
    "\n",
    "        # ====== Validation =====\n",
    "        model.eval()\n",
    "        val_loss = 0\n",
    "        all_preds = []\n",
    "        all_labels = []\n",
    "\n",
    "        with torch.no_grad():\n",
    "            for x, lengths, y in val_loader:\n",
    "                x, lengths, y = x.to(device), lengths.to(device), y.to(device)\n",
    "                predictions = model(x, lengths)\n",
    "                loss = criterion(predictions, y)\n",
    "                val_loss += loss.item()\n",
    "\n",
    "                preds = torch.round(torch.sigmoid(predictions))\n",
    "                all_preds.extend(preds.cpu().numpy())\n",
    "                all_labels.extend(y.cpu().numpy())\n",
    "\n",
    "        precision, recall, f1, _ = precision_recall_fscore_support(\n",
    "            all_labels, all_preds, average=\"weighted\", zero_division=0\n",
    "        )\n",
    "\n",
    "        print(f\"Epoch {epoch+1} | Train Loss: {train_loss / len(train_loader):.4f} | \"\n",
    "              f\"Val Loss: {val_loss / len(val_loader):.4f} | \"\n",
    "              f\"P: {precision:.4f} R: {recall:.4f} F1: {f1:.4f}\")\n",
    "\n",
    "    end_time = time.time()\n",
    "    return end_time - start_time"
   ]
  },
  {
   "cell_type": "markdown",
   "id": "4d86bd6c",
   "metadata": {},
   "source": [
    "### RNN with simple tokenizer"
   ]
  },
  {
   "cell_type": "code",
   "execution_count": 14,
   "id": "8a67fc4a",
   "metadata": {},
   "outputs": [],
   "source": [
    "vocabulary = Vocabulary(texts=train_texts, tokenizer=simple_tokenizer)\n",
    "\n",
    "train_dataset = SentimentDataset(train_texts, train_labels, vocabulary)\n",
    "val_dataset = SentimentDataset(validation_texts, validation_labels, vocabulary)\n",
    "test_dataset = SentimentDataset(test_texts, test_labels, vocabulary)\n",
    "\n",
    "train_loader = DataLoader(train_dataset, batch_size=32, shuffle=True, collate_fn=pad_collate)\n",
    "val_loader = DataLoader(val_dataset, batch_size=32, shuffle=False, collate_fn=pad_collate)\n",
    "test_loader = DataLoader(test_dataset, batch_size=32, shuffle=False, collate_fn=pad_collate)"
   ]
  },
  {
   "cell_type": "markdown",
   "id": "e8b726e3",
   "metadata": {},
   "source": [
    "#### 5 epochs, hidden dimension 128"
   ]
  },
  {
   "cell_type": "code",
   "execution_count": 15,
   "id": "2227353a",
   "metadata": {},
   "outputs": [
    {
     "name": "stderr",
     "output_type": "stream",
     "text": [
      "100%|██████████| 4500/4500 [00:36<00:00, 124.14it/s]\n"
     ]
    },
    {
     "name": "stdout",
     "output_type": "stream",
     "text": [
      "Epoch 1 | Train Loss: 0.5954 | Val Loss: 0.5044 | P: 0.7561 R: 0.7552 F1: 0.7556\n"
     ]
    },
    {
     "name": "stderr",
     "output_type": "stream",
     "text": [
      "100%|██████████| 4500/4500 [00:35<00:00, 125.58it/s]\n"
     ]
    },
    {
     "name": "stdout",
     "output_type": "stream",
     "text": [
      "Epoch 2 | Train Loss: 0.5293 | Val Loss: 0.5062 | P: 0.7657 R: 0.7671 F1: 0.7657\n"
     ]
    },
    {
     "name": "stderr",
     "output_type": "stream",
     "text": [
      "100%|██████████| 4500/4500 [00:35<00:00, 125.60it/s]\n"
     ]
    },
    {
     "name": "stdout",
     "output_type": "stream",
     "text": [
      "Epoch 3 | Train Loss: 0.5006 | Val Loss: 0.4692 | P: 0.7785 R: 0.7788 F1: 0.7787\n"
     ]
    },
    {
     "name": "stderr",
     "output_type": "stream",
     "text": [
      "100%|██████████| 4500/4500 [00:35<00:00, 125.86it/s]\n"
     ]
    },
    {
     "name": "stdout",
     "output_type": "stream",
     "text": [
      "Epoch 4 | Train Loss: 0.4761 | Val Loss: 0.4743 | P: 0.7854 R: 0.7862 F1: 0.7857\n"
     ]
    },
    {
     "name": "stderr",
     "output_type": "stream",
     "text": [
      "100%|██████████| 4500/4500 [00:35<00:00, 125.78it/s]\n"
     ]
    },
    {
     "name": "stdout",
     "output_type": "stream",
     "text": [
      "Epoch 5 | Train Loss: 0.4615 | Val Loss: 0.4661 | P: 0.7835 R: 0.7845 F1: 0.7836\n"
     ]
    }
   ],
   "source": [
    "model = RNNSentimentClassifier(\n",
    "    vocab_size=len(vocabulary.stoi),\n",
    "    embed_dim=100,\n",
    "    hidden_dim=128,\n",
    "    output_dim=1,\n",
    "    num_layers=2,\n",
    "    bidirectional=True,\n",
    "    dropout=0.5\n",
    ")\n",
    "\n",
    "training_time = train_model(model=model, train_loader=train_loader, val_loader=val_loader, epochs=5)\n",
    "\n",
    "evaluate_model(\n",
    "    model=model, \n",
    "    model_name=\"rnn\", \n",
    "    classifier_name=\"RNN\", \n",
    "    vectorizer_name=\"SimpleTokenizer-5e-128h\", \n",
    "    training_duration=training_time, \n",
    "    val_data_loader=val_loader, \n",
    "    test_data_loader=test_loader)"
   ]
  },
  {
   "cell_type": "markdown",
   "id": "e641e0b7",
   "metadata": {},
   "source": [
    "#### 10 epochs, hidden dimension 128"
   ]
  },
  {
   "cell_type": "code",
   "execution_count": 16,
   "id": "49533262",
   "metadata": {},
   "outputs": [
    {
     "name": "stderr",
     "output_type": "stream",
     "text": [
      "100%|██████████| 4500/4500 [00:35<00:00, 125.89it/s]\n"
     ]
    },
    {
     "name": "stdout",
     "output_type": "stream",
     "text": [
      "Epoch 1 | Train Loss: 0.5997 | Val Loss: 0.5153 | P: 0.7484 R: 0.7500 F1: 0.7483\n"
     ]
    },
    {
     "name": "stderr",
     "output_type": "stream",
     "text": [
      "100%|██████████| 4500/4500 [00:35<00:00, 125.77it/s]\n"
     ]
    },
    {
     "name": "stdout",
     "output_type": "stream",
     "text": [
      "Epoch 2 | Train Loss: 0.5229 | Val Loss: 0.4843 | P: 0.7680 R: 0.7692 F1: 0.7671\n"
     ]
    },
    {
     "name": "stderr",
     "output_type": "stream",
     "text": [
      "100%|██████████| 4500/4500 [00:35<00:00, 125.23it/s]\n"
     ]
    },
    {
     "name": "stdout",
     "output_type": "stream",
     "text": [
      "Epoch 3 | Train Loss: 0.4925 | Val Loss: 0.4703 | P: 0.7796 R: 0.7806 F1: 0.7798\n"
     ]
    },
    {
     "name": "stderr",
     "output_type": "stream",
     "text": [
      "100%|██████████| 4500/4500 [00:36<00:00, 124.76it/s]\n"
     ]
    },
    {
     "name": "stdout",
     "output_type": "stream",
     "text": [
      "Epoch 4 | Train Loss: 0.4743 | Val Loss: 0.4606 | P: 0.7826 R: 0.7835 F1: 0.7828\n"
     ]
    },
    {
     "name": "stderr",
     "output_type": "stream",
     "text": [
      "100%|██████████| 4500/4500 [00:35<00:00, 125.21it/s]\n"
     ]
    },
    {
     "name": "stdout",
     "output_type": "stream",
     "text": [
      "Epoch 5 | Train Loss: 0.4595 | Val Loss: 0.4569 | P: 0.7848 R: 0.7847 F1: 0.7847\n"
     ]
    },
    {
     "name": "stderr",
     "output_type": "stream",
     "text": [
      "100%|██████████| 4500/4500 [00:35<00:00, 125.35it/s]\n"
     ]
    },
    {
     "name": "stdout",
     "output_type": "stream",
     "text": [
      "Epoch 6 | Train Loss: 0.4473 | Val Loss: 0.4514 | P: 0.7893 R: 0.7895 F1: 0.7894\n"
     ]
    },
    {
     "name": "stderr",
     "output_type": "stream",
     "text": [
      "100%|██████████| 4500/4500 [00:35<00:00, 125.66it/s]\n"
     ]
    },
    {
     "name": "stdout",
     "output_type": "stream",
     "text": [
      "Epoch 7 | Train Loss: 0.4377 | Val Loss: 0.4512 | P: 0.7913 R: 0.7917 F1: 0.7914\n"
     ]
    },
    {
     "name": "stderr",
     "output_type": "stream",
     "text": [
      "100%|██████████| 4500/4500 [00:35<00:00, 125.20it/s]\n"
     ]
    },
    {
     "name": "stdout",
     "output_type": "stream",
     "text": [
      "Epoch 8 | Train Loss: 0.4298 | Val Loss: 0.4542 | P: 0.7908 R: 0.7916 F1: 0.7899\n"
     ]
    },
    {
     "name": "stderr",
     "output_type": "stream",
     "text": [
      "100%|██████████| 4500/4500 [00:35<00:00, 125.72it/s]\n"
     ]
    },
    {
     "name": "stdout",
     "output_type": "stream",
     "text": [
      "Epoch 9 | Train Loss: 0.4235 | Val Loss: 0.4472 | P: 0.7934 R: 0.7937 F1: 0.7935\n"
     ]
    },
    {
     "name": "stderr",
     "output_type": "stream",
     "text": [
      "100%|██████████| 4500/4500 [00:35<00:00, 125.13it/s]\n"
     ]
    },
    {
     "name": "stdout",
     "output_type": "stream",
     "text": [
      "Epoch 10 | Train Loss: 0.4179 | Val Loss: 0.4523 | P: 0.7937 R: 0.7934 F1: 0.7935\n"
     ]
    }
   ],
   "source": [
    "model = RNNSentimentClassifier(\n",
    "    vocab_size=len(vocabulary.stoi),\n",
    "    embed_dim=100,\n",
    "    hidden_dim=128,\n",
    "    output_dim=1,\n",
    "    num_layers=2,\n",
    "    bidirectional=True,\n",
    "    dropout=0.5\n",
    ")\n",
    "\n",
    "training_time = train_model(model=model, train_loader=train_loader, val_loader=val_loader, epochs=10)\n",
    "\n",
    "evaluate_model(\n",
    "    model=model, \n",
    "    model_name=\"rnn\", \n",
    "    classifier_name=\"RNN\", \n",
    "    vectorizer_name=\"SimpleTokenizer-10e-128h\",\n",
    "    training_duration=training_time, \n",
    "    val_data_loader=val_loader, \n",
    "    test_data_loader=test_loader)"
   ]
  },
  {
   "cell_type": "markdown",
   "id": "8a02a8f1",
   "metadata": {},
   "source": [
    "#### 5 epochs, hidden dimension 256"
   ]
  },
  {
   "cell_type": "code",
   "execution_count": 17,
   "id": "ae1378b4",
   "metadata": {},
   "outputs": [
    {
     "name": "stderr",
     "output_type": "stream",
     "text": [
      "100%|██████████| 4500/4500 [00:36<00:00, 122.46it/s]\n"
     ]
    },
    {
     "name": "stdout",
     "output_type": "stream",
     "text": [
      "Epoch 1 | Train Loss: 0.6186 | Val Loss: 0.5317 | P: 0.7296 R: 0.7317 F1: 0.7281\n"
     ]
    },
    {
     "name": "stderr",
     "output_type": "stream",
     "text": [
      "100%|██████████| 4500/4500 [00:36<00:00, 122.10it/s]\n"
     ]
    },
    {
     "name": "stdout",
     "output_type": "stream",
     "text": [
      "Epoch 2 | Train Loss: 0.5429 | Val Loss: 0.4949 | P: 0.7587 R: 0.7595 F1: 0.7589\n"
     ]
    },
    {
     "name": "stderr",
     "output_type": "stream",
     "text": [
      "100%|██████████| 4500/4500 [00:36<00:00, 123.37it/s]\n"
     ]
    },
    {
     "name": "stdout",
     "output_type": "stream",
     "text": [
      "Epoch 3 | Train Loss: 0.5114 | Val Loss: 0.5053 | P: 0.7600 R: 0.7613 F1: 0.7602\n"
     ]
    },
    {
     "name": "stderr",
     "output_type": "stream",
     "text": [
      "100%|██████████| 4500/4500 [00:36<00:00, 123.25it/s]\n"
     ]
    },
    {
     "name": "stdout",
     "output_type": "stream",
     "text": [
      "Epoch 4 | Train Loss: 0.4933 | Val Loss: 0.4778 | P: 0.7716 R: 0.7723 F1: 0.7719\n"
     ]
    },
    {
     "name": "stderr",
     "output_type": "stream",
     "text": [
      "100%|██████████| 4500/4500 [00:36<00:00, 122.53it/s]\n"
     ]
    },
    {
     "name": "stdout",
     "output_type": "stream",
     "text": [
      "Epoch 5 | Train Loss: 0.4820 | Val Loss: 0.4816 | P: 0.7708 R: 0.7710 F1: 0.7675\n"
     ]
    }
   ],
   "source": [
    "model = RNNSentimentClassifier(\n",
    "    vocab_size=len(vocabulary.stoi),\n",
    "    embed_dim=100,\n",
    "    hidden_dim=256,\n",
    "    output_dim=1,\n",
    "    num_layers=2,\n",
    "    bidirectional=True,\n",
    "    dropout=0.5\n",
    ")\n",
    "\n",
    "training_time = train_model(model=model, train_loader=train_loader, val_loader=val_loader, epochs=5)\n",
    "\n",
    "evaluate_model(\n",
    "    model=model, \n",
    "    model_name=\"rnn\", \n",
    "    classifier_name=\"RNN\", \n",
    "    vectorizer_name=\"SimpleTokenizer-5e-256h\",\n",
    "    training_duration=training_time, \n",
    "    val_data_loader=val_loader, \n",
    "    test_data_loader=test_loader)"
   ]
  },
  {
   "cell_type": "markdown",
   "id": "ee7fa894",
   "metadata": {},
   "source": [
    "### RNN with spaCy tokenizer and GloVe embedding"
   ]
  },
  {
   "cell_type": "code",
   "execution_count": 18,
   "id": "69618045",
   "metadata": {},
   "outputs": [],
   "source": [
    "tokenized_train_texts = [\n",
    "    [token.lemma_.lower() for token in doc if token.is_alpha]\n",
    "    for doc in nlp.pipe(train_texts, batch_size=64)\n",
    "]\n",
    "\n",
    "tokenized_val_texts = [\n",
    "    [token.lemma_.lower() for token in doc if token.is_alpha]\n",
    "    for doc in nlp.pipe(validation_texts, batch_size=64)\n",
    "]\n",
    "\n",
    "tokenized_test_texts = [\n",
    "    [token.lemma_.lower() for token in doc if token.is_alpha]\n",
    "    for doc in nlp.pipe(test_texts, batch_size=64)\n",
    "]"
   ]
  },
  {
   "cell_type": "code",
   "execution_count": 19,
   "id": "d6060c8c",
   "metadata": {},
   "outputs": [],
   "source": [
    "vocabulary = TokenizedVocabulary(tokenized_train_texts, min_freq=2)"
   ]
  },
  {
   "cell_type": "code",
   "execution_count": 23,
   "id": "de443f11",
   "metadata": {},
   "outputs": [],
   "source": [
    "embedding_matrix = load_glove_embeddings(vocabulary)"
   ]
  },
  {
   "cell_type": "code",
   "execution_count": 24,
   "id": "8d274299",
   "metadata": {},
   "outputs": [],
   "source": [
    "filtered = [\n",
    "    (torch.tensor(vocabulary.numericalize(tokens), dtype=torch.long), label)\n",
    "    for tokens, label in zip(tokenized_train_texts, train_labels)\n",
    "    if len(tokens) > 0\n",
    "]\n",
    "train_inputs, train_labels = zip(*filtered)\n",
    "\n",
    "filtered = [\n",
    "    (torch.tensor(vocabulary.numericalize(tokens), dtype=torch.long), label)\n",
    "    for tokens, label in zip(tokenized_val_texts, validation_labels)\n",
    "    if len(tokens) > 0\n",
    "]\n",
    "val_inputs, validation_labels = zip(*filtered)\n",
    "\n",
    "filtered = [\n",
    "    (torch.tensor(vocabulary.numericalize(tokens), dtype=torch.long), label)\n",
    "    for tokens, label in zip(tokenized_test_texts, test_labels)\n",
    "    if len(tokens) > 0\n",
    "]\n",
    "test_inputs, test_labels = zip(*filtered)"
   ]
  },
  {
   "cell_type": "code",
   "execution_count": 25,
   "id": "360745bb",
   "metadata": {},
   "outputs": [],
   "source": [
    "train_dataset = TokenizedSentimentDataset(train_inputs, train_labels)\n",
    "val_dataset = TokenizedSentimentDataset(val_inputs, validation_labels)\n",
    "test_dataset = TokenizedSentimentDataset(test_inputs, test_labels)\n",
    "\n",
    "train_loader = DataLoader(train_dataset, batch_size=32, shuffle=True, collate_fn=pad_collate, num_workers=8, pin_memory=True)\n",
    "val_loader = DataLoader(val_dataset, batch_size=32, shuffle=False, collate_fn=pad_collate, num_workers=8, pin_memory=True)\n",
    "test_loader = DataLoader(test_dataset, batch_size=32, shuffle=False, collate_fn=pad_collate, num_workers=8, pin_memory=True)"
   ]
  },
  {
   "cell_type": "markdown",
   "id": "5ccc6477",
   "metadata": {},
   "source": [
    "#### 5 epochs, hidden dimension 128"
   ]
  },
  {
   "cell_type": "code",
   "execution_count": null,
   "id": "2a411b7f",
   "metadata": {},
   "outputs": [
    {
     "name": "stderr",
     "output_type": "stream",
     "text": [
      "100%|██████████| 4489/4489 [00:35<00:00, 127.50it/s]\n"
     ]
    },
    {
     "name": "stdout",
     "output_type": "stream",
     "text": [
      "Epoch 1 | Train Loss: 0.5563 | Val Loss: 0.4804 | P: 0.7696 R: 0.7704 F1: 0.7699\n"
     ]
    },
    {
     "name": "stderr",
     "output_type": "stream",
     "text": [
      "100%|██████████| 4489/4489 [00:35<00:00, 127.35it/s]\n"
     ]
    },
    {
     "name": "stdout",
     "output_type": "stream",
     "text": [
      "Epoch 2 | Train Loss: 0.4972 | Val Loss: 0.4686 | P: 0.7725 R: 0.7738 F1: 0.7718\n"
     ]
    },
    {
     "name": "stderr",
     "output_type": "stream",
     "text": [
      "100%|██████████| 4489/4489 [00:34<00:00, 131.00it/s]\n"
     ]
    },
    {
     "name": "stdout",
     "output_type": "stream",
     "text": [
      "Epoch 3 | Train Loss: 0.4763 | Val Loss: 0.4582 | P: 0.7809 R: 0.7815 F1: 0.7811\n"
     ]
    },
    {
     "name": "stderr",
     "output_type": "stream",
     "text": [
      "100%|██████████| 4489/4489 [00:34<00:00, 128.90it/s]\n"
     ]
    },
    {
     "name": "stdout",
     "output_type": "stream",
     "text": [
      "Epoch 4 | Train Loss: 0.4615 | Val Loss: 0.4549 | P: 0.7844 R: 0.7842 F1: 0.7843\n"
     ]
    },
    {
     "name": "stderr",
     "output_type": "stream",
     "text": [
      "100%|██████████| 4489/4489 [00:34<00:00, 129.30it/s]\n"
     ]
    },
    {
     "name": "stdout",
     "output_type": "stream",
     "text": [
      "Epoch 5 | Train Loss: 0.4504 | Val Loss: 0.4577 | P: 0.7841 R: 0.7813 F1: 0.7821\n"
     ]
    }
   ],
   "source": [
    "model = RNNSentimentClassifier(\n",
    "    vocab_size=len(vocabulary.stoi),\n",
    "    embed_dim=100,\n",
    "    hidden_dim=128,\n",
    "    output_dim=1,\n",
    "    num_layers=2,\n",
    "    bidirectional=True,\n",
    "    dropout=0.5\n",
    ")\n",
    "\n",
    "model.embedding.weight.data.copy_(embedding_matrix)\n",
    "training_duration = train_model(model=model, train_loader=train_loader, val_loader=val_loader, epochs=5)\n",
    "\n",
    "evaluate_model(\n",
    "    model=model, \n",
    "    model_name=\"rnn\", \n",
    "    classifier_name=\"RNN\", \n",
    "    vectorizer_name=\"SpacyTokenizer-5e-128h\", \n",
    "    training_duration=training_duration, \n",
    "    val_data_loader=val_loader, \n",
    "    test_data_loader=test_loader)"
   ]
  },
  {
   "cell_type": "markdown",
   "id": "f77531eb",
   "metadata": {},
   "source": [
    "#### 10 epochs, hidden dimension 128"
   ]
  },
  {
   "cell_type": "code",
   "execution_count": 27,
   "id": "5510d22f",
   "metadata": {},
   "outputs": [
    {
     "name": "stderr",
     "output_type": "stream",
     "text": [
      "100%|██████████| 4489/4489 [00:35<00:00, 127.00it/s]\n"
     ]
    },
    {
     "name": "stdout",
     "output_type": "stream",
     "text": [
      "Epoch 1 | Train Loss: 0.5565 | Val Loss: 0.4816 | P: 0.7694 R: 0.7703 F1: 0.7697\n"
     ]
    },
    {
     "name": "stderr",
     "output_type": "stream",
     "text": [
      "100%|██████████| 4489/4489 [00:34<00:00, 130.19it/s]\n"
     ]
    },
    {
     "name": "stdout",
     "output_type": "stream",
     "text": [
      "Epoch 2 | Train Loss: 0.5018 | Val Loss: 0.4879 | P: 0.7704 R: 0.7716 F1: 0.7694\n"
     ]
    },
    {
     "name": "stderr",
     "output_type": "stream",
     "text": [
      "100%|██████████| 4489/4489 [00:34<00:00, 129.79it/s]\n"
     ]
    },
    {
     "name": "stdout",
     "output_type": "stream",
     "text": [
      "Epoch 3 | Train Loss: 0.4809 | Val Loss: 0.4634 | P: 0.7811 R: 0.7812 F1: 0.7812\n"
     ]
    },
    {
     "name": "stderr",
     "output_type": "stream",
     "text": [
      "100%|██████████| 4489/4489 [00:34<00:00, 130.00it/s]\n"
     ]
    },
    {
     "name": "stdout",
     "output_type": "stream",
     "text": [
      "Epoch 4 | Train Loss: 0.4634 | Val Loss: 0.4576 | P: 0.7802 R: 0.7814 F1: 0.7798\n"
     ]
    },
    {
     "name": "stderr",
     "output_type": "stream",
     "text": [
      "100%|██████████| 4489/4489 [00:34<00:00, 131.00it/s]\n"
     ]
    },
    {
     "name": "stdout",
     "output_type": "stream",
     "text": [
      "Epoch 5 | Train Loss: 0.4523 | Val Loss: 0.4584 | P: 0.7849 R: 0.7809 F1: 0.7819\n"
     ]
    },
    {
     "name": "stderr",
     "output_type": "stream",
     "text": [
      "100%|██████████| 4489/4489 [00:34<00:00, 129.55it/s]\n"
     ]
    },
    {
     "name": "stdout",
     "output_type": "stream",
     "text": [
      "Epoch 6 | Train Loss: 0.4440 | Val Loss: 0.4551 | P: 0.7831 R: 0.7833 F1: 0.7831\n"
     ]
    },
    {
     "name": "stderr",
     "output_type": "stream",
     "text": [
      "100%|██████████| 4489/4489 [00:34<00:00, 128.91it/s]\n"
     ]
    },
    {
     "name": "stdout",
     "output_type": "stream",
     "text": [
      "Epoch 7 | Train Loss: 0.4393 | Val Loss: 0.4650 | P: 0.7885 R: 0.7800 F1: 0.7813\n"
     ]
    },
    {
     "name": "stderr",
     "output_type": "stream",
     "text": [
      "100%|██████████| 4489/4489 [00:35<00:00, 126.27it/s]\n"
     ]
    },
    {
     "name": "stdout",
     "output_type": "stream",
     "text": [
      "Epoch 8 | Train Loss: 0.4329 | Val Loss: 0.4728 | P: 0.7868 R: 0.7732 F1: 0.7747\n"
     ]
    },
    {
     "name": "stderr",
     "output_type": "stream",
     "text": [
      "100%|██████████| 4489/4489 [00:34<00:00, 129.38it/s]\n"
     ]
    },
    {
     "name": "stdout",
     "output_type": "stream",
     "text": [
      "Epoch 9 | Train Loss: 0.4270 | Val Loss: 0.4521 | P: 0.7835 R: 0.7846 F1: 0.7836\n"
     ]
    },
    {
     "name": "stderr",
     "output_type": "stream",
     "text": [
      "100%|██████████| 4489/4489 [00:34<00:00, 129.00it/s]\n"
     ]
    },
    {
     "name": "stdout",
     "output_type": "stream",
     "text": [
      "Epoch 10 | Train Loss: 0.4252 | Val Loss: 0.4562 | P: 0.7839 R: 0.7833 F1: 0.7836\n"
     ]
    }
   ],
   "source": [
    "model = RNNSentimentClassifier(\n",
    "    vocab_size=len(vocabulary.stoi),\n",
    "    embed_dim=100,\n",
    "    hidden_dim=128,\n",
    "    output_dim=1,\n",
    "    num_layers=2,\n",
    "    bidirectional=True,\n",
    "    dropout=0.5\n",
    ")\n",
    "\n",
    "model.embedding.weight.data.copy_(embedding_matrix)\n",
    "training_duration = train_model(model=model, train_loader=train_loader, val_loader=val_loader, epochs=10)\n",
    "\n",
    "evaluate_model(\n",
    "    model=model, \n",
    "    model_name=\"rnn\", \n",
    "    classifier_name=\"RNN\", \n",
    "    vectorizer_name=\"SpacyTokenizer-10e-128h\", \n",
    "    training_duration=training_duration, \n",
    "    val_data_loader=val_loader, \n",
    "    test_data_loader=test_loader)"
   ]
  },
  {
   "cell_type": "markdown",
   "id": "ebc0f807",
   "metadata": {},
   "source": [
    "#### 5 epochs, hidden dimension 256"
   ]
  },
  {
   "cell_type": "code",
   "execution_count": 28,
   "id": "723a9a76",
   "metadata": {},
   "outputs": [
    {
     "name": "stderr",
     "output_type": "stream",
     "text": [
      "100%|██████████| 4489/4489 [00:35<00:00, 127.49it/s]\n"
     ]
    },
    {
     "name": "stdout",
     "output_type": "stream",
     "text": [
      "Epoch 1 | Train Loss: 0.5734 | Val Loss: 0.4992 | P: 0.7643 R: 0.7595 F1: 0.7607\n"
     ]
    },
    {
     "name": "stderr",
     "output_type": "stream",
     "text": [
      "100%|██████████| 4489/4489 [00:35<00:00, 127.49it/s]\n"
     ]
    },
    {
     "name": "stdout",
     "output_type": "stream",
     "text": [
      "Epoch 2 | Train Loss: 0.5213 | Val Loss: 0.4759 | P: 0.7751 R: 0.7739 F1: 0.7743\n"
     ]
    },
    {
     "name": "stderr",
     "output_type": "stream",
     "text": [
      "100%|██████████| 4489/4489 [00:35<00:00, 127.81it/s]\n"
     ]
    },
    {
     "name": "stdout",
     "output_type": "stream",
     "text": [
      "Epoch 3 | Train Loss: 0.4917 | Val Loss: 0.4816 | P: 0.7822 R: 0.7707 F1: 0.7722\n"
     ]
    },
    {
     "name": "stderr",
     "output_type": "stream",
     "text": [
      "100%|██████████| 4489/4489 [00:35<00:00, 126.01it/s]\n"
     ]
    },
    {
     "name": "stdout",
     "output_type": "stream",
     "text": [
      "Epoch 4 | Train Loss: 0.4750 | Val Loss: 0.4671 | P: 0.7772 R: 0.7774 F1: 0.7773\n"
     ]
    },
    {
     "name": "stderr",
     "output_type": "stream",
     "text": [
      "100%|██████████| 4489/4489 [00:35<00:00, 126.68it/s]\n"
     ]
    },
    {
     "name": "stdout",
     "output_type": "stream",
     "text": [
      "Epoch 5 | Train Loss: 0.4679 | Val Loss: 0.4686 | P: 0.7775 R: 0.7785 F1: 0.7764\n"
     ]
    }
   ],
   "source": [
    "model = RNNSentimentClassifier(\n",
    "    vocab_size=len(vocabulary.stoi),\n",
    "    embed_dim=100,\n",
    "    hidden_dim=256,\n",
    "    output_dim=1,\n",
    "    num_layers=2,\n",
    "    bidirectional=True,\n",
    "    dropout=0.5\n",
    ")\n",
    "\n",
    "model.embedding.weight.data.copy_(embedding_matrix)\n",
    "training_duration = train_model(model=model, train_loader=train_loader, val_loader=val_loader, epochs=5)\n",
    "\n",
    "evaluate_model(\n",
    "    model=model, \n",
    "    model_name=\"rnn\", \n",
    "    classifier_name=\"RNN\", \n",
    "    vectorizer_name=\"SpacyTokenizer-5e-256h\", \n",
    "    training_duration=training_duration, \n",
    "    val_data_loader=val_loader, \n",
    "    test_data_loader=test_loader)"
   ]
  },
  {
   "cell_type": "code",
   "execution_count": 4,
   "id": "19739aeb",
   "metadata": {},
   "outputs": [
    {
     "name": "stdout",
     "output_type": "stream",
     "text": [
      "Failed to load confusion matrix for RNN_SimpleTokenizer-10e-128h: [Errno 2] No such file or directory: 'executions/rnn\\\\RNN_SimpleTokenizer-10e-128h_val_confusion.json'\n",
      "Failed to load confusion matrix for RNN_SimpleTokenizer-5e-128h: [Errno 2] No such file or directory: 'executions/rnn\\\\RNN_SimpleTokenizer-5e-128h_val_confusion.json'\n",
      "Failed to load confusion matrix for RNN_SimpleTokenizer-5e-256h: [Errno 2] No such file or directory: 'executions/rnn\\\\RNN_SimpleTokenizer-5e-256h_val_confusion.json'\n",
      "Failed to load confusion matrix for RNN_SpacyTokenizer-10e-128h: [Errno 2] No such file or directory: 'executions/rnn\\\\RNN_SpacyTokenizer-10e-128h_val_confusion.json'\n",
      "Failed to load confusion matrix for RNN_SpacyTokenizer-5e-128h: [Errno 2] No such file or directory: 'executions/rnn\\\\RNN_SpacyTokenizer-5e-128h_val_confusion.json'\n",
      "Failed to load confusion matrix for RNN_SpacyTokenizer-5e-256h: [Errno 2] No such file or directory: 'executions/rnn\\\\RNN_SpacyTokenizer-5e-256h_val_confusion.json'\n"
     ]
    },
    {
     "name": "stderr",
     "output_type": "stream",
     "text": [
      "c:\\Users\\Seya.Schmassmann\\Code\\studium\\nlp\\nlp-project\\models\\utils\\evaluationUtility.py:172: FutureWarning: \n",
      "\n",
      "Passing `palette` without assigning `hue` is deprecated and will be removed in v0.14.0. Assign the `y` variable to `hue` and set `legend=False` for the same effect.\n",
      "\n",
      "  sns.barplot(x=metric, y=\"Model\", data=df_sorted, palette=\"viridis\", ax=ax)\n",
      "c:\\Users\\Seya.Schmassmann\\Code\\studium\\nlp\\nlp-project\\models\\utils\\evaluationUtility.py:172: FutureWarning: \n",
      "\n",
      "Passing `palette` without assigning `hue` is deprecated and will be removed in v0.14.0. Assign the `y` variable to `hue` and set `legend=False` for the same effect.\n",
      "\n",
      "  sns.barplot(x=metric, y=\"Model\", data=df_sorted, palette=\"viridis\", ax=ax)\n",
      "c:\\Users\\Seya.Schmassmann\\Code\\studium\\nlp\\nlp-project\\models\\utils\\evaluationUtility.py:172: FutureWarning: \n",
      "\n",
      "Passing `palette` without assigning `hue` is deprecated and will be removed in v0.14.0. Assign the `y` variable to `hue` and set `legend=False` for the same effect.\n",
      "\n",
      "  sns.barplot(x=metric, y=\"Model\", data=df_sorted, palette=\"viridis\", ax=ax)\n",
      "c:\\Users\\Seya.Schmassmann\\Code\\studium\\nlp\\nlp-project\\models\\utils\\evaluationUtility.py:172: FutureWarning: \n",
      "\n",
      "Passing `palette` without assigning `hue` is deprecated and will be removed in v0.14.0. Assign the `y` variable to `hue` and set `legend=False` for the same effect.\n",
      "\n",
      "  sns.barplot(x=metric, y=\"Model\", data=df_sorted, palette=\"viridis\", ax=ax)\n",
      "c:\\Users\\Seya.Schmassmann\\Code\\studium\\nlp\\nlp-project\\models\\utils\\evaluationUtility.py:172: FutureWarning: \n",
      "\n",
      "Passing `palette` without assigning `hue` is deprecated and will be removed in v0.14.0. Assign the `y` variable to `hue` and set `legend=False` for the same effect.\n",
      "\n",
      "  sns.barplot(x=metric, y=\"Model\", data=df_sorted, palette=\"viridis\", ax=ax)\n",
      "c:\\Users\\Seya.Schmassmann\\Code\\studium\\nlp\\nlp-project\\models\\utils\\evaluationUtility.py:172: FutureWarning: \n",
      "\n",
      "Passing `palette` without assigning `hue` is deprecated and will be removed in v0.14.0. Assign the `y` variable to `hue` and set `legend=False` for the same effect.\n",
      "\n",
      "  sns.barplot(x=metric, y=\"Model\", data=df_sorted, palette=\"viridis\", ax=ax)\n",
      "c:\\Users\\Seya.Schmassmann\\Code\\studium\\nlp\\nlp-project\\models\\utils\\evaluationUtility.py:172: FutureWarning: \n",
      "\n",
      "Passing `palette` without assigning `hue` is deprecated and will be removed in v0.14.0. Assign the `y` variable to `hue` and set `legend=False` for the same effect.\n",
      "\n",
      "  sns.barplot(x=metric, y=\"Model\", data=df_sorted, palette=\"viridis\", ax=ax)\n",
      "c:\\Users\\Seya.Schmassmann\\Code\\studium\\nlp\\nlp-project\\models\\utils\\evaluationUtility.py:172: FutureWarning: \n",
      "\n",
      "Passing `palette` without assigning `hue` is deprecated and will be removed in v0.14.0. Assign the `y` variable to `hue` and set `legend=False` for the same effect.\n",
      "\n",
      "  sns.barplot(x=metric, y=\"Model\", data=df_sorted, palette=\"viridis\", ax=ax)\n",
      "c:\\Users\\Seya.Schmassmann\\Code\\studium\\nlp\\nlp-project\\models\\utils\\evaluationUtility.py:172: FutureWarning: \n",
      "\n",
      "Passing `palette` without assigning `hue` is deprecated and will be removed in v0.14.0. Assign the `y` variable to `hue` and set `legend=False` for the same effect.\n",
      "\n",
      "  sns.barplot(x=metric, y=\"Model\", data=df_sorted, palette=\"viridis\", ax=ax)\n",
      "c:\\Users\\Seya.Schmassmann\\Code\\studium\\nlp\\nlp-project\\models\\utils\\evaluationUtility.py:172: FutureWarning: \n",
      "\n",
      "Passing `palette` without assigning `hue` is deprecated and will be removed in v0.14.0. Assign the `y` variable to `hue` and set `legend=False` for the same effect.\n",
      "\n",
      "  sns.barplot(x=metric, y=\"Model\", data=df_sorted, palette=\"viridis\", ax=ax)\n"
     ]
    },
    {
     "data": {
      "image/png": "[encoded data removed]",
      "text/plain": [
       "<Figure size 1200x2000 with 10 Axes>"
      ]
     },
     "metadata": {},
     "output_type": "display_data"
    },
    {
     "ename": "ValueError",
     "evalue": "Number of rows must be a positive integer, not 0",
     "output_type": "error",
     "traceback": [
      "\u001b[31m---------------------------------------------------------------------------\u001b[39m",
      "\u001b[31mValueError\u001b[39m                                Traceback (most recent call last)",
      "\u001b[36mCell\u001b[39m\u001b[36m \u001b[39m\u001b[32mIn[4]\u001b[39m\u001b[32m, line 1\u001b[39m\n\u001b[32m----> \u001b[39m\u001b[32m1\u001b[39m \u001b[43manalyze_all_results\u001b[49m\u001b[43m(\u001b[49m\u001b[43mresults_dir\u001b[49m\u001b[43m=\u001b[49m\u001b[33;43m\"\u001b[39;49m\u001b[33;43mexecutions/rnn\u001b[39;49m\u001b[33;43m\"\u001b[39;49m\u001b[43m)\u001b[49m\n",
      "\u001b[36mFile \u001b[39m\u001b[32mc:\\Users\\Seya.Schmassmann\\Code\\studium\\nlp\\nlp-project\\models\\utils\\evaluationUtility.py:198\u001b[39m, in \u001b[36manalyze_all_results\u001b[39m\u001b[34m(results_dir)\u001b[39m\n\u001b[32m    195\u001b[39m cols = \u001b[32m3\u001b[39m  \u001b[38;5;66;03m# 3 matrices per row\u001b[39;00m\n\u001b[32m    196\u001b[39m rows = math.ceil(num_models * \u001b[32m2\u001b[39m / cols)  \u001b[38;5;66;03m# 2 matrices (val + test) per model\u001b[39;00m\n\u001b[32m--> \u001b[39m\u001b[32m198\u001b[39m fig, axes = \u001b[43mplt\u001b[49m\u001b[43m.\u001b[49m\u001b[43msubplots\u001b[49m\u001b[43m(\u001b[49m\u001b[43mrows\u001b[49m\u001b[43m,\u001b[49m\u001b[43m \u001b[49m\u001b[43mcols\u001b[49m\u001b[43m,\u001b[49m\u001b[43m \u001b[49m\u001b[43mfigsize\u001b[49m\u001b[43m=\u001b[49m\u001b[43m(\u001b[49m\u001b[43mcols\u001b[49m\u001b[43m \u001b[49m\u001b[43m*\u001b[49m\u001b[43m \u001b[49m\u001b[32;43m4\u001b[39;49m\u001b[43m,\u001b[49m\u001b[43m \u001b[49m\u001b[43mrows\u001b[49m\u001b[43m \u001b[49m\u001b[43m*\u001b[49m\u001b[43m \u001b[49m\u001b[32;43m3\u001b[39;49m\u001b[43m)\u001b[49m\u001b[43m)\u001b[49m\n\u001b[32m    199\u001b[39m axes = axes.flatten()\n\u001b[32m    201\u001b[39m i = \u001b[32m0\u001b[39m\n",
      "\u001b[36mFile \u001b[39m\u001b[32mc:\\Python312\\Lib\\site-packages\\matplotlib\\pyplot.py:1770\u001b[39m, in \u001b[36msubplots\u001b[39m\u001b[34m(nrows, ncols, sharex, sharey, squeeze, width_ratios, height_ratios, subplot_kw, gridspec_kw, **fig_kw)\u001b[39m\n\u001b[32m   1625\u001b[39m \u001b[38;5;250m\u001b[39m\u001b[33;03m\"\"\"\u001b[39;00m\n\u001b[32m   1626\u001b[39m \u001b[33;03mCreate a figure and a set of subplots.\u001b[39;00m\n\u001b[32m   1627\u001b[39m \n\u001b[32m   (...)\u001b[39m\u001b[32m   1767\u001b[39m \n\u001b[32m   1768\u001b[39m \u001b[33;03m\"\"\"\u001b[39;00m\n\u001b[32m   1769\u001b[39m fig = figure(**fig_kw)\n\u001b[32m-> \u001b[39m\u001b[32m1770\u001b[39m axs = \u001b[43mfig\u001b[49m\u001b[43m.\u001b[49m\u001b[43msubplots\u001b[49m\u001b[43m(\u001b[49m\u001b[43mnrows\u001b[49m\u001b[43m=\u001b[49m\u001b[43mnrows\u001b[49m\u001b[43m,\u001b[49m\u001b[43m \u001b[49m\u001b[43mncols\u001b[49m\u001b[43m=\u001b[49m\u001b[43mncols\u001b[49m\u001b[43m,\u001b[49m\u001b[43m \u001b[49m\u001b[43msharex\u001b[49m\u001b[43m=\u001b[49m\u001b[43msharex\u001b[49m\u001b[43m,\u001b[49m\u001b[43m \u001b[49m\u001b[43msharey\u001b[49m\u001b[43m=\u001b[49m\u001b[43msharey\u001b[49m\u001b[43m,\u001b[49m\n\u001b[32m   1771\u001b[39m \u001b[43m                   \u001b[49m\u001b[43msqueeze\u001b[49m\u001b[43m=\u001b[49m\u001b[43msqueeze\u001b[49m\u001b[43m,\u001b[49m\u001b[43m \u001b[49m\u001b[43msubplot_kw\u001b[49m\u001b[43m=\u001b[49m\u001b[43msubplot_kw\u001b[49m\u001b[43m,\u001b[49m\n\u001b[32m   1772\u001b[39m \u001b[43m                   \u001b[49m\u001b[43mgridspec_kw\u001b[49m\u001b[43m=\u001b[49m\u001b[43mgridspec_kw\u001b[49m\u001b[43m,\u001b[49m\u001b[43m \u001b[49m\u001b[43mheight_ratios\u001b[49m\u001b[43m=\u001b[49m\u001b[43mheight_ratios\u001b[49m\u001b[43m,\u001b[49m\n\u001b[32m   1773\u001b[39m \u001b[43m                   \u001b[49m\u001b[43mwidth_ratios\u001b[49m\u001b[43m=\u001b[49m\u001b[43mwidth_ratios\u001b[49m\u001b[43m)\u001b[49m\n\u001b[32m   1774\u001b[39m \u001b[38;5;28;01mreturn\u001b[39;00m fig, axs\n",
      "\u001b[36mFile \u001b[39m\u001b[32mc:\\Python312\\Lib\\site-packages\\matplotlib\\figure.py:918\u001b[39m, in \u001b[36mFigureBase.subplots\u001b[39m\u001b[34m(self, nrows, ncols, sharex, sharey, squeeze, width_ratios, height_ratios, subplot_kw, gridspec_kw)\u001b[39m\n\u001b[32m    914\u001b[39m         \u001b[38;5;28;01mraise\u001b[39;00m \u001b[38;5;167;01mValueError\u001b[39;00m(\u001b[33m\"\u001b[39m\u001b[33m'\u001b[39m\u001b[33mwidth_ratios\u001b[39m\u001b[33m'\u001b[39m\u001b[33m must not be defined both as \u001b[39m\u001b[33m\"\u001b[39m\n\u001b[32m    915\u001b[39m                          \u001b[33m\"\u001b[39m\u001b[33mparameter and as key in \u001b[39m\u001b[33m'\u001b[39m\u001b[33mgridspec_kw\u001b[39m\u001b[33m'\u001b[39m\u001b[33m\"\u001b[39m)\n\u001b[32m    916\u001b[39m     gridspec_kw[\u001b[33m'\u001b[39m\u001b[33mwidth_ratios\u001b[39m\u001b[33m'\u001b[39m] = width_ratios\n\u001b[32m--> \u001b[39m\u001b[32m918\u001b[39m gs = \u001b[38;5;28;43mself\u001b[39;49m\u001b[43m.\u001b[49m\u001b[43madd_gridspec\u001b[49m\u001b[43m(\u001b[49m\u001b[43mnrows\u001b[49m\u001b[43m,\u001b[49m\u001b[43m \u001b[49m\u001b[43mncols\u001b[49m\u001b[43m,\u001b[49m\u001b[43m \u001b[49m\u001b[43mfigure\u001b[49m\u001b[43m=\u001b[49m\u001b[38;5;28;43mself\u001b[39;49m\u001b[43m,\u001b[49m\u001b[43m \u001b[49m\u001b[43m*\u001b[49m\u001b[43m*\u001b[49m\u001b[43mgridspec_kw\u001b[49m\u001b[43m)\u001b[49m\n\u001b[32m    919\u001b[39m axs = gs.subplots(sharex=sharex, sharey=sharey, squeeze=squeeze,\n\u001b[32m    920\u001b[39m                   subplot_kw=subplot_kw)\n\u001b[32m    921\u001b[39m \u001b[38;5;28;01mreturn\u001b[39;00m axs\n",
      "\u001b[36mFile \u001b[39m\u001b[32mc:\\Python312\\Lib\\site-packages\\matplotlib\\figure.py:1600\u001b[39m, in \u001b[36mFigureBase.add_gridspec\u001b[39m\u001b[34m(self, nrows, ncols, **kwargs)\u001b[39m\n\u001b[32m   1557\u001b[39m \u001b[38;5;250m\u001b[39m\u001b[33;03m\"\"\"\u001b[39;00m\n\u001b[32m   1558\u001b[39m \u001b[33;03mLow-level API for creating a `.GridSpec` that has this figure as a parent.\u001b[39;00m\n\u001b[32m   1559\u001b[39m \n\u001b[32m   (...)\u001b[39m\u001b[32m   1596\u001b[39m \n\u001b[32m   1597\u001b[39m \u001b[33;03m\"\"\"\u001b[39;00m\n\u001b[32m   1599\u001b[39m _ = kwargs.pop(\u001b[33m'\u001b[39m\u001b[33mfigure\u001b[39m\u001b[33m'\u001b[39m, \u001b[38;5;28;01mNone\u001b[39;00m)  \u001b[38;5;66;03m# pop in case user has added this...\u001b[39;00m\n\u001b[32m-> \u001b[39m\u001b[32m1600\u001b[39m gs = \u001b[43mGridSpec\u001b[49m\u001b[43m(\u001b[49m\u001b[43mnrows\u001b[49m\u001b[43m=\u001b[49m\u001b[43mnrows\u001b[49m\u001b[43m,\u001b[49m\u001b[43m \u001b[49m\u001b[43mncols\u001b[49m\u001b[43m=\u001b[49m\u001b[43mncols\u001b[49m\u001b[43m,\u001b[49m\u001b[43m \u001b[49m\u001b[43mfigure\u001b[49m\u001b[43m=\u001b[49m\u001b[38;5;28;43mself\u001b[39;49m\u001b[43m,\u001b[49m\u001b[43m \u001b[49m\u001b[43m*\u001b[49m\u001b[43m*\u001b[49m\u001b[43mkwargs\u001b[49m\u001b[43m)\u001b[49m\n\u001b[32m   1601\u001b[39m \u001b[38;5;28;01mreturn\u001b[39;00m gs\n",
      "\u001b[36mFile \u001b[39m\u001b[32mc:\\Python312\\Lib\\site-packages\\matplotlib\\gridspec.py:363\u001b[39m, in \u001b[36mGridSpec.__init__\u001b[39m\u001b[34m(self, nrows, ncols, figure, left, bottom, right, top, wspace, hspace, width_ratios, height_ratios)\u001b[39m\n\u001b[32m    360\u001b[39m \u001b[38;5;28mself\u001b[39m.hspace = hspace\n\u001b[32m    361\u001b[39m \u001b[38;5;28mself\u001b[39m.figure = figure\n\u001b[32m--> \u001b[39m\u001b[32m363\u001b[39m \u001b[38;5;28;43msuper\u001b[39;49m\u001b[43m(\u001b[49m\u001b[43m)\u001b[49m\u001b[43m.\u001b[49m\u001b[34;43m__init__\u001b[39;49m\u001b[43m(\u001b[49m\u001b[43mnrows\u001b[49m\u001b[43m,\u001b[49m\u001b[43m \u001b[49m\u001b[43mncols\u001b[49m\u001b[43m,\u001b[49m\n\u001b[32m    364\u001b[39m \u001b[43m                 \u001b[49m\u001b[43mwidth_ratios\u001b[49m\u001b[43m=\u001b[49m\u001b[43mwidth_ratios\u001b[49m\u001b[43m,\u001b[49m\n\u001b[32m    365\u001b[39m \u001b[43m                 \u001b[49m\u001b[43mheight_ratios\u001b[49m\u001b[43m=\u001b[49m\u001b[43mheight_ratios\u001b[49m\u001b[43m)\u001b[49m\n",
      "\u001b[36mFile \u001b[39m\u001b[32mc:\\Python312\\Lib\\site-packages\\matplotlib\\gridspec.py:48\u001b[39m, in \u001b[36mGridSpecBase.__init__\u001b[39m\u001b[34m(self, nrows, ncols, height_ratios, width_ratios)\u001b[39m\n\u001b[32m     33\u001b[39m \u001b[38;5;250m\u001b[39m\u001b[33;03m\"\"\"\u001b[39;00m\n\u001b[32m     34\u001b[39m \u001b[33;03mParameters\u001b[39;00m\n\u001b[32m     35\u001b[39m \u001b[33;03m----------\u001b[39;00m\n\u001b[32m   (...)\u001b[39m\u001b[32m     45\u001b[39m \u001b[33;03m    If not given, all rows will have the same height.\u001b[39;00m\n\u001b[32m     46\u001b[39m \u001b[33;03m\"\"\"\u001b[39;00m\n\u001b[32m     47\u001b[39m \u001b[38;5;28;01mif\u001b[39;00m \u001b[38;5;129;01mnot\u001b[39;00m \u001b[38;5;28misinstance\u001b[39m(nrows, Integral) \u001b[38;5;129;01mor\u001b[39;00m nrows <= \u001b[32m0\u001b[39m:\n\u001b[32m---> \u001b[39m\u001b[32m48\u001b[39m     \u001b[38;5;28;01mraise\u001b[39;00m \u001b[38;5;167;01mValueError\u001b[39;00m(\n\u001b[32m     49\u001b[39m         \u001b[33mf\u001b[39m\u001b[33m\"\u001b[39m\u001b[33mNumber of rows must be a positive integer, not \u001b[39m\u001b[38;5;132;01m{\u001b[39;00mnrows\u001b[38;5;132;01m!r}\u001b[39;00m\u001b[33m\"\u001b[39m)\n\u001b[32m     50\u001b[39m \u001b[38;5;28;01mif\u001b[39;00m \u001b[38;5;129;01mnot\u001b[39;00m \u001b[38;5;28misinstance\u001b[39m(ncols, Integral) \u001b[38;5;129;01mor\u001b[39;00m ncols <= \u001b[32m0\u001b[39m:\n\u001b[32m     51\u001b[39m     \u001b[38;5;28;01mraise\u001b[39;00m \u001b[38;5;167;01mValueError\u001b[39;00m(\n\u001b[32m     52\u001b[39m         \u001b[33mf\u001b[39m\u001b[33m\"\u001b[39m\u001b[33mNumber of columns must be a positive integer, not \u001b[39m\u001b[38;5;132;01m{\u001b[39;00mncols\u001b[38;5;132;01m!r}\u001b[39;00m\u001b[33m\"\u001b[39m)\n",
      "\u001b[31mValueError\u001b[39m: Number of rows must be a positive integer, not 0"
     ]
    },
    {
     "data": {
      "text/plain": [
       "<Figure size 1200x0 with 0 Axes>"
      ]
     },
     "metadata": {},
     "output_type": "display_data"
    }
   ],
   "source": [
    "analyze_all_results(results_dir=\"executions/rnn\")"
   ]
  }
 ],
 "metadata": {
  "kernelspec": {
   "display_name": "Python 3",
   "language": "python",
   "name": "python3"
  },
  "language_info": {
   "codemirror_mode": {
    "name": "ipython",
    "version": 3
   },
   "file_extension": ".py",
   "mimetype": "text/x-python",
   "name": "python",
   "nbconvert_exporter": "python",
   "pygments_lexer": "ipython3",
   "version": "3.12.9"
  }
 },
 "nbformat": 4,
 "nbformat_minor": 5
}
