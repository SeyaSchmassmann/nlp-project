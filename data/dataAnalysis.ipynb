{
 "cells": [
  {
   "cell_type": "markdown",
   "id": "4b8cdc75",
   "metadata": {},
   "source": [
    "# Data Analysis"
   ]
  },
  {
   "cell_type": "markdown",
   "id": "3f1b1073",
   "metadata": {},
   "source": [
    "## Imports"
   ]
  },
  {
   "cell_type": "code",
   "execution_count": 1,
   "id": "8169cdf3",
   "metadata": {},
   "outputs": [],
   "source": [
    "import pandas as pd\n",
    "import os\n",
    "import matplotlib.pyplot as plt\n",
    "import seaborn as sns"
   ]
  },
  {
   "cell_type": "code",
   "execution_count": 2,
   "id": "3ccf711b",
   "metadata": {},
   "outputs": [],
   "source": [
    "IS_PAPERSPACE = os.getcwd().startswith('/notebooks')"
   ]
  },
  {
   "cell_type": "markdown",
   "id": "f20a5d72",
   "metadata": {},
   "source": [
    "## Data Loading"
   ]
  },
  {
   "cell_type": "code",
   "execution_count": 3,
   "id": "300ba441",
   "metadata": {},
   "outputs": [],
   "source": [
    "df_traindata = pd.read_csv(\"data/train.csv\") if IS_PAPERSPACE else pd.read_csv(\"../data/train.csv\")\n",
    "df_testdata = pd.read_csv(\"data/test.csv\") if IS_PAPERSPACE else pd.read_csv(\"../data/test.csv\")"
   ]
  },
  {
   "cell_type": "markdown",
   "id": "adfa70ca",
   "metadata": {},
   "source": [
    "## Analysis"
   ]
  },
  {
   "cell_type": "code",
   "execution_count": 9,
   "id": "eddcd027",
   "metadata": {},
   "outputs": [
    {
     "name": "stdout",
     "output_type": "stream",
     "text": [
      "Train Data Sample:\n"
     ]
    },
    {
     "data": {
      "application/vnd.microsoft.datawrangler.viewer.v0+json": {
       "columns": [
        {
         "name": "index",
         "rawType": "int64",
         "type": "integer"
        },
        {
         "name": "sentiment",
         "rawType": "int64",
         "type": "integer"
        },
        {
         "name": "text",
         "rawType": "object",
         "type": "string"
        }
       ],
       "conversionMethod": "pd.DataFrame",
       "ref": "323e5398-9e46-4674-9c0b-1b052312c807",
       "rows": [
        [
         "0",
         "1",
         "@tonigirl14 love you toooooo!! TG  LOL Gngb"
        ],
        [
         "1",
         "0",
         "@jun6lee I told myself: Don't click on this link. But I just did. Booohooo "
        ],
        [
         "2",
         "0",
         "The man who rendered his voice to Mickey Mouse expired. He was 62 years old!  i'm a Mickey fan!"
        ],
        [
         "3",
         "1",
         "@Shontelle_Layne I think red would be nice.  Or maybe you could do a mix of red and black. "
        ],
        [
         "4",
         "0",
         "@Silverlines - I guess. 'Cause one of her tweets says she is confused. "
        ]
       ],
       "shape": {
        "columns": 2,
        "rows": 5
       }
      },
      "text/html": [
       "<div>\n",
       "<style scoped>\n",
       "    .dataframe tbody tr th:only-of-type {\n",
       "        vertical-align: middle;\n",
       "    }\n",
       "\n",
       "    .dataframe tbody tr th {\n",
       "        vertical-align: top;\n",
       "    }\n",
       "\n",
       "    .dataframe thead th {\n",
       "        text-align: right;\n",
       "    }\n",
       "</style>\n",
       "<table border=\"1\" class=\"dataframe\">\n",
       "  <thead>\n",
       "    <tr style=\"text-align: right;\">\n",
       "      <th></th>\n",
       "      <th>sentiment</th>\n",
       "      <th>text</th>\n",
       "    </tr>\n",
       "  </thead>\n",
       "  <tbody>\n",
       "    <tr>\n",
       "      <th>0</th>\n",
       "      <td>1</td>\n",
       "      <td>@tonigirl14 love you toooooo!! TG  LOL Gngb</td>\n",
       "    </tr>\n",
       "    <tr>\n",
       "      <th>1</th>\n",
       "      <td>0</td>\n",
       "      <td>@jun6lee I told myself: Don't click on this li...</td>\n",
       "    </tr>\n",
       "    <tr>\n",
       "      <th>2</th>\n",
       "      <td>0</td>\n",
       "      <td>The man who rendered his voice to Mickey Mouse...</td>\n",
       "    </tr>\n",
       "    <tr>\n",
       "      <th>3</th>\n",
       "      <td>1</td>\n",
       "      <td>@Shontelle_Layne I think red would be nice.  O...</td>\n",
       "    </tr>\n",
       "    <tr>\n",
       "      <th>4</th>\n",
       "      <td>0</td>\n",
       "      <td>@Silverlines - I guess. 'Cause one of her twee...</td>\n",
       "    </tr>\n",
       "  </tbody>\n",
       "</table>\n",
       "</div>"
      ],
      "text/plain": [
       "   sentiment                                               text\n",
       "0          1        @tonigirl14 love you toooooo!! TG  LOL Gngb\n",
       "1          0  @jun6lee I told myself: Don't click on this li...\n",
       "2          0  The man who rendered his voice to Mickey Mouse...\n",
       "3          1  @Shontelle_Layne I think red would be nice.  O...\n",
       "4          0  @Silverlines - I guess. 'Cause one of her twee..."
      ]
     },
     "metadata": {},
     "output_type": "display_data"
    },
    {
     "name": "stdout",
     "output_type": "stream",
     "text": [
      "Test Data Sample:\n"
     ]
    },
    {
     "data": {
      "application/vnd.microsoft.datawrangler.viewer.v0+json": {
       "columns": [
        {
         "name": "index",
         "rawType": "int64",
         "type": "integer"
        },
        {
         "name": "sentiment",
         "rawType": "int64",
         "type": "integer"
        },
        {
         "name": "text",
         "rawType": "object",
         "type": "string"
        }
       ],
       "conversionMethod": "pd.DataFrame",
       "ref": "49c4dcd0-2ac6-44b6-b568-1ca9f13fec9c",
       "rows": [
        [
         "0",
         "0",
         "@SunnySoPretty Ugh me too "
        ],
        [
         "1",
         "0",
         "@Tracenater hey there chicky how are u? what u doin atm?? anything exciting?? I'm not-I'm bored as  lolz"
        ],
        [
         "2",
         "0",
         "ferrari on soft  know they are in trouble  come on kimi!"
        ],
        [
         "3",
         "0",
         "Want a new phone "
        ],
        [
         "4",
         "1",
         "@Teddy_Salad well sweetie you already r Teddy, don't u know that? At least that's my impression &amp; where lacking, well, just keep on it! "
        ]
       ],
       "shape": {
        "columns": 2,
        "rows": 5
       }
      },
      "text/html": [
       "<div>\n",
       "<style scoped>\n",
       "    .dataframe tbody tr th:only-of-type {\n",
       "        vertical-align: middle;\n",
       "    }\n",
       "\n",
       "    .dataframe tbody tr th {\n",
       "        vertical-align: top;\n",
       "    }\n",
       "\n",
       "    .dataframe thead th {\n",
       "        text-align: right;\n",
       "    }\n",
       "</style>\n",
       "<table border=\"1\" class=\"dataframe\">\n",
       "  <thead>\n",
       "    <tr style=\"text-align: right;\">\n",
       "      <th></th>\n",
       "      <th>sentiment</th>\n",
       "      <th>text</th>\n",
       "    </tr>\n",
       "  </thead>\n",
       "  <tbody>\n",
       "    <tr>\n",
       "      <th>0</th>\n",
       "      <td>0</td>\n",
       "      <td>@SunnySoPretty Ugh me too</td>\n",
       "    </tr>\n",
       "    <tr>\n",
       "      <th>1</th>\n",
       "      <td>0</td>\n",
       "      <td>@Tracenater hey there chicky how are u? what u...</td>\n",
       "    </tr>\n",
       "    <tr>\n",
       "      <th>2</th>\n",
       "      <td>0</td>\n",
       "      <td>ferrari on soft  know they are in trouble  com...</td>\n",
       "    </tr>\n",
       "    <tr>\n",
       "      <th>3</th>\n",
       "      <td>0</td>\n",
       "      <td>Want a new phone</td>\n",
       "    </tr>\n",
       "    <tr>\n",
       "      <th>4</th>\n",
       "      <td>1</td>\n",
       "      <td>@Teddy_Salad well sweetie you already r Teddy,...</td>\n",
       "    </tr>\n",
       "  </tbody>\n",
       "</table>\n",
       "</div>"
      ],
      "text/plain": [
       "   sentiment                                               text\n",
       "0          0                         @SunnySoPretty Ugh me too \n",
       "1          0  @Tracenater hey there chicky how are u? what u...\n",
       "2          0  ferrari on soft  know they are in trouble  com...\n",
       "3          0                                  Want a new phone \n",
       "4          1  @Teddy_Salad well sweetie you already r Teddy,..."
      ]
     },
     "metadata": {},
     "output_type": "display_data"
    }
   ],
   "source": [
    "print(\"Train Data Sample:\")\n",
    "display(df_traindata.head())\n",
    "\n",
    "print(\"Test Data Sample:\")\n",
    "display(df_testdata.head())"
   ]
  },
  {
   "cell_type": "code",
   "execution_count": 10,
   "id": "b0578f1e",
   "metadata": {},
   "outputs": [
    {
     "name": "stdout",
     "output_type": "stream",
     "text": [
      "Number of training samples: 179995\n",
      "Number of test samples: 44999\n"
     ]
    }
   ],
   "source": [
    "print(f\"Number of training samples: {len(df_traindata)}\")\n",
    "print(f\"Number of test samples: {len(df_testdata)}\")"
   ]
  },
  {
   "cell_type": "code",
   "execution_count": 13,
   "id": "cce6b1fb",
   "metadata": {},
   "outputs": [
    {
     "data": {
      "image/png": "[encoded data removed]",
      "text/plain": [
       "<Figure size 600x400 with 1 Axes>"
      ]
     },
     "metadata": {},
     "output_type": "display_data"
    },
    {
     "data": {
      "image/png": "[encoded data removed]",
      "text/plain": [
       "<Figure size 600x400 with 1 Axes>"
      ]
     },
     "metadata": {},
     "output_type": "display_data"
    }
   ],
   "source": [
    "def displayDistribution(df, datasetName):\n",
    "    plt.figure(figsize=(6,4))\n",
    "    sns.countplot(data=df, x=\"sentiment\")\n",
    "    plt.title(f'Sentiment Distribution in {datasetName}')\n",
    "    plt.xlabel(\"Sentiment\")\n",
    "    plt.ylabel('Count')\n",
    "    plt.show()\n",
    "\n",
    "displayDistribution(df_traindata, \"Train Data\")\n",
    "displayDistribution(df_testdata, \"Test Data\")"
   ]
  }
 ],
 "metadata": {
  "kernelspec": {
   "display_name": "Python 3",
   "language": "python",
   "name": "python3"
  },
  "language_info": {
   "codemirror_mode": {
    "name": "ipython",
    "version": 3
   },
   "file_extension": ".py",
   "mimetype": "text/x-python",
   "name": "python",
   "nbconvert_exporter": "python",
   "pygments_lexer": "ipython3",
   "version": "3.11.9"
  }
 },
 "nbformat": 4,
 "nbformat_minor": 5
}
